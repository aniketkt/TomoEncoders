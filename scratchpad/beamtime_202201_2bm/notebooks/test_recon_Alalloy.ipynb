{
 "cells": [
  {
   "cell_type": "code",
   "execution_count": null,
   "id": "a3b8aee4",
   "metadata": {},
   "outputs": [],
   "source": [
    "import matplotlib.pyplot as plt\n",
    "import numpy as np\n",
    "from tomo_encoders.reconstruction.recon import recon_all, fbp_filter, rec_all\n",
    "from tomo_encoders import DataFile\n",
    "import dxchange\n",
    "from tomo_encoders import viewer\n",
    "import cupy as cp\n",
    "from tomo_encoders.misc.voxel_processing import modified_autocontrast"
   ]
  },
  {
   "cell_type": "code",
   "execution_count": null,
   "id": "d0d92d5a",
   "metadata": {},
   "outputs": [],
   "source": [
    "from tomo_encoders.misc.viewer import add_scalebar"
   ]
  },
  {
   "cell_type": "code",
   "execution_count": null,
   "id": "4a5248a6",
   "metadata": {},
   "outputs": [],
   "source": [
    "fpath = '/data/2022-03/Tekawade'\n",
    "centers = {'AlSi10mgtip7mm1x0p1exp_097.h5' : 1027, \\\n",
    "           'AlSi10mgtip7mm2x0p2exp_098.h5' : 1226, \\\n",
    "            'AlSi10mgtip7mm5x0p4exp_099.h5': 931.5}"
   ]
  },
  {
   "cell_type": "code",
   "execution_count": null,
   "id": "2ef946bc",
   "metadata": {
    "scrolled": false
   },
   "outputs": [],
   "source": [
    "def recon_and_show(fname, center, res, bar_len):\n",
    "    full_path = os.path.join(fpath, fname)\n",
    "    projs, flat, dark, theta = dxchange.read_aps_32id(full_path, sino = (1024,1024+1))\n",
    "    flat = np.median(flat, axis = 0).astype(np.float32)\n",
    "    dark = np.median(dark, axis = 0).astype(np.float32)\n",
    "    projs = projs.astype(np.float32)\n",
    "    ntheta, nz, n = projs.shape\n",
    "    print(f\"shape of projection array: {projs.shape}\")\n",
    "    print(f'shape of dark: {dark.shape} and flat: {flat.shape}')\n",
    "    vol = recon_all(projs, theta, center, 1, dark, flat)\n",
    "    h = modified_autocontrast(vol, s = 0.01)\n",
    "    vol = np.clip(vol, *h)\n",
    "    fig, ax = plt.subplots(1,1, figsize = (16,16))\n",
    "    ax.imshow(vol[0,...], cmap = 'gray')    \n",
    "    add_scalebar(ax, bar_len, res)\n",
    "    return"
   ]
  },
  {
   "cell_type": "code",
   "execution_count": null,
   "id": "b2455a3f",
   "metadata": {},
   "outputs": [],
   "source": [
    "fname = 'AlSi10mgtip7mm1x0p1exp_097.h5'\n",
    "recon_and_show(fname, centers[fname], 3.13, 1000)"
   ]
  },
  {
   "cell_type": "code",
   "execution_count": null,
   "id": "b816c011",
   "metadata": {
    "scrolled": false
   },
   "outputs": [],
   "source": [
    "fname = 'AlSi10mgtip7mm5x0p4exp_099.h5'\n",
    "recon_and_show(fname, centers[fname], 0.69, 200)"
   ]
  },
  {
   "cell_type": "code",
   "execution_count": null,
   "id": "58f75c33",
   "metadata": {
    "scrolled": false
   },
   "outputs": [],
   "source": [
    "# fname = 'AlSi10mgtip7mm5x0p4exp_099.h5'\n",
    "# full_path = os.path.join(fpath, fname)\n",
    "# projs, flat, dark, theta = dxchange.read_aps_32id(full_path, sino = (1024,1024+1))\n",
    "# flat = np.median(flat, axis = 0).astype(np.float32)\n",
    "# dark = np.median(dark, axis = 0).astype(np.float32)\n",
    "# projs = projs.astype(np.float32)\n",
    "# ntheta, nz, n = projs.shape\n",
    "# print(f\"shape of projection array: {projs.shape}\")\n",
    "# print(f'shape of dark: {dark.shape} and flat: {flat.shape}')\n",
    "\n",
    "# center_guess = np.linspace(-10,10,20) + 930\n",
    "# for center in center_guess:\n",
    "#     vol = recon_all(projs, theta, center, 1, dark, flat)\n",
    "#     h = modified_autocontrast(vol, s = 0.01)\n",
    "#     vol = np.clip(vol, *h)\n",
    "#     fig, ax = plt.subplots(1,1, figsize = (8,8))\n",
    "#     ax.imshow(vol[0], cmap = 'gray')    \n",
    "#     ax.set_title(f\"center = {center}\")"
   ]
  },
  {
   "cell_type": "code",
   "execution_count": null,
   "id": "d7123f08",
   "metadata": {},
   "outputs": [],
   "source": []
  },
  {
   "cell_type": "code",
   "execution_count": null,
   "id": "7eae9b65",
   "metadata": {},
   "outputs": [],
   "source": []
  },
  {
   "cell_type": "markdown",
   "id": "b541f3a3",
   "metadata": {},
   "source": [
    "##### "
   ]
  }
 ],
 "metadata": {
  "kernelspec": {
   "display_name": "tf2 cuda 112",
   "language": "python",
   "name": "tf2gpu"
  },
  "language_info": {
   "codemirror_mode": {
    "name": "ipython",
    "version": 3
   },
   "file_extension": ".py",
   "mimetype": "text/x-python",
   "name": "python",
   "nbconvert_exporter": "python",
   "pygments_lexer": "ipython3",
   "version": "3.9.12"
  }
 },
 "nbformat": 4,
 "nbformat_minor": 5
}
