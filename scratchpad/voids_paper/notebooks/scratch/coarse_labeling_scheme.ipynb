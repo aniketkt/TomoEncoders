{
 "cells": [
  {
   "cell_type": "code",
   "execution_count": 1,
   "id": "217f8f0c",
   "metadata": {},
   "outputs": [],
   "source": [
    "import numpy as np\n",
    "import matplotlib.pyplot as plt\n",
    "import os\n",
    "import h5py\n",
    "import sys\n",
    "import time\n",
    "import seaborn as sns\n",
    "import pandas as pd\n",
    "import cupy as cp\n",
    "\n",
    "from tomo_encoders.tasks.digital_zoom import *\n",
    "from tomo_encoders import viewer\n",
    "sys.path.append('/home/atekawade/TomoEncoders/scratchpad/voids_paper/bin/tests')\n",
    "from utils import *\n",
    "import numexpr as ne\n",
    "from tomo_encoders.misc.img_stats import calc_SNR"
   ]
  },
  {
   "cell_type": "code",
   "execution_count": 2,
   "id": "dca03d74",
   "metadata": {},
   "outputs": [
    {
     "name": "stdout",
     "output_type": "stream",
     "text": [
      "EXPERIMENT with b, b_K (4, 4)\n"
     ]
    }
   ],
   "source": [
    "projs, theta, center = read_raw_data(raw_fname, wd*b)\n",
    "b, b_K = 4, 4\n",
    "print(f\"EXPERIMENT with b, b_K {(b,b_K)}\")"
   ]
  },
  {
   "cell_type": "code",
   "execution_count": 3,
   "id": "60e5e236",
   "metadata": {},
   "outputs": [
    {
     "name": "stdout",
     "output_type": "stream",
     "text": [
      "\tTIME: COARSE RECON 9.84 secs\n",
      "\tSTAT: voids found - 372264\n",
      "\tTIME: LABELING 12.77 secs\n",
      "\tTIME: COARSE RECON 9.09 secs\n",
      "\tSTAT: voids found - 45296\n",
      "\tTIME: LABELING 14.19 secs\n",
      "\tTIME: COARSE RECON 9.13 secs\n",
      "\tSTAT: voids found - 19047\n",
      "\tTIME: LABELING 13.25 secs\n"
     ]
    }
   ],
   "source": [
    "voids_b = coarse_map(projs, theta, center, b, b_K, remove_dust = 0)\n",
    "voids_b_dust2 = coarse_map(projs, theta, center, b, b_K, remove_dust = 2)\n",
    "voids_b_dust3 = coarse_map(projs, theta, center, b, b_K, remove_dust = 3)\n",
    "sizes_dust2 = np.cbrt(voids_b_dust2[\"sizes\"])\n",
    "sizes = np.cbrt(voids_b[\"sizes\"])\n",
    "sizes_dust3 = np.cbrt(voids_b_dust3[\"sizes\"])"
   ]
  },
  {
   "cell_type": "code",
   "execution_count": 4,
   "id": "ba3177dd",
   "metadata": {},
   "outputs": [
    {
     "data": {
      "text/plain": [
       "(0.0, 20.0)"
      ]
     },
     "execution_count": 4,
     "metadata": {},
     "output_type": "execute_result"
    },
    {
     "data": {
      "image/png": "[encoded data removed]",
      "text/plain": [
       "<Figure size 1152x288 with 3 Axes>"
      ]
     },
     "metadata": {
      "needs_background": "light"
     },
     "output_type": "display_data"
    }
   ],
   "source": [
    "fig, ax = plt.subplots(1,3, figsize = (16,4))\n",
    "_ = ax[0].hist(sizes, bins = 500, density = True)\n",
    "ax[0].set_xlim([0,20])\n",
    "_ = ax[1].hist(sizes_dust2, bins = 500, density = True)\n",
    "ax[1].set_xlim([0,20])\n",
    "_ = ax[2].hist(sizes_dust3, bins = 500, density = True)\n",
    "ax[2].set_xlim([0,20])"
   ]
  },
  {
   "cell_type": "code",
   "execution_count": 5,
   "id": "816f72d2",
   "metadata": {},
   "outputs": [
    {
     "data": {
      "text/plain": [
       "0"
      ]
     },
     "execution_count": 5,
     "metadata": {},
     "output_type": "execute_result"
    }
   ],
   "source": [
    "np.sum(sizes_dust3 <=1)"
   ]
  },
  {
   "cell_type": "code",
   "execution_count": 6,
   "id": "313a287b",
   "metadata": {},
   "outputs": [
    {
     "data": {
      "text/plain": [
       "0"
      ]
     },
     "execution_count": 6,
     "metadata": {},
     "output_type": "execute_result"
    }
   ],
   "source": [
    "np.sum(sizes_dust2 <=1)"
   ]
  },
  {
   "cell_type": "code",
   "execution_count": 13,
   "id": "f758f02c",
   "metadata": {},
   "outputs": [
    {
     "data": {
      "text/plain": [
       "66243"
      ]
     },
     "execution_count": 13,
     "metadata": {},
     "output_type": "execute_result"
    }
   ],
   "source": [
    "np.size(sizes) - np.sum(sizes <=1)"
   ]
  },
  {
   "cell_type": "code",
   "execution_count": 8,
   "id": "cacf949b",
   "metadata": {},
   "outputs": [
    {
     "data": {
      "text/plain": [
       "False"
      ]
     },
     "execution_count": 8,
     "metadata": {},
     "output_type": "execute_result"
    }
   ],
   "source": [
    "ept = np.array([0,0,0])\n",
    "cpt = np.array([2,2,2])\n",
    "np.all(np.clip(ept-cpt-2,0,None))"
   ]
  },
  {
   "cell_type": "code",
   "execution_count": 9,
   "id": "95d2d692",
   "metadata": {},
   "outputs": [
    {
     "data": {
      "text/plain": [
       "slice(0, 2, None)"
      ]
     },
     "execution_count": 9,
     "metadata": {},
     "output_type": "execute_result"
    }
   ],
   "source": [
    "slice(0,2)"
   ]
  },
  {
   "cell_type": "code",
   "execution_count": 10,
   "id": "fa67d85d",
   "metadata": {},
   "outputs": [],
   "source": [
    "a = np.arange(20)"
   ]
  },
  {
   "cell_type": "code",
   "execution_count": 11,
   "id": "97951474",
   "metadata": {},
   "outputs": [
    {
     "data": {
      "text/plain": [
       "array([0, 1])"
      ]
     },
     "execution_count": 11,
     "metadata": {},
     "output_type": "execute_result"
    }
   ],
   "source": [
    "a[slice(0,2)]"
   ]
  },
  {
   "cell_type": "code",
   "execution_count": null,
   "id": "45d76f80",
   "metadata": {},
   "outputs": [],
   "source": []
  },
  {
   "cell_type": "code",
   "execution_count": null,
   "id": "66ee1920",
   "metadata": {},
   "outputs": [],
   "source": []
  },
  {
   "cell_type": "code",
   "execution_count": null,
   "id": "f65a0740",
   "metadata": {},
   "outputs": [],
   "source": []
  }
 ],
 "metadata": {
  "kernelspec": {
   "display_name": "tf2 cuda 112",
   "language": "python",
   "name": "tf2gpu"
  },
  "language_info": {
   "codemirror_mode": {
    "name": "ipython",
    "version": 3
   },
   "file_extension": ".py",
   "mimetype": "text/x-python",
   "name": "python",
   "nbconvert_exporter": "python",
   "pygments_lexer": "ipython3",
   "version": "3.9.12"
  }
 },
 "nbformat": 4,
 "nbformat_minor": 5
}
