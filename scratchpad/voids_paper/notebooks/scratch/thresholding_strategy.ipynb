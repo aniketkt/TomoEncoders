{
 "cells": [
  {
   "cell_type": "code",
   "execution_count": 1,
   "id": "217f8f0c",
   "metadata": {},
   "outputs": [],
   "source": [
    "import numpy as np\n",
    "import matplotlib.pyplot as plt\n",
    "import os\n",
    "import h5py\n",
    "import sys\n",
    "import time\n",
    "import seaborn as sns\n",
    "import pandas as pd\n",
    "import cupy as cp\n",
    "\n",
    "from tomo_encoders.tasks.digital_zoom import *\n",
    "from tomo_encoders import viewer\n",
    "sys.path.append('/home/atekawade/TomoEncoders/scratchpad/voids_paper/bin/tests')\n",
    "from utils import *\n",
    "import numexpr as ne\n",
    "from tomo_encoders.misc.img_stats import calc_SNR"
   ]
  },
  {
   "cell_type": "code",
   "execution_count": 2,
   "id": "4e5f11e9",
   "metadata": {},
   "outputs": [],
   "source": [
    "def make_binary_structure(radius):\n",
    "    struct_size = 2*radius + 1\n",
    "    struct = cp.ones(tuple([struct_size]*3), dtype = cp.uint8)\n",
    "\n",
    "    r = cp.arange(-radius, radius + 1)\n",
    "\n",
    "    zz, yy, xx = cp.meshgrid(r, r, r, indexing = 'ij')\n",
    "    dist = cp.sqrt(zz**2 + yy**2 + xx**2)\n",
    "    struct[dist > radius] = 0\n",
    "    return struct"
   ]
  },
  {
   "cell_type": "code",
   "execution_count": 3,
   "id": "dca03d74",
   "metadata": {},
   "outputs": [
    {
     "name": "stdout",
     "output_type": "stream",
     "text": [
      "EXPERIMENT with b, b_K (4, 4)\n"
     ]
    }
   ],
   "source": [
    "projs, theta, center = read_raw_data(raw_fname, wd*b)\n",
    "b, b_K = 4, 4\n",
    "print(f\"EXPERIMENT with b, b_K {(b,b_K)}\")"
   ]
  },
  {
   "cell_type": "code",
   "execution_count": 4,
   "id": "ff5146b5",
   "metadata": {},
   "outputs": [],
   "source": [
    "def downsample(data, b):\n",
    "    \"\"\"Downsample data\"\"\"\n",
    "    binning = int(np.log2(b))\n",
    "    for j in range(binning):\n",
    "        x = data[:, :, ::2]\n",
    "        y = data[:, :, 1::2]\n",
    "        data = ne.evaluate('0.5*(x + y)')  # should use multithreading\n",
    "        \n",
    "    for k in range(binning):\n",
    "        x = data[:, ::2]\n",
    "        y = data[:, 1::2]\n",
    "        data = ne.evaluate('0.5*(x + y)')\n",
    "    return data.astype(np.uint16)"
   ]
  },
  {
   "cell_type": "code",
   "execution_count": 5,
   "id": "60e5e236",
   "metadata": {},
   "outputs": [],
   "source": [
    "def coarse_map_func(projs, theta, center, strategy):\n",
    "\n",
    "    print(f\"STRATEGY: {strategy}\")\n",
    "    t_gpu = TimerGPU(\"secs\")\n",
    "    memory_pool = cp.cuda.MemoryPool()\n",
    "    cp.cuda.set_allocator(memory_pool.malloc)\n",
    "    \n",
    "    t_gpu.tic()\n",
    "    if \"binning\" in strategy:\n",
    "        raw_data = downsample(projs[::b_K], b), theta[::b_K,...], center/b\n",
    "    elif \"striding\" in strategy:\n",
    "        raw_data = projs[::b_K,::b,::b], theta[::b_K,...], center/b\n",
    "    t_gpu.toc(\"DOWNSAMPLING\")\n",
    "    t_gpu.tic()\n",
    "    # fbp\n",
    "    _, nz, n = raw_data[0].shape    \n",
    "    V = cp.empty((nz,n,n), dtype = cp.float32)\n",
    "    recon_all_gpu(*raw_data, V)\n",
    "#     V_rec = V.get()\n",
    "    if \"gaussian\" in strategy:\n",
    "        V[:] = ndimage.gaussian_filter(V,0.5)\n",
    "    \n",
    "    # binarize\n",
    "    voxel_values = get_values_cyl_mask(V[::2,::2,::2], 1.0).get()\n",
    "    rec_min_max = modified_autocontrast(voxel_values, s=0.01)\n",
    "    thresh = cp.float32(threshold_otsu(voxel_values))    \n",
    "    V[:] = (V<thresh).astype(cp.uint8)        \n",
    "    \n",
    "    if \"median\" in strategy:\n",
    "        V[:] = ndimage.median_filter(V, 3)  \n",
    "        \n",
    "    if \"closing\" in strategy:\n",
    "        V[:] = ndimage.binary_closing(V, structure = make_binary_structure(1))\n",
    "    \n",
    "    t_rec = t_gpu.toc('RECONSTRUCTION')\n",
    "#     V_seg = V.get()\n",
    "    \n",
    "#     print(f\"\\tSTAT: signal-to-noise {calc_SNR(V_rec, V_seg)}\")\n",
    "    \n",
    "    # connected components labeling\n",
    "    t_gpu.tic()\n",
    "    V = cp.array(V, dtype = cp.uint32)\n",
    "    V[:], n_det = ndimage.label(V,structure = cp.ones((3,3,3),dtype=cp.uint8))    \n",
    "    voids_b = Voids().count_voids(V.get(), b)    \n",
    "    t_label = t_gpu.toc('LABELING')\n",
    "\n",
    "    voids_b[\"rec_min_max\"] = rec_min_max\n",
    "    voids_b.compute_time = {\"reconstruction\" : t_rec, \"labeling\" : t_label}\n",
    "\n",
    "    del V\n",
    "    cp.fft.config.clear_plan_cache(); memory_pool.free_all_blocks()            \n",
    "    return voids_b"
   ]
  },
  {
   "cell_type": "code",
   "execution_count": 6,
   "id": "b7331787",
   "metadata": {},
   "outputs": [
    {
     "name": "stdout",
     "output_type": "stream",
     "text": [
      "STRATEGY: binning\n",
      "\tTIME: DOWNSAMPLING 7.86 secs\n",
      "\tTIME: RECONSTRUCTION 9.15 secs\n",
      "\tSTAT: voids found - 359093\n",
      "\tTIME: LABELING 10.00 secs\n",
      "STRATEGY: striding gaussian\n",
      "\tTIME: DOWNSAMPLING 0.00 secs\n",
      "\tTIME: RECONSTRUCTION 9.05 secs\n",
      "\tSTAT: voids found - 372264\n",
      "\tTIME: LABELING 10.06 secs\n",
      "STRATEGY: striding gaussian closing\n",
      "\tTIME: DOWNSAMPLING 0.00 secs\n",
      "\tTIME: RECONSTRUCTION 9.23 secs\n",
      "\tSTAT: voids found - 355181\n",
      "\tTIME: LABELING 10.57 secs\n",
      "STRATEGY: binning closing\n",
      "\tTIME: DOWNSAMPLING 6.19 secs\n",
      "\tTIME: RECONSTRUCTION 8.73 secs\n",
      "\tSTAT: voids found - 344833\n",
      "\tTIME: LABELING 10.08 secs\n",
      "STRATEGY: striding closing\n",
      "\tTIME: DOWNSAMPLING 0.00 secs\n",
      "\tTIME: RECONSTRUCTION 9.35 secs\n",
      "\tSTAT: voids found - 2351628\n",
      "\tTIME: LABELING 31.92 secs\n"
     ]
    }
   ],
   "source": [
    "strategies = [\\\n",
    "              \"binning\", \\\n",
    "#               \"binning median\", \\\n",
    "#               \"binning gaussian\", \\\n",
    "#               \"striding\", \\\n",
    "#               \"striding median\", \\\n",
    "              \"striding gaussian\", \\\n",
    "#               \"striding median gaussian\"\\\n",
    "              \"striding gaussian closing\",\\\n",
    "              \"binning closing\",\\\n",
    "              \"striding closing\"\\\n",
    "             ]\n",
    "size_dict = {}\n",
    "voids_dict = {}\n",
    "\n",
    "for strategy in strategies:\n",
    "    voids_dict[strategy] = coarse_map_func(projs, theta, center, strategy)\n",
    "    size_dict[strategy] = np.cbrt(voids_dict[strategy][\"sizes\"])"
   ]
  },
  {
   "cell_type": "code",
   "execution_count": 7,
   "id": "2852a16b",
   "metadata": {},
   "outputs": [
    {
     "name": "stdout",
     "output_type": "stream",
     "text": [
      "\n",
      "binning: 359093;> 1 pixels: 226090;perc of 1 pixel voids: 0.37\n",
      "\n",
      "striding gaussian: 372264;> 1 pixels: 218656;perc of 1 pixel voids: 0.41\n",
      "\n",
      "striding gaussian closing: 355181;> 1 pixels: 208403;perc of 1 pixel voids: 0.41\n",
      "\n",
      "binning closing: 344833;> 1 pixels: 217044;perc of 1 pixel voids: 0.37\n",
      "\n",
      "striding closing: 2351628;> 1 pixels: 608838;perc of 1 pixel voids: 0.74\n"
     ]
    }
   ],
   "source": [
    "def print_stats(size_arr, desc):\n",
    "    msg = []\n",
    "    msg.append(f\"\\n{desc}: {size_arr.size};\")\n",
    "    i = 1; msg.append(f\"> {i} pixels: {np.sum(size_arr>i)};\")\n",
    "    msg.append(f\"perc of 1 pixel voids: {np.sum(size_dict[desc] == 1)/np.size(size_dict[desc]):.2f}\")\n",
    "    print(\"\".join(msg))\n",
    "    return\n",
    "for strategy in strategies:\n",
    "    print_stats(size_dict[strategy], strategy)"
   ]
  },
  {
   "cell_type": "code",
   "execution_count": 17,
   "id": "06633040",
   "metadata": {},
   "outputs": [
    {
     "data": {
      "image/png": "[encoded data removed]",
      "text/plain": [
       "<Figure size 1152x432 with 5 Axes>"
      ]
     },
     "metadata": {
      "needs_background": "light"
     },
     "output_type": "display_data"
    }
   ],
   "source": [
    "fig, ax = plt.subplots(1,len(strategies), figsize = (16,6))\n",
    "# colors = [\"red\", \"blue\", \"green\", \"black\"]\n",
    "for i, strategy in enumerate(strategies):\n",
    "    h = ax[i].hist(size_dict[strategy], color = \"black\", bins = 1000, density = True)\n",
    "    ax[i].set_xlim([0,5])\n",
    "    ax[i].set_ylim([0,1])\n",
    "    ax[i].set_title(strategy)"
   ]
  },
  {
   "cell_type": "code",
   "execution_count": 9,
   "id": "89c1128d",
   "metadata": {},
   "outputs": [
    {
     "name": "stdout",
     "output_type": "stream",
     "text": [
      "fraction of voids above pixel size threshold\n",
      "STRATEGY: binning closing          : 0.0590; 20351; 344833\n",
      "STRATEGY: striding gaussian closing: 0.0522; 18533; 355181\n",
      "STRATEGY: binning                  : 0.0579; 20801; 359093\n",
      "STRATEGY: striding gaussian        : 0.0512; 19047; 372264\n",
      "STRATEGY: striding closing         : 0.0162; 38081; 2.35163e+06\n"
     ]
    }
   ],
   "source": [
    "def print_stats(size_arr, desc):\n",
    "    pix = 2\n",
    "    cond_list = np.all(np.clip((voids_dict[strategy][\"cents\"]-voids_dict[strategy][\"cpts\"])*2-pix,0,None), axis = 1)        \n",
    "    \n",
    "    msg = f\"STRATEGY: {desc:25s}: {np.sum(cond_list)/np.size(cond_list):.4f}; {np.sum(cond_list):5g}; {np.size(cond_list):5g}\"\n",
    "    \n",
    "    print(msg)\n",
    "    return\n",
    "print(\"fraction of voids above pixel size threshold\")\n",
    "idx_strat = np.argsort([len(size_dict[strategy]) for strategy in strategies])\n",
    "for ids in idx_strat:\n",
    "    strategy = strategies[ids]\n",
    "    print_stats(size_dict[strategy], strategy)"
   ]
  },
  {
   "cell_type": "code",
   "execution_count": 10,
   "id": "e13b9ab9",
   "metadata": {},
   "outputs": [
    {
     "data": {
      "image/png": "[encoded data removed]",
      "text/plain": [
       "<Figure size 1152x432 with 5 Axes>"
      ]
     },
     "metadata": {
      "needs_background": "light"
     },
     "output_type": "display_data"
    }
   ],
   "source": [
    "fig, ax = plt.subplots(1,len(strategies), figsize = (16,6))\n",
    "# colors = [\"red\", \"blue\", \"green\", \"black\"]\n",
    "for i, strategy in enumerate(strategies):\n",
    "    pix = 2\n",
    "    cond_list = np.all(np.clip((voids_dict[strategy][\"cents\"]-voids_dict[strategy][\"cpts\"])*2-pix,0,None), axis = 1)        \n",
    "    h = ax[i].hist(size_dict[strategy][cond_list], color = \"black\", bins = 500, density = True)\n",
    "    ax[i].set_xlim([0,20])\n",
    "    ax[i].set_title(strategy)"
   ]
  },
  {
   "cell_type": "code",
   "execution_count": null,
   "id": "82f05bcc",
   "metadata": {},
   "outputs": [],
   "source": []
  },
  {
   "cell_type": "code",
   "execution_count": null,
   "id": "b12e8bfd",
   "metadata": {},
   "outputs": [],
   "source": []
  },
  {
   "cell_type": "code",
   "execution_count": null,
   "id": "52fc746f",
   "metadata": {},
   "outputs": [],
   "source": []
  },
  {
   "cell_type": "code",
   "execution_count": null,
   "id": "f65a0740",
   "metadata": {},
   "outputs": [],
   "source": []
  }
 ],
 "metadata": {
  "kernelspec": {
   "display_name": "tf2 cuda 112",
   "language": "python",
   "name": "tf2gpu"
  },
  "language_info": {
   "codemirror_mode": {
    "name": "ipython",
    "version": 3
   },
   "file_extension": ".py",
   "mimetype": "text/x-python",
   "name": "python",
   "nbconvert_exporter": "python",
   "pygments_lexer": "ipython3",
   "version": "3.9.12"
  }
 },
 "nbformat": 4,
 "nbformat_minor": 5
}
