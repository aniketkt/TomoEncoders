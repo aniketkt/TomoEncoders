{
 "cells": [
  {
   "cell_type": "markdown",
   "id": "f50c42dc",
   "metadata": {},
   "source": [
    "## Segment a sparse 3D image with a single material component  \n",
    "\n",
    "The goal of this notebook is to develop a 3D segmentation algorithm that improves segmentation where features are detected.\n",
    "\n",
    "**Data:** AM parts from Xuan Zhang. "
   ]
  },
  {
   "cell_type": "code",
   "execution_count": 1,
   "id": "dfc91290",
   "metadata": {},
   "outputs": [],
   "source": [
    "%matplotlib inline\n",
    "import numpy as np\n",
    "import matplotlib.pyplot as plt\n",
    "import seaborn as sns\n",
    "\n",
    "import cupy as cp\n",
    "from tomo_encoders.misc import viewer\n",
    "from tomo_encoders import DataFile, Grid\n",
    "from skimage.filters import threshold_otsu\n",
    "from tomo_encoders.reconstruction.recon import recon_binning\n",
    "import h5py\n",
    "import sys\n",
    "import time"
   ]
  },
  {
   "cell_type": "code",
   "execution_count": 2,
   "id": "c07cac4e",
   "metadata": {},
   "outputs": [],
   "source": [
    "pixel_res = 1.17 # micrometer per pixel\n",
    "b = 4\n",
    "b_K = 4\n",
    "wd = 32"
   ]
  },
  {
   "cell_type": "code",
   "execution_count": 3,
   "id": "0f1051ae",
   "metadata": {},
   "outputs": [],
   "source": [
    "def transform_ax2(img):\n",
    "    img = np.fliplr(img)\n",
    "    img = np.rot90(img)\n",
    "    return img"
   ]
  },
  {
   "cell_type": "code",
   "execution_count": 4,
   "id": "56513be6",
   "metadata": {},
   "outputs": [],
   "source": [
    "hf = h5py.File('/data02/MyArchive/aisteer_3Dencoders/tmp_data/projs_2k.hdf5', 'r')\n",
    "projs = np.asarray(hf[\"data\"][:])\n",
    "theta = np.asarray(hf['theta'][:])\n",
    "center = float(np.asarray(hf[\"center\"]))\n",
    "hf.close()"
   ]
  },
  {
   "cell_type": "code",
   "execution_count": 5,
   "id": "d3a2a917",
   "metadata": {},
   "outputs": [],
   "source": [
    "sys.path.append('/home/atekawade/TomoEncoders/scratchpad/voids_paper')\n",
    "from surface_determination import Voids"
   ]
  },
  {
   "cell_type": "code",
   "execution_count": 6,
   "id": "45a94551",
   "metadata": {},
   "outputs": [
    {
     "name": "stdout",
     "output_type": "stream",
     "text": [
      "\tTIME reconstructing with binning - 0.54 secs\n",
      "voids found: 21077\n",
      "\tSTAT: r value: 83.09\n",
      "\tSTAT: size thres: 0.64 pixel length\n",
      "time checkpoint 1.34 secs\n"
     ]
    },
    {
     "name": "stderr",
     "output_type": "stream",
     "text": [
      "/tmp/ipykernel_12813/477175925.py:13: FutureWarning: cupy.fft.cache.clear_plan_cache is experimental. The interface can change in the future.\n",
      "  cp.fft.config.clear_plan_cache()\n"
     ]
    },
    {
     "name": "stdout",
     "output_type": "stream",
     "text": [
      "\tTIME reconstructing with binning - 0.26 secs\n",
      "voids found: 21077\n",
      "\tSTAT: r value: 82.70\n",
      "\tSTAT: size thres: 1.15 pixel length\n",
      "time checkpoint 1.07 secs\n",
      "\tTIME reconstructing with binning - 0.27 secs\n",
      "voids found: 21077\n",
      "\tSTAT: r value: 81.46\n",
      "\tSTAT: size thres: 1.67 pixel length\n",
      "time checkpoint 1.06 secs\n",
      "\tTIME reconstructing with binning - 0.27 secs\n",
      "voids found: 21077\n",
      "\tSTAT: r value: 77.85\n",
      "\tSTAT: size thres: 2.18 pixel length\n",
      "time checkpoint 1.06 secs\n",
      "\tTIME reconstructing with binning - 0.26 secs\n",
      "voids found: 21077\n",
      "\tSTAT: r value: 70.59\n",
      "\tSTAT: size thres: 2.69 pixel length\n",
      "time checkpoint 1.05 secs\n",
      "\tTIME reconstructing with binning - 0.26 secs\n",
      "voids found: 21077\n",
      "\tSTAT: r value: 60.45\n",
      "\tSTAT: size thres: 3.21 pixel length\n",
      "time checkpoint 1.05 secs\n"
     ]
    },
    {
     "data": {
      "image/png": "[encoded data removed]",
      "text/plain": [
       "<Figure size 864x432 with 6 Axes>"
      ]
     },
     "metadata": {
      "needs_background": "light"
     },
     "output_type": "display_data"
    }
   ],
   "source": [
    "size_threshs = np.linspace(3, 15, 6, endpoint = True)/(b*pixel_res)\n",
    "fig, ax = plt.subplots(2, 3, figsize = (12,6))\n",
    "for iplot, size_thresh in enumerate(size_threshs):\n",
    "    st_chkpt = cp.cuda.Event(); end_chkpt = cp.cuda.Event(); st_chkpt.record()    \n",
    "    voids_b = Voids()\n",
    "    voids_b.guess_voids(projs, theta, center, b, b_K)    \n",
    "    voids_b.select_by_size(size_thresh)\n",
    "    p_sel, r_fac = voids_b.export_grid(wd)\n",
    "    p_sel = p_sel.rescale(b)\n",
    "    print(f'\\tSTAT: size thres: {size_thresh:.2f} pixel length')\n",
    "    end_chkpt.record(); end_chkpt.synchronize(); t_chkpt = cp.cuda.get_elapsed_time(st_chkpt,end_chkpt)\n",
    "    print(f\"time checkpoint {t_chkpt/1000.0:.2f} secs\")\n",
    "    cp.fft.config.clear_plan_cache()\n",
    "    \n",
    "    ax.flat[iplot].hist(np.cbrt(voids_b[\"sizes\"])*pixel_res*b, bins = 50)\n",
    "    ax.flat[iplot].set_xlabel(\"micrometers\")        \n",
    "    ax.flat[iplot].set_xlim([0,100])"
   ]
  },
  {
   "cell_type": "code",
   "execution_count": 9,
   "id": "8b9055ac",
   "metadata": {},
   "outputs": [
    {
     "data": {
      "text/plain": [
       "(896, 2176, 2176)"
      ]
     },
     "execution_count": 9,
     "metadata": {},
     "output_type": "execute_result"
    }
   ],
   "source": [
    "p_sel.vol_shape"
   ]
  },
  {
   "cell_type": "code",
   "execution_count": null,
   "id": "2299ea43",
   "metadata": {},
   "outputs": [],
   "source": []
  },
  {
   "cell_type": "code",
   "execution_count": null,
   "id": "526d754c",
   "metadata": {},
   "outputs": [],
   "source": []
  }
 ],
 "metadata": {
  "kernelspec": {
   "display_name": "tf2 cuda 112",
   "language": "python",
   "name": "tf2gpu"
  },
  "language_info": {
   "codemirror_mode": {
    "name": "ipython",
    "version": 3
   },
   "file_extension": ".py",
   "mimetype": "text/x-python",
   "name": "python",
   "nbconvert_exporter": "python",
   "pygments_lexer": "ipython3",
   "version": "3.9.12"
  }
 },
 "nbformat": 4,
 "nbformat_minor": 5
}
