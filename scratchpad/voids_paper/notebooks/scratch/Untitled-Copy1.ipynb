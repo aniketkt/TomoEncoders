{
 "cells": [
  {
   "cell_type": "code",
   "execution_count": 5,
   "id": "217f8f0c",
   "metadata": {},
   "outputs": [],
   "source": [
    "import numpy as np\n",
    "import matplotlib.pyplot as plt\n",
    "import os\n",
    "import h5py\n",
    "import sys\n",
    "import time\n",
    "import seaborn as sns\n",
    "import pandas as pd\n",
    "import cupy as cp\n",
    "\n",
    "from tomo_encoders.tasks.digital_zoom import *\n",
    "from utils import *\n",
    "from tomo_encoders import DataFile\n",
    "from tomo_encoders.misc import viewer"
   ]
  },
  {
   "cell_type": "code",
   "execution_count": 2,
   "id": "b6645bbe",
   "metadata": {},
   "outputs": [],
   "source": [
    "ilayer = 1\n",
    "fpath = f'/data02/MyArchive/aisteer_3Dencoders/tmp_data/mosaic/mli_L206_HT_650_L{ilayer}_rec_1x1_uint16_tiff'"
   ]
  },
  {
   "cell_type": "code",
   "execution_count": 3,
   "id": "24970d19",
   "metadata": {},
   "outputs": [
    {
     "name": "stdout",
     "output_type": "stream",
     "text": [
      "\n",
      "##################################################\n",
      "Found existing tiff folder: mli_L206_HT_650_L1_rec_1x1_uint16_tiff\n",
      "Dataset shape: (1102, 4200, 4200)\n"
     ]
    }
   ],
   "source": [
    "ds = DataFile(fpath, tiff = True)"
   ]
  },
  {
   "cell_type": "code",
   "execution_count": 4,
   "id": "11b178a1",
   "metadata": {},
   "outputs": [],
   "source": [
    "vol = ds.read_full()"
   ]
  },
  {
   "cell_type": "code",
   "execution_count": 6,
   "id": "c4acce65",
   "metadata": {},
   "outputs": [
    {
     "data": {
      "text/plain": [
       "array([<AxesSubplot:>, <AxesSubplot:>, <AxesSubplot:>], dtype=object)"
      ]
     },
     "execution_count": 6,
     "metadata": {},
     "output_type": "execute_result"
    },
    {
     "data": {
      "image/png": "[encoded data removed]",
      "text/plain": [
       "<Figure size 432x288 with 3 Axes>"
      ]
     },
     "metadata": {
      "needs_background": "light"
     },
     "output_type": "display_data"
    }
   ],
   "source": [
    "viewer.view_midplanes(vol = vol[::4,::4,::4])"
   ]
  },
  {
   "cell_type": "code",
   "execution_count": 11,
   "id": "c8db6e5a",
   "metadata": {},
   "outputs": [],
   "source": [
    "volb = segment_otsu(vol[::4,::4,::4])"
   ]
  },
  {
   "cell_type": "code",
   "execution_count": 12,
   "id": "b7e88474",
   "metadata": {},
   "outputs": [
    {
     "data": {
      "text/plain": [
       "(69, 263, 263)"
      ]
     },
     "execution_count": 12,
     "metadata": {},
     "output_type": "execute_result"
    }
   ],
   "source": [
    "volb.shape"
   ]
  },
  {
   "cell_type": "code",
   "execution_count": null,
   "id": "d8ee09b0",
   "metadata": {},
   "outputs": [],
   "source": []
  },
  {
   "cell_type": "code",
   "execution_count": null,
   "id": "15cd1e2b",
   "metadata": {},
   "outputs": [],
   "source": []
  },
  {
   "cell_type": "code",
   "execution_count": null,
   "id": "c4a29e8b",
   "metadata": {},
   "outputs": [],
   "source": []
  },
  {
   "cell_type": "code",
   "execution_count": null,
   "id": "f65a0740",
   "metadata": {},
   "outputs": [],
   "source": []
  }
 ],
 "metadata": {
  "kernelspec": {
   "display_name": "tf2 cuda 112",
   "language": "python",
   "name": "tf2gpu"
  },
  "language_info": {
   "codemirror_mode": {
    "name": "ipython",
    "version": 3
   },
   "file_extension": ".py",
   "mimetype": "text/x-python",
   "name": "python",
   "nbconvert_exporter": "python",
   "pygments_lexer": "ipython3",
   "version": "3.9.12"
  }
 },
 "nbformat": 4,
 "nbformat_minor": 5
}
