{
 "cells": [
  {
   "cell_type": "markdown",
   "id": "f50c42dc",
   "metadata": {},
   "source": [
    "## Segment a sparse 3D image with a single material component  \n",
    "\n",
    "The goal of this notebook is to develop a 3D segmentation algorithm that improves segmentation where features are detected.\n",
    "\n",
    "**Data:** AM parts from Xuan Zhang. "
   ]
  },
  {
   "cell_type": "code",
   "execution_count": 1,
   "id": "dfc91290",
   "metadata": {},
   "outputs": [],
   "source": [
    "%matplotlib inline\n",
    "import numpy as np\n",
    "import matplotlib.pyplot as plt\n",
    "import seaborn as sns\n",
    "\n",
    "import cupy as cp\n",
    "from tomo_encoders.misc import viewer\n",
    "from tomo_encoders import DataFile, Grid\n",
    "from skimage.filters import threshold_otsu\n",
    "from tomo_encoders.reconstruction.recon import recon_binning\n",
    "import h5py\n",
    "import sys\n",
    "import time\n",
    "import vedo"
   ]
  },
  {
   "cell_type": "code",
   "execution_count": 2,
   "id": "c07cac4e",
   "metadata": {},
   "outputs": [],
   "source": [
    "pixel_res = 1.17 # micrometer per pixel\n",
    "b = 4\n",
    "b_K = 4\n",
    "wd = 32"
   ]
  },
  {
   "cell_type": "code",
   "execution_count": 4,
   "id": "56513be6",
   "metadata": {},
   "outputs": [],
   "source": [
    "hf = h5py.File('/data02/MyArchive/aisteer_3Dencoders/tmp_data/projs_2k.hdf5', 'r')\n",
    "projs = np.asarray(hf[\"data\"][:])\n",
    "theta = np.asarray(hf['theta'][:])\n",
    "center = float(np.asarray(hf[\"center\"]))\n",
    "hf.close()"
   ]
  },
  {
   "cell_type": "code",
   "execution_count": 5,
   "id": "d3a2a917",
   "metadata": {},
   "outputs": [],
   "source": [
    "sys.path.append('/home/atekawade/TomoEncoders/scratchpad/voids_paper')\n",
    "from surface_determination import Voids"
   ]
  },
  {
   "cell_type": "code",
   "execution_count": 6,
   "id": "45a94551",
   "metadata": {},
   "outputs": [
    {
     "name": "stdout",
     "output_type": "stream",
     "text": [
      "\tTIME reconstructing with binning - 0.55 secs\n",
      "voids found: 21077\n",
      "\tSTAT: r value: 3.43\n",
      "\tSTAT: size thres: 4.27 pixel length\n",
      "time checkpoint 2.33 secs\n"
     ]
    },
    {
     "data": {
      "image/png": "[encoded data removed]",
      "text/plain": [
       "<Figure size 432x288 with 1 Axes>"
      ]
     },
     "metadata": {
      "needs_background": "light"
     },
     "output_type": "display_data"
    }
   ],
   "source": [
    "size_thresh = 20.0/(b*pixel_res)\n",
    "st_chkpt = cp.cuda.Event(); end_chkpt = cp.cuda.Event(); st_chkpt.record()    \n",
    "voids_b = Voids().guess_voids(projs, theta, center, b, b_K)    \n",
    "# voids_b.select_by_size(size_thresh)\n",
    "void_id = np.argsort(voids_b[\"sizes\"])[-2]\n",
    "pix_radius = int(np.cbrt(voids_b[\"sizes\"][void_id])*2)\n",
    "voids_b.select_around_void(void_id, pix_radius)\n",
    "p_sel, r_fac = voids_b.export_grid(wd//b)\n",
    "p_sel = p_sel.rescale(b)\n",
    "print(f'\\tSTAT: size thres: {size_thresh:.2f} pixel length')\n",
    "end_chkpt.record(); end_chkpt.synchronize(); t_chkpt = cp.cuda.get_elapsed_time(st_chkpt,end_chkpt)\n",
    "print(f\"time checkpoint {t_chkpt/1000.0:.2f} secs\")\n",
    "\n",
    "plt.hist(np.cbrt(voids_b[\"sizes\"])*pixel_res*b, bins = 100)\n",
    "plt.xlabel(\"micrometers\")        \n",
    "plt.xlim([0,100])\n",
    "cp.fft.config.clear_plan_cache()"
   ]
  },
  {
   "cell_type": "code",
   "execution_count": 7,
   "id": "c5bddda3",
   "metadata": {},
   "outputs": [
    {
     "name": "stdout",
     "output_type": "stream",
     "text": [
      "\tTIME: export surface 2.19 secs\n"
     ]
    }
   ],
   "source": [
    "surf = voids_b.export_surface()"
   ]
  },
  {
   "cell_type": "code",
   "execution_count": 8,
   "id": "34d260fc",
   "metadata": {},
   "outputs": [],
   "source": [
    "from tomo_encoders.mesh_processing.vox2mesh import save_ply"
   ]
  },
  {
   "cell_type": "code",
   "execution_count": 9,
   "id": "2b93bc9c",
   "metadata": {},
   "outputs": [],
   "source": [
    "save_ply('/home/atekawade/Dropbox/Arg/transfers/runtime_plots/mesh_1.ply', surf[\"vertices\"], surf[\"faces\"])"
   ]
  },
  {
   "cell_type": "code",
   "execution_count": 10,
   "id": "9b8a8a25",
   "metadata": {},
   "outputs": [
    {
     "data": {
      "text/plain": [
       "2872"
      ]
     },
     "execution_count": 10,
     "metadata": {},
     "output_type": "execute_result"
    }
   ],
   "source": [
    "len(voids_b)"
   ]
  },
  {
   "cell_type": "code",
   "execution_count": 11,
   "id": "98791e25",
   "metadata": {
    "scrolled": false
   },
   "outputs": [
    {
     "data": {
      "text/plain": [
       "0"
      ]
     },
     "execution_count": 11,
     "metadata": {},
     "output_type": "execute_result"
    }
   ],
   "source": [
    "test = np.zeros((10,30,20))\n",
    "from scipy.ndimage import label\n",
    "a, b = label(test)\n",
    "b"
   ]
  },
  {
   "cell_type": "code",
   "execution_count": 12,
   "id": "aec42ef6",
   "metadata": {},
   "outputs": [
    {
     "data": {
      "text/plain": [
       "surface_determination.Surface"
      ]
     },
     "execution_count": 12,
     "metadata": {},
     "output_type": "execute_result"
    }
   ],
   "source": [
    "type(surf)"
   ]
  },
  {
   "cell_type": "code",
   "execution_count": null,
   "id": "61585741",
   "metadata": {},
   "outputs": [],
   "source": []
  },
  {
   "cell_type": "code",
   "execution_count": null,
   "id": "f4f83519",
   "metadata": {},
   "outputs": [],
   "source": []
  },
  {
   "cell_type": "code",
   "execution_count": null,
   "id": "da3bb3b2",
   "metadata": {},
   "outputs": [],
   "source": []
  },
  {
   "cell_type": "code",
   "execution_count": null,
   "id": "951b1e53",
   "metadata": {},
   "outputs": [],
   "source": []
  },
  {
   "cell_type": "code",
   "execution_count": null,
   "id": "c416440d",
   "metadata": {},
   "outputs": [],
   "source": []
  },
  {
   "cell_type": "code",
   "execution_count": null,
   "id": "6c4bce2c",
   "metadata": {},
   "outputs": [],
   "source": []
  },
  {
   "cell_type": "code",
   "execution_count": null,
   "id": "77202ce1",
   "metadata": {},
   "outputs": [],
   "source": []
  }
 ],
 "metadata": {
  "kernelspec": {
   "display_name": "tf2 cuda 112",
   "language": "python",
   "name": "tf2gpu"
  },
  "language_info": {
   "codemirror_mode": {
    "name": "ipython",
    "version": 3
   },
   "file_extension": ".py",
   "mimetype": "text/x-python",
   "name": "python",
   "nbconvert_exporter": "python",
   "pygments_lexer": "ipython3",
   "version": "3.9.12"
  }
 },
 "nbformat": 4,
 "nbformat_minor": 5
}
