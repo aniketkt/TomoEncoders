{
 "cells": [
  {
   "cell_type": "code",
   "execution_count": 1,
   "id": "217f8f0c",
   "metadata": {},
   "outputs": [],
   "source": [
    "import numpy as np\n",
    "import matplotlib.pyplot as plt\n",
    "import os\n",
    "import h5py\n",
    "import sys\n",
    "import time\n",
    "import seaborn as sns\n",
    "import pandas as pd\n",
    "import cupy as cp\n",
    "\n",
    "from tomo_encoders.tasks.digital_zoom import *\n",
    "from tomo_encoders import viewer\n",
    "from utils import *\n",
    "import numexpr as ne\n",
    "from tomo_encoders.misc.phantom_generators import get_sub_vols_elliptical_voids"
   ]
  },
  {
   "cell_type": "code",
   "execution_count": 2,
   "id": "81dd73ae",
   "metadata": {},
   "outputs": [
    {
     "name": "stdout",
     "output_type": "stream",
     "text": [
      "fraction of voids with unit size: 0.05806\n"
     ]
    }
   ],
   "source": [
    "V_cpu = np.ones((1024,1024,1024), dtype = np.uint8)\n",
    "n_voids_gt = 350000\n",
    "patch_size = (8,8,8)\n",
    "p = Grid(V_cpu.shape, width = 8, n_points = n_voids_gt)\n",
    "y = get_sub_vols_elliptical_voids(patch_size, len(p), ellipse_range = (1.5, 1.8), rad_range = (1,8))\n",
    "sizes_gt = np.cbrt(np.sum(y, axis = (1,2,3)))\n",
    "print(f\"fraction of voids with unit size: {np.sum(sizes_gt==1)/np.size(sizes_gt)}\")"
   ]
  },
  {
   "cell_type": "code",
   "execution_count": 3,
   "id": "6234cee7",
   "metadata": {},
   "outputs": [],
   "source": [
    "p.fill_patches_in_volume(y, V_cpu)"
   ]
  },
  {
   "cell_type": "code",
   "execution_count": 4,
   "id": "e9625ffc",
   "metadata": {},
   "outputs": [],
   "source": [
    "V_cpu = V_cpu + np.random.normal(0, 0.2, V_cpu.shape).astype(np.float32)"
   ]
  },
  {
   "cell_type": "code",
   "execution_count": 6,
   "id": "6b0140af",
   "metadata": {},
   "outputs": [],
   "source": [
    "def binarize(V_cpu, strategy):\n",
    "    print(f\"STRATEGY: {strategy}\")\n",
    "    t_gpu = TimerGPU(\"secs\")\n",
    "    memory_pool = cp.cuda.MemoryPool()\n",
    "    cp.cuda.set_allocator(memory_pool.malloc)\n",
    "    \n",
    "    V = cp.array(V_cpu, cp.float32)\n",
    "\n",
    "    if \"gaussian\" in strategy:\n",
    "        V[:] = ndimage.gaussian_filter(V,0.5)\n",
    "\n",
    "    # binarize\n",
    "    voxel_values = get_values_cyl_mask(V[::2,::2,::2], 1.0).get()\n",
    "    rec_min_max = modified_autocontrast(voxel_values, s=0.01)\n",
    "    thresh = cp.float32(threshold_otsu(voxel_values))    \n",
    "    V[:] = (V<thresh).astype(cp.uint8)        \n",
    "\n",
    "    if \"median\" in strategy:\n",
    "        V[:] = ndimage.median_filter(V, 3)        \n",
    "    \n",
    "    return V.get()"
   ]
  },
  {
   "cell_type": "code",
   "execution_count": 7,
   "id": "60e5e236",
   "metadata": {},
   "outputs": [],
   "source": [
    "# def label_func(V_cpu, strategy):\n",
    "    \n",
    "#     # connected components labeling\n",
    "#     t_gpu.tic()\n",
    "#     V = cp.array(V, dtype = cp.uint32)\n",
    "#     V[:], n_det = ndimage.label(V,structure = cp.ones((3,3,3),dtype=cp.uint8))    \n",
    "#     voids_b = Voids().count_voids(V.get(), b)    \n",
    "#     t_label = t_gpu.toc('LABELING')\n",
    "\n",
    "#     voids_b[\"rec_min_max\"] = rec_min_max\n",
    "#     voids_b.compute_time = {\"reconstruction\" : 0.0, \"labeling\" : t_label}\n",
    "\n",
    "#     del V\n",
    "#     cp.fft.config.clear_plan_cache(); memory_pool.free_all_blocks()            \n",
    "#     return np.cbrt(voids_b[\"sizes\"])"
   ]
  },
  {
   "cell_type": "code",
   "execution_count": 9,
   "id": "298161b0",
   "metadata": {},
   "outputs": [
    {
     "name": "stdout",
     "output_type": "stream",
     "text": [
      "STRATEGY: raw\n"
     ]
    }
   ],
   "source": [
    "strategies = [\"raw\", \"median\", \"gaussian\", \"median gaussian\"]\n",
    "size_dict = {}\n",
    "for strategy in strategies:\n",
    "    V_seg = binarize(V_cpu, strategy)\n",
    "    break"
   ]
  },
  {
   "cell_type": "code",
   "execution_count": 12,
   "id": "7aafa54d",
   "metadata": {},
   "outputs": [],
   "source": [
    "yp = p.extract(V_seg)"
   ]
  },
  {
   "cell_type": "code",
   "execution_count": null,
   "id": "ce191ba5",
   "metadata": {},
   "outputs": [],
   "source": []
  },
  {
   "cell_type": "code",
   "execution_count": null,
   "id": "7af1fec2",
   "metadata": {},
   "outputs": [],
   "source": []
  },
  {
   "cell_type": "code",
   "execution_count": null,
   "id": "62fb46bf",
   "metadata": {},
   "outputs": [],
   "source": []
  },
  {
   "cell_type": "code",
   "execution_count": null,
   "id": "d8d4a83c",
   "metadata": {},
   "outputs": [],
   "source": []
  },
  {
   "cell_type": "code",
   "execution_count": null,
   "id": "8a560909",
   "metadata": {},
   "outputs": [],
   "source": []
  },
  {
   "cell_type": "code",
   "execution_count": 6,
   "id": "b7331787",
   "metadata": {},
   "outputs": [
    {
     "name": "stdout",
     "output_type": "stream",
     "text": [
      "STRATEGY: raw\n",
      "\tSTAT: voids found - 5469308\n",
      "\tTIME: LABELING 61.92 secs\n",
      "STRATEGY: median\n",
      "\tSTAT: voids found - 155360\n",
      "\tTIME: LABELING 7.08 secs\n",
      "STRATEGY: gaussian\n",
      "\tSTAT: voids found - 162057\n",
      "\tTIME: LABELING 8.87 secs\n",
      "STRATEGY: median gaussian\n",
      "\tSTAT: voids found - 155438\n",
      "\tTIME: LABELING 7.50 secs\n"
     ]
    }
   ],
   "source": []
  },
  {
   "cell_type": "code",
   "execution_count": 7,
   "id": "2852a16b",
   "metadata": {},
   "outputs": [
    {
     "name": "stdout",
     "output_type": "stream",
     "text": [
      "\n",
      "raw: 5469308;> 1 pixels: 589387;perc of 1 pixel voids: 0.89\n",
      "\n",
      "median: 155360;> 1 pixels: 155316;perc of 1 pixel voids: 0.00\n",
      "\n",
      "gaussian: 162057;> 1 pixels: 160521;perc of 1 pixel voids: 0.01\n",
      "\n",
      "median gaussian: 155438;> 1 pixels: 155188;perc of 1 pixel voids: 0.00\n"
     ]
    }
   ],
   "source": [
    "def print_stats(size_arr, desc):\n",
    "    msg = []\n",
    "    msg.append(f\"\\n{desc}: {size_arr.size};\")\n",
    "    i = 1; msg.append(f\"> {i} pixels: {np.sum(size_arr>i)};\")\n",
    "    msg.append(f\"perc of 1 pixel voids: {np.sum(size_dict[desc] == 1)/np.size(size_dict[desc]):.2f}\")\n",
    "    print(\"\".join(msg))\n",
    "    return\n",
    "for strategy in strategies:\n",
    "    print_stats(size_dict[strategy], strategy)"
   ]
  },
  {
   "cell_type": "code",
   "execution_count": 8,
   "id": "06633040",
   "metadata": {},
   "outputs": [
    {
     "data": {
      "image/png": "[encoded data removed]",
      "text/plain": [
       "<Figure size 432x288 with 1 Axes>"
      ]
     },
     "metadata": {
      "needs_background": "light"
     },
     "output_type": "display_data"
    }
   ],
   "source": [
    "fig, ax = plt.subplots(1,1)\n",
    "colors = [\"red\", \"blue\", \"green\", \"black\"]\n",
    "for i, strategy in enumerate(strategies):\n",
    "    if i >=2:\n",
    "        continue\n",
    "    h = ax.hist(size_dict[strategy], color = colors[i], bins = 500, density = True)\n",
    "    ax.set_xlim([0,5])"
   ]
  },
  {
   "cell_type": "code",
   "execution_count": null,
   "id": "f4361fca",
   "metadata": {},
   "outputs": [],
   "source": []
  },
  {
   "cell_type": "code",
   "execution_count": null,
   "id": "89c1128d",
   "metadata": {},
   "outputs": [],
   "source": []
  },
  {
   "cell_type": "code",
   "execution_count": null,
   "id": "4390e07f",
   "metadata": {},
   "outputs": [],
   "source": []
  },
  {
   "cell_type": "code",
   "execution_count": null,
   "id": "c66bae0b",
   "metadata": {},
   "outputs": [],
   "source": []
  },
  {
   "cell_type": "code",
   "execution_count": null,
   "id": "f65a0740",
   "metadata": {},
   "outputs": [],
   "source": []
  }
 ],
 "metadata": {
  "kernelspec": {
   "display_name": "tf2 cuda 112",
   "language": "python",
   "name": "tf2gpu"
  },
  "language_info": {
   "codemirror_mode": {
    "name": "ipython",
    "version": 3
   },
   "file_extension": ".py",
   "mimetype": "text/x-python",
   "name": "python",
   "nbconvert_exporter": "python",
   "pygments_lexer": "ipython3",
   "version": "3.9.12"
  }
 },
 "nbformat": 4,
 "nbformat_minor": 5
}
