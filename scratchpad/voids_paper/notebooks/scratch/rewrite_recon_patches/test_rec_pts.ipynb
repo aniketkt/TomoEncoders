{
 "cells": [
  {
   "cell_type": "markdown",
   "id": "f50c42dc",
   "metadata": {},
   "source": [
    "## Segment a sparse 3D image with a single material component  \n",
    "\n",
    "The goal of this notebook is to develop a 3D segmentation algorithm that improves segmentation where features are detected.\n",
    "\n",
    "**Data:** AM parts from Xuan Zhang. "
   ]
  },
  {
   "cell_type": "code",
   "execution_count": 1,
   "id": "dfc91290",
   "metadata": {},
   "outputs": [],
   "source": [
    "%matplotlib inline\n",
    "import numpy as np\n",
    "import matplotlib.pyplot as plt\n",
    "import os\n",
    "import h5py\n",
    "import sys\n",
    "import time\n",
    "import seaborn as sns\n",
    "import pandas as pd\n",
    "\n",
    "import cupy as cp\n",
    "from tomo_encoders import Patches\n",
    "from tomo_encoders.misc import viewer\n",
    "from tomo_encoders import DataFile\n",
    "from tomo_encoders.reconstruction.recon import recon_binning, recon_patches_3d, rec_patch, rec_pts\n",
    "# from tomo_encoders.misc.voxel_processing import cylindrical_mask, normalize_volume_gpu"
   ]
  },
  {
   "cell_type": "code",
   "execution_count": 2,
   "id": "b4d87834",
   "metadata": {},
   "outputs": [],
   "source": [
    "r_fac = 1.0\n",
    "ht = 32\n",
    "wd = 2176\n",
    "th = 1500\n",
    "n_sel =int(ht*wd*wd*r_fac)"
   ]
  },
  {
   "cell_type": "code",
   "execution_count": 3,
   "id": "bbd78a84",
   "metadata": {},
   "outputs": [],
   "source": [
    "data = cp.random.normal(0,1,(th, ht, wd), dtype = cp.float32)\n",
    "theta = cp.linspace(0, np.pi, th, dtype = cp.float32)\n",
    "center = wd/2\n",
    "vol = np.ones((ht,wd,wd))\n",
    "vox_coords = np.where(vol == 1)\n",
    "pts = np.asarray(vox_coords).T\n",
    "pts = cp.asarray(pts, dtype = cp.int32)\n",
    "pts = pts[cp.random.choice(len(pts), n_sel, replace = False),...].copy()"
   ]
  },
  {
   "cell_type": "code",
   "execution_count": 4,
   "id": "3409afd7",
   "metadata": {},
   "outputs": [
    {
     "name": "stdout",
     "output_type": "stream",
     "text": [
      "sorting overhead: 217.09 ms\n"
     ]
    }
   ],
   "source": [
    "t000 = time.time()\n",
    "gpts = pts[:,0]*wd*wd+pts[:,1]*wd+pts[:,2]\n",
    "ind = cp.argsort(gpts)\n",
    "pts = pts[ind]\n",
    "t_sort = (time.time()-t000)*1000.0\n",
    "print(f'sorting overhead: {t_sort:.2f} ms')"
   ]
  },
  {
   "cell_type": "code",
   "execution_count": 5,
   "id": "a4d97616",
   "metadata": {},
   "outputs": [
    {
     "name": "stdout",
     "output_type": "stream",
     "text": [
      "TIME rec_pts: 1373.76 ms\n",
      "TIME rec_pts: 1378.25 ms\n",
      "TIME rec_pts: 1380.82 ms\n",
      "TIME rec_pts: 1382.40 ms\n",
      "TIME rec_pts: 1387.17 ms\n"
     ]
    }
   ],
   "source": [
    "for i in range(5):\n",
    "    obj1 = rec_pts(data, theta, center, pts)\n",
    "obj1 = obj1.reshape(ht,wd,wd)"
   ]
  },
  {
   "cell_type": "code",
   "execution_count": 6,
   "id": "d956c06d",
   "metadata": {},
   "outputs": [
    {
     "name": "stdout",
     "output_type": "stream",
     "text": [
      "time 1313.07 ms\n",
      "time 1322.16 ms\n",
      "time 1326.68 ms\n",
      "time 1324.04 ms\n",
      "time 1329.88 ms\n",
      "time = 1324.04 ms\n"
     ]
    }
   ],
   "source": [
    "times = []\n",
    "for i in range(5):\n",
    "    obj, t_ = rec_patch(data, theta, center, 0, wd, 0, wd, 0, ht, TIMEIT=True)\n",
    "    print(f\"time {t_:.2f} ms\")\n",
    "    times.append(t_)\n",
    "print(f\"time = {np.median(times):.2f} ms\")    "
   ]
  },
  {
   "cell_type": "code",
   "execution_count": 7,
   "id": "c484c954",
   "metadata": {},
   "outputs": [
    {
     "data": {
      "text/plain": [
       "151519232"
      ]
     },
     "execution_count": 7,
     "metadata": {},
     "output_type": "execute_result"
    }
   ],
   "source": [
    "obj.size"
   ]
  },
  {
   "cell_type": "code",
   "execution_count": 8,
   "id": "294be6a4",
   "metadata": {},
   "outputs": [
    {
     "name": "stdout",
     "output_type": "stream",
     "text": [
      "is algorithm working fine? True\n"
     ]
    }
   ],
   "source": [
    "print(f'is algorithm working fine? {~np.any(obj1-obj)}')"
   ]
  },
  {
   "cell_type": "code",
   "execution_count": null,
   "id": "27b93e3e",
   "metadata": {},
   "outputs": [],
   "source": []
  },
  {
   "cell_type": "code",
   "execution_count": null,
   "id": "7e29600c",
   "metadata": {},
   "outputs": [],
   "source": []
  }
 ],
 "metadata": {
  "kernelspec": {
   "display_name": "Python tf>=2.0",
   "language": "python",
   "name": "tf2gpu"
  },
  "language_info": {
   "codemirror_mode": {
    "name": "ipython",
    "version": 3
   },
   "file_extension": ".py",
   "mimetype": "text/x-python",
   "name": "python",
   "nbconvert_exporter": "python",
   "pygments_lexer": "ipython3",
   "version": "3.9.7"
  }
 },
 "nbformat": 4,
 "nbformat_minor": 5
}
