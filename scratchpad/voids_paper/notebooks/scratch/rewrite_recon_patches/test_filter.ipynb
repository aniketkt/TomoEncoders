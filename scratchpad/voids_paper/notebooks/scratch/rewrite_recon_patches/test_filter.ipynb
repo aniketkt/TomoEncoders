{
 "cells": [
  {
   "cell_type": "markdown",
   "id": "f50c42dc",
   "metadata": {},
   "source": [
    "## Segment a sparse 3D image with a single material component  \n",
    "\n",
    "The goal of this notebook is to develop a 3D segmentation algorithm that improves segmentation where features are detected.\n",
    "\n",
    "**Data:** AM parts from Xuan Zhang. "
   ]
  },
  {
   "cell_type": "code",
   "execution_count": 1,
   "id": "dfc91290",
   "metadata": {},
   "outputs": [],
   "source": [
    "%matplotlib inline\n",
    "import numpy as np\n",
    "import matplotlib.pyplot as plt\n",
    "import os\n",
    "import h5py\n",
    "import sys\n",
    "import time\n",
    "import seaborn as sns\n",
    "import pandas as pd\n",
    "\n",
    "import cupy as cp\n",
    "from tomo_encoders import Patches\n",
    "from tomo_encoders.misc import viewer\n",
    "from tomo_encoders import DataFile\n",
    "from tomo_encoders.reconstruction.recon import fbp_filter\n",
    "# from tomo_encoders.misc.voxel_processing import cylindrical_mask, normalize_volume_gpu\n",
    "# from cupy.fft import rfft, irfft, rfftfreq\n",
    "from cupyx.scipy.fft import rfft, irfft, rfftfreq, get_fft_plan"
   ]
  },
  {
   "cell_type": "code",
   "execution_count": 2,
   "id": "b4d87834",
   "metadata": {},
   "outputs": [],
   "source": [
    "nz = 32\n",
    "n = 2176\n",
    "ntheta = 1500\n",
    "# arguments to recon_chunk2: data, theta, center, p3d\n",
    "data = cp.random.normal(0,1,(ntheta, nz, n)).astype(np.float32)"
   ]
  },
  {
   "cell_type": "code",
   "execution_count": 3,
   "id": "a1c6607d",
   "metadata": {},
   "outputs": [
    {
     "name": "stdout",
     "output_type": "stream",
     "text": [
      "n: 2176, n_pad: 3264\n",
      "pad_left: 544, pad_right: 544\n"
     ]
    },
    {
     "name": "stderr",
     "output_type": "stream",
     "text": [
      "/home/atekawade/anaconda3/envs/tf2GPU/lib/python3.9/site-packages/cupyx/scipy/fftpack/_fft.py:152: UserWarning: cuFFT plan cache is disabled on CUDA 11.1 due to a known bug, so performance may be degraded. The bug is fixed on CUDA 11.2+.\n",
      "  cache = get_plan_cache()\n"
     ]
    },
    {
     "name": "stdout",
     "output_type": "stream",
     "text": [
      "TIME fbp_filter: 212.07 ms\n",
      "n: 2176, n_pad: 3264\n",
      "pad_left: 544, pad_right: 544\n",
      "TIME fbp_filter: 45.37 ms\n",
      "n: 2176, n_pad: 3264\n",
      "pad_left: 544, pad_right: 544\n",
      "TIME fbp_filter: 41.19 ms\n",
      "n: 2176, n_pad: 3264\n",
      "pad_left: 544, pad_right: 544\n",
      "TIME fbp_filter: 40.64 ms\n",
      "n: 2176, n_pad: 3264\n",
      "pad_left: 544, pad_right: 544\n",
      "TIME fbp_filter: 40.59 ms\n",
      "n: 2176, n_pad: 3264\n",
      "pad_left: 544, pad_right: 544\n",
      "TIME fbp_filter: 40.73 ms\n",
      "n: 2176, n_pad: 3264\n",
      "pad_left: 544, pad_right: 544\n",
      "TIME fbp_filter: 43.51 ms\n",
      "n: 2176, n_pad: 3264\n",
      "pad_left: 544, pad_right: 544\n",
      "TIME fbp_filter: 49.73 ms\n",
      "n: 2176, n_pad: 3264\n",
      "pad_left: 544, pad_right: 544\n",
      "TIME fbp_filter: 41.57 ms\n",
      "n: 2176, n_pad: 3264\n",
      "pad_left: 544, pad_right: 544\n",
      "TIME fbp_filter: 41.59 ms\n"
     ]
    }
   ],
   "source": [
    "for i in range(10):\n",
    "    data = fbp_filter(data, TIMEIT = True)"
   ]
  },
  {
   "cell_type": "code",
   "execution_count": 4,
   "id": "b2376172",
   "metadata": {},
   "outputs": [
    {
     "data": {
      "text/plain": [
       "(1500, 32, 2176)"
      ]
     },
     "execution_count": 4,
     "metadata": {},
     "output_type": "execute_result"
    }
   ],
   "source": [
    "data.shape"
   ]
  },
  {
   "cell_type": "code",
   "execution_count": 6,
   "id": "8939fe39",
   "metadata": {},
   "outputs": [
    {
     "name": "stdout",
     "output_type": "stream",
     "text": [
      "n: 2176, n_pad: 3264\n",
      "pad_left: 544, pad_right: 544\n"
     ]
    }
   ],
   "source": [
    "[ntheta, nz, n] = data.shape\n",
    "n_pad = n*(1 + 0.25*2) # 1/4 padding\n",
    "n_pad = int(np.ceil(n_pad/8.0)*8.0) \n",
    "pad_left = int((n_pad - n)//2)\n",
    "pad_right = n_pad - n - pad_left\n",
    "print(f'n: {n}, n_pad: {n_pad}')\n",
    "print(f'pad_left: {pad_left}, pad_right: {pad_right}')"
   ]
  },
  {
   "cell_type": "code",
   "execution_count": 7,
   "id": "a32ab1d6",
   "metadata": {},
   "outputs": [
    {
     "name": "stdout",
     "output_type": "stream",
     "text": [
      "overhead for making padded array: 4.57 ms\n"
     ]
    }
   ],
   "source": [
    "start_gpu = cp.cuda.Event(); end_gpu = cp.cuda.Event(); start_gpu.record()\n",
    "stream = cp.cuda.Stream()\n",
    "with stream:\n",
    "    data = cp.pad(data, ((0,0),(0,0),(pad_left,pad_right)), mode = 'edge')\n",
    "end_gpu.record(); end_gpu.synchronize(); t_meas = cp.cuda.get_elapsed_time(start_gpu,end_gpu)\n",
    "print(f\"overhead for making padded array: {t_meas:.2f} ms\")        "
   ]
  },
  {
   "cell_type": "code",
   "execution_count": 8,
   "id": "9751f4e1",
   "metadata": {},
   "outputs": [
    {
     "name": "stdout",
     "output_type": "stream",
     "text": [
      "overhead for making fft plan?: 16.96 ms\n"
     ]
    }
   ],
   "source": [
    "start_gpu = cp.cuda.Event(); end_gpu = cp.cuda.Event(); start_gpu.record()\n",
    "stream = cp.cuda.Stream()\n",
    "with stream:\n",
    "    plan_fwd = get_fft_plan(data, axes=2, value_type='R2C')  # for batched, C2C, 2D transform\n",
    "    plan_inv = get_fft_plan(rfft(data,axis=2), axes=2, value_type='C2R')  # for batched, C2C, 2D transform\n",
    "end_gpu.record(); end_gpu.synchronize(); t_meas = cp.cuda.get_elapsed_time(start_gpu,end_gpu)\n",
    "print(f\"overhead for making fft plan?: {t_meas:.2f} ms\")        "
   ]
  },
  {
   "cell_type": "code",
   "execution_count": 9,
   "id": "1e2fa5df",
   "metadata": {},
   "outputs": [
    {
     "name": "stdout",
     "output_type": "stream",
     "text": [
      "time for applying filter: 29.41 ms\n"
     ]
    }
   ],
   "source": [
    "start_gpu = cp.cuda.Event(); end_gpu = cp.cuda.Event(); start_gpu.record()\n",
    "with plan_fwd:\n",
    "    \n",
    "    # filter mask\n",
    "    t = rfftfreq(data.shape[2])\n",
    "    wfilter = t.astype(cp.float32) #* (1 - t * 2)**3  # parzen\n",
    "\n",
    "    data0 = wfilter*rfft(data, axis=2)\n",
    "\n",
    "with plan_inv:\n",
    "    data[:] = irfft(data0, axis=2)\n",
    "\n",
    "    #     for k in range(data.shape[0]):\n",
    "    #         data[k] = irfft(wfilter*rfft(data[k], axis=1), axis=1)\n",
    "\n",
    "end_gpu.record(); end_gpu.synchronize(); t_meas = cp.cuda.get_elapsed_time(start_gpu,end_gpu)\n",
    "print(f\"time for applying filter: {t_meas:.2f} ms\")        "
   ]
  },
  {
   "cell_type": "code",
   "execution_count": null,
   "id": "70f24a19",
   "metadata": {},
   "outputs": [],
   "source": []
  },
  {
   "cell_type": "code",
   "execution_count": null,
   "id": "4121d56d",
   "metadata": {},
   "outputs": [],
   "source": []
  },
  {
   "cell_type": "code",
   "execution_count": null,
   "id": "5a3b3d90",
   "metadata": {},
   "outputs": [],
   "source": []
  },
  {
   "cell_type": "code",
   "execution_count": null,
   "id": "b3fcf57f",
   "metadata": {},
   "outputs": [],
   "source": []
  },
  {
   "cell_type": "code",
   "execution_count": null,
   "id": "7e29600c",
   "metadata": {},
   "outputs": [],
   "source": []
  }
 ],
 "metadata": {
  "kernelspec": {
   "display_name": "Python tf>=2.0",
   "language": "python",
   "name": "tf2gpu"
  },
  "language_info": {
   "codemirror_mode": {
    "name": "ipython",
    "version": 3
   },
   "file_extension": ".py",
   "mimetype": "text/x-python",
   "name": "python",
   "nbconvert_exporter": "python",
   "pygments_lexer": "ipython3",
   "version": "3.9.7"
  }
 },
 "nbformat": 4,
 "nbformat_minor": 5
}
