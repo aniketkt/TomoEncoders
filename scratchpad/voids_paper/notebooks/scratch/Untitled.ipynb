{
 "cells": [
  {
   "cell_type": "code",
   "execution_count": 1,
   "id": "9be66d5c",
   "metadata": {},
   "outputs": [
    {
     "name": "stdout",
     "output_type": "stream",
     "text": [
      "\n",
      " ####################################################### \n",
      "\n",
      "\n",
      "Model is M_a07\n",
      "n_filters [8, 16]\n",
      "n_blocks 2\n",
      "activation lrelu\n",
      "batch_norm True\n",
      "isconcat [True, True]\n",
      "pool_size [2, 4]\n"
     ]
    }
   ],
   "source": [
    "import numpy as np\n",
    "import matplotlib.pyplot as plt\n",
    "import os\n",
    "import h5py\n",
    "import sys\n",
    "import time\n",
    "import seaborn as sns\n",
    "import pandas as pd\n",
    "\n",
    "sys.path.append('/home/atekawade/TomoEncoders/scratchpad/voids_paper/configs/')\n",
    "from tomo_encoders import Grid\n",
    "from tomo_encoders.misc import viewer\n",
    "from tomo_encoders import DataFile\n",
    "import cupy as cp\n",
    "from tomo_encoders.reconstruction.project import get_projections\n",
    "from tomo_encoders.reconstruction.recon import recon_binning, recon_patches_3d, recon_patches_3d_2\n",
    "from tomo_encoders.misc.voxel_processing import cylindrical_mask, normalize_volume_gpu\n",
    "from params import model_path, get_model_params\n",
    "from tomo_encoders.neural_nets.surface_segmenter import SurfaceSegmenter\n",
    "import tensorflow as tf\n",
    "from cupyx.scipy.ndimage import zoom\n",
    "\n",
    "######## START GPU SETTINGS ############\n",
    "########## SET MEMORY GROWTH to True ############\n",
    "physical_devices = tf.config.list_physical_devices('GPU')\n",
    "try:\n",
    "    tf.config.experimental.set_memory_growth(physical_devices[0], True)\n",
    "except:\n",
    "    # Invalid device or cannot modify virtual devices once initialized.\n",
    "    pass        \n",
    "######### END GPU SETTINGS ############\n",
    "\n",
    "model_tag = \"M_a07\"\n",
    "model_names = {\"segmenter\" : \"segmenter_Unet_%s\"%model_tag}\n",
    "model_params = get_model_params(model_tag)\n",
    "# patch size\n",
    "wd = 32\n",
    "# guess surface parameters\n",
    "b = 4\n",
    "b_K = 4\n"
   ]
  },
  {
   "cell_type": "code",
   "execution_count": 2,
   "id": "65f6af42",
   "metadata": {},
   "outputs": [],
   "source": [
    "def guess_surface(projs, theta, center, fe, b, b_K, wd):\n",
    "    ## P-GUESS ##\n",
    "    # reconstruction\n",
    "    V_bin = recon_binning(projs, theta, center, b_K, b)    \n",
    "    # segmentation\n",
    "    min_max = V_bin.min(), V_bin.max()\n",
    "    p3d_bin = Grid(V_bin.shape, width = wd)\n",
    "    x = p3d_bin.extract(V_bin) # effectively 128^3 patches in a full volume\n",
    "    x = fe.predict_patches(\"segmenter\", x[...,np.newaxis], 256, None, min_max = min_max)[...,0]\n",
    "    p3d_bin.fill_patches_in_volume(x, V_bin)\n",
    "\n",
    "    # find patches on surface\n",
    "    p3d = Grid(V_bin.shape, width = int(wd//b))\n",
    "    x = p3d.extract(V_bin)\n",
    "\n",
    "    return x, p3d\n"
   ]
  },
  {
   "cell_type": "code",
   "execution_count": 39,
   "id": "a9b486e8",
   "metadata": {},
   "outputs": [
    {
     "name": "stdout",
     "output_type": "stream",
     "text": [
      "WARNING:tensorflow:No training configuration found in the save file, so the model was *not* compiled. Compile it manually.\n",
      "inf. time per patch (32, 32, 32) = 2.56 ms, nb = 128\n",
      "inf. time per voxel 78.10 ns\n",
      "\n",
      "\n",
      "inf. time per patch (32, 32, 32) = 1.29 ms, nb = 128\n",
      "inf. time per voxel 39.33 ns\n",
      "\n",
      "\n",
      "inf. time per patch (32, 32, 32) = 1.21 ms, nb = 128\n",
      "inf. time per voxel 36.79 ns\n",
      "\n",
      "\n",
      "inf. time per patch (32, 32, 32) = 1.17 ms, nb = 128\n",
      "inf. time per voxel 35.80 ns\n",
      "\n",
      "\n",
      "inf. time per patch (32, 32, 32) = 1.21 ms, nb = 128\n",
      "inf. time per voxel 37.03 ns\n",
      "\n",
      "\n",
      "SHAPE OF PROJECTION DATA: (1500, 896, 2176)\n",
      "STEP: guess surface\n",
      "TIME: guessing neighborhood of surface: 4.70 seconds\n"
     ]
    }
   ],
   "source": [
    "\n",
    "# initialize segmenter fCNN\n",
    "fe = SurfaceSegmenter(model_initialization = 'load-model', \\\n",
    "                     model_names = model_names, \\\n",
    "                     model_path = model_path)    \n",
    "fe.test_speeds(128,n_reps = 5, input_size = (wd,wd,wd))    \n",
    "\n",
    "# read data and initialize output arrays\n",
    "## to-do: ensure reconstructed object has dimensions that are a multiple of the (wd,wd,wd) !!    \n",
    "hf = h5py.File('/data02/MyArchive/aisteer_3Dencoders/tmp_data/projs_2k.hdf5', 'r')\n",
    "projs = np.asarray(hf[\"data\"][:])\n",
    "theta = np.asarray(hf['theta'][:])\n",
    "center = float(np.asarray(hf[\"center\"]))\n",
    "hf.close()\n",
    "\n",
    "# make sure projection shapes are divisible by the patch width (both binning and full steps)\n",
    "print(f'SHAPE OF PROJECTION DATA: {projs.shape}')\n",
    "\n",
    "##### BEGIN ALGORITHM ########\n",
    "# guess surface\n",
    "print(\"STEP: guess surface\")\n",
    "start_guess = cp.cuda.Event(); end_guess = cp.cuda.Event(); start_guess.record()\n",
    "# p_surf, p_ones, p_zeros = guess_surface(projs, theta, center, fe, b, b_K, wd)\n",
    "x, p = guess_surface(projs, theta, center, fe, b, b_K, wd)\n",
    "end_guess.record(); end_guess.synchronize(); t_guess = cp.cuda.get_elapsed_time(start_guess,end_guess)\n",
    "print(f'TIME: guessing neighborhood of surface: {t_guess/1000.0:.2f} seconds')\n"
   ]
  },
  {
   "cell_type": "code",
   "execution_count": 43,
   "id": "06b0775c",
   "metadata": {},
   "outputs": [],
   "source": [
    "pz, py, px = [int(p.vol_shape[i]/p.wd) for i in range(3)]"
   ]
  },
  {
   "cell_type": "code",
   "execution_count": 51,
   "id": "cf5c4b47",
   "metadata": {},
   "outputs": [],
   "source": [
    "sums = (np.sum(x, axis = (1,2,3))/(8**3)).astype(np.float16)"
   ]
  },
  {
   "cell_type": "code",
   "execution_count": 73,
   "id": "c822549e",
   "metadata": {},
   "outputs": [],
   "source": [
    "vol_p = np.zeros((pz,py,px), dtype = np.float16)"
   ]
  },
  {
   "cell_type": "code",
   "execution_count": 77,
   "id": "f59df8c1",
   "metadata": {},
   "outputs": [
    {
     "data": {
      "text/plain": [
       "129472"
      ]
     },
     "execution_count": 77,
     "metadata": {},
     "output_type": "execute_result"
    }
   ],
   "source": [
    "vol_p.flat[:].size\n",
    "sums.size"
   ]
  },
  {
   "cell_type": "code",
   "execution_count": 78,
   "id": "9c95b3f5",
   "metadata": {},
   "outputs": [],
   "source": [
    "idx_surf = np.where((sums>0) & (sums<1))[0]"
   ]
  },
  {
   "cell_type": "code",
   "execution_count": 65,
   "id": "e1ebc505",
   "metadata": {},
   "outputs": [
    {
     "data": {
      "text/plain": [
       "array([<AxesSubplot:>, <AxesSubplot:>, <AxesSubplot:>], dtype=object)"
      ]
     },
     "execution_count": 65,
     "metadata": {},
     "output_type": "execute_result"
    },
    {
     "data": {
      "image/png": "[encoded data removed]",
      "text/plain": [
       "<Figure size 864x288 with 3 Axes>"
      ]
     },
     "metadata": {
      "needs_background": "light"
     },
     "output_type": "display_data"
    }
   ],
   "source": [
    "fig, ax = plt.subplots(1,3, figsize = (12,4))\n",
    "viewer.view_midplanes(vol_p, ax = ax)"
   ]
  },
  {
   "cell_type": "markdown",
   "id": "f44be054",
   "metadata": {},
   "source": [
    "TRASH"
   ]
  },
  {
   "cell_type": "code",
   "execution_count": null,
   "id": "57b6fbe9",
   "metadata": {},
   "outputs": [],
   "source": []
  },
  {
   "cell_type": "code",
   "execution_count": null,
   "id": "b12f4b64",
   "metadata": {},
   "outputs": [],
   "source": []
  },
  {
   "cell_type": "code",
   "execution_count": null,
   "id": "aee6c248",
   "metadata": {},
   "outputs": [],
   "source": []
  },
  {
   "cell_type": "code",
   "execution_count": 77,
   "id": "b2b6b018",
   "metadata": {},
   "outputs": [
    {
     "data": {
      "text/plain": [
       "array([    11,     14,     15, ..., 129296, 129302, 129307])"
      ]
     },
     "execution_count": 77,
     "metadata": {},
     "output_type": "execute_result"
    }
   ],
   "source": [
    "np.sort(np.unique(idx_perc))"
   ]
  }
 ],
 "metadata": {
  "kernelspec": {
   "display_name": "Python tf>=2.0",
   "language": "python",
   "name": "tf2gpu"
  },
  "language_info": {
   "codemirror_mode": {
    "name": "ipython",
    "version": 3
   },
   "file_extension": ".py",
   "mimetype": "text/x-python",
   "name": "python",
   "nbconvert_exporter": "python",
   "pygments_lexer": "ipython3",
   "version": "3.9.7"
  }
 },
 "nbformat": 4,
 "nbformat_minor": 5
}
