{
 "cells": [
  {
   "cell_type": "code",
   "execution_count": 1,
   "id": "c0aea252",
   "metadata": {},
   "outputs": [],
   "source": [
    "import sys\n",
    "sys.path.append('../trainer/')\n",
    "from params import model_path, get_model_params\n",
    "from tomo_encoders.neural_nets.surface_segmenter import SurfaceSegmenter\n",
    "import numpy as np"
   ]
  },
  {
   "cell_type": "code",
   "execution_count": 2,
   "id": "ec6c54b9",
   "metadata": {},
   "outputs": [
    {
     "name": "stdout",
     "output_type": "stream",
     "text": [
      "\n",
      " ####################################################### \n",
      "\n",
      "\n",
      "Model is M_a04\n",
      "n_filters [32, 64]\n",
      "n_blocks 2\n",
      "activation lrelu\n",
      "batch_norm True\n",
      "isconcat [True, True]\n",
      "pool_size [2, 4]\n"
     ]
    }
   ],
   "source": [
    "model_tag = \"M_a04\"\n",
    "model_names = {\"segmenter\" : \"segmenter_Unet_%s\"%model_tag}\n",
    "model_params = get_model_params(model_tag)\n",
    "patch_size = (32,32,32)"
   ]
  },
  {
   "cell_type": "code",
   "execution_count": 3,
   "id": "79a9fa47",
   "metadata": {
    "scrolled": false
   },
   "outputs": [
    {
     "name": "stdout",
     "output_type": "stream",
     "text": [
      "WARNING:tensorflow:No training configuration found in the save file, so the model was *not* compiled. Compile it manually.\n",
      "inf. time per patch (32, 32, 32) = 29.08 ms, nb = 128\n",
      "inf. time per voxel 887.53 ns\n",
      "\n",
      "\n",
      "inf. time per patch (32, 32, 32) = 6.44 ms, nb = 128\n",
      "inf. time per voxel 196.51 ns\n",
      "\n",
      "\n",
      "inf. time per patch (32, 32, 32) = 6.38 ms, nb = 128\n",
      "inf. time per voxel 194.62 ns\n",
      "\n",
      "\n",
      "inf. time per patch (32, 32, 32) = 6.34 ms, nb = 128\n",
      "inf. time per voxel 193.61 ns\n",
      "\n",
      "\n",
      "inf. time per patch (32, 32, 32) = 6.34 ms, nb = 128\n",
      "inf. time per voxel 193.36 ns\n",
      "\n",
      "\n",
      "inf. time per patch (32, 32, 32) = 6.37 ms, nb = 128\n",
      "inf. time per voxel 194.27 ns\n",
      "\n",
      "\n",
      "inf. time per patch (32, 32, 32) = 6.40 ms, nb = 128\n",
      "inf. time per voxel 195.44 ns\n",
      "\n",
      "\n",
      "inf. time per patch (32, 32, 32) = 6.40 ms, nb = 128\n",
      "inf. time per voxel 195.23 ns\n",
      "\n",
      "\n",
      "inf. time per patch (32, 32, 32) = 6.42 ms, nb = 128\n",
      "inf. time per voxel 195.87 ns\n",
      "\n",
      "\n",
      "inf. time per patch (32, 32, 32) = 6.35 ms, nb = 128\n",
      "inf. time per voxel 193.84 ns\n",
      "\n",
      "\n"
     ]
    }
   ],
   "source": [
    "fe = SurfaceSegmenter(model_initialization = 'load-model', \\\n",
    "                     model_names = model_names, \\\n",
    "                     model_path = model_path)    \n",
    "fe.test_speeds(128,n_reps = 10, input_size = patch_size)"
   ]
  },
  {
   "cell_type": "code",
   "execution_count": 9,
   "id": "caf99649",
   "metadata": {},
   "outputs": [
    {
     "data": {
      "text/plain": [
       "1.1415065255369437"
      ]
     },
     "execution_count": 9,
     "metadata": {},
     "output_type": "execute_result"
    }
   ],
   "source": [
    "222.16/194.62"
   ]
  },
  {
   "cell_type": "code",
   "execution_count": 8,
   "id": "ad4f2e08",
   "metadata": {},
   "outputs": [
    {
     "data": {
      "text/plain": [
       "194.62"
      ]
     },
     "execution_count": 8,
     "metadata": {},
     "output_type": "execute_result"
    }
   ],
   "source": [
    "np.median([196.51,194.62,193.61,193.36,194.27,195.44,195.23,195.87,193.84])"
   ]
  },
  {
   "cell_type": "code",
   "execution_count": 4,
   "id": "8b1c17fa",
   "metadata": {},
   "outputs": [
    {
     "data": {
      "text/plain": [
       "222.16"
      ]
     },
     "execution_count": 4,
     "metadata": {},
     "output_type": "execute_result"
    }
   ],
   "source": [
    "np.median([221.83,222.15,224.37,223.67,230.39,221.15,222.28,222.16,222.0])"
   ]
  },
  {
   "cell_type": "code",
   "execution_count": 5,
   "id": "1cd02516",
   "metadata": {},
   "outputs": [
    {
     "data": {
      "text/plain": [
       "39.16"
      ]
     },
     "execution_count": 5,
     "metadata": {},
     "output_type": "execute_result"
    }
   ],
   "source": [
    "np.median([41.21,35.74,36.01,38.52,39.29,40.22,38.55,40.46,39.16])"
   ]
  },
  {
   "cell_type": "code",
   "execution_count": 6,
   "id": "0d86077b",
   "metadata": {},
   "outputs": [
    {
     "name": "stdout",
     "output_type": "stream",
     "text": [
      "[(None, None, None, None, 1)]    ::    input_4\n",
      "(None, None, None, None, 32)    ::    conv3d_41\n",
      "(None, None, None, None, 32)    ::    batch_normalization_38\n",
      "(None, None, None, None, 32)    ::    leaky_re_lu_46\n",
      "(None, None, None, None, 64)    ::    conv3d_42\n",
      "(None, None, None, None, 64)    ::    batch_normalization_39\n",
      "(None, None, None, None, 64)    ::    leaky_re_lu_47\n",
      "(None, None, None, None, 64)    ::    max_pooling3d_8\n",
      "(None, None, None, None, 64)    ::    conv3d_43\n",
      "(None, None, None, None, 64)    ::    batch_normalization_40\n",
      "(None, None, None, None, 64)    ::    leaky_re_lu_48\n",
      "(None, None, None, None, 128)    ::    conv3d_44\n",
      "(None, None, None, None, 128)    ::    batch_normalization_41\n",
      "(None, None, None, None, 128)    ::    leaky_re_lu_49\n",
      "(None, None, None, None, 128)    ::    max_pooling3d_9\n",
      "(None, None, None, None, 128)    ::    conv3d_45\n",
      "(None, None, None, None, 128)    ::    batch_normalization_42\n",
      "(None, None, None, None, 128)    ::    leaky_re_lu_50\n",
      "(None, None, None, None, 256)    ::    conv3d_46\n",
      "(None, None, None, None, 256)    ::    batch_normalization_43\n",
      "(None, None, None, None, 256)    ::    leaky_re_lu_51\n",
      "(None, None, None, None, 256)    ::    conv3d_transpose_8\n",
      "(None, None, None, None, 256)    ::    leaky_re_lu_52\n",
      "(None, None, None, None, 384)    ::    concatenate_8\n",
      "(None, None, None, None, 128)    ::    conv3d_47\n",
      "(None, None, None, None, 128)    ::    batch_normalization_44\n",
      "(None, None, None, None, 128)    ::    leaky_re_lu_53\n",
      "(None, None, None, None, 128)    ::    conv3d_48\n",
      "(None, None, None, None, 128)    ::    batch_normalization_45\n",
      "(None, None, None, None, 128)    ::    leaky_re_lu_54\n",
      "(None, None, None, None, 128)    ::    conv3d_transpose_9\n",
      "(None, None, None, None, 128)    ::    leaky_re_lu_55\n",
      "(None, None, None, None, 192)    ::    concatenate_9\n",
      "(None, None, None, None, 64)    ::    conv3d_49\n",
      "(None, None, None, None, 64)    ::    batch_normalization_46\n",
      "(None, None, None, None, 64)    ::    leaky_re_lu_56\n",
      "(None, None, None, None, 64)    ::    conv3d_50\n",
      "(None, None, None, None, 64)    ::    batch_normalization_47\n",
      "(None, None, None, None, 64)    ::    leaky_re_lu_57\n",
      "(None, None, None, None, 1)    ::    conv3d_51\n"
     ]
    }
   ],
   "source": [
    "fe.print_layers(\"segmenter\")"
   ]
  },
  {
   "cell_type": "code",
   "execution_count": 7,
   "id": "2d98387d",
   "metadata": {},
   "outputs": [
    {
     "data": {
      "text/plain": [
       "5.673135852911134"
      ]
     },
     "execution_count": 7,
     "metadata": {},
     "output_type": "execute_result"
    }
   ],
   "source": [
    "222.16/39.16"
   ]
  },
  {
   "cell_type": "code",
   "execution_count": null,
   "id": "f4570237",
   "metadata": {},
   "outputs": [],
   "source": []
  },
  {
   "cell_type": "code",
   "execution_count": null,
   "id": "bc2a144b",
   "metadata": {},
   "outputs": [],
   "source": []
  },
  {
   "cell_type": "code",
   "execution_count": null,
   "id": "98a0cd5e",
   "metadata": {},
   "outputs": [],
   "source": []
  },
  {
   "cell_type": "code",
   "execution_count": null,
   "id": "03917ffa",
   "metadata": {},
   "outputs": [],
   "source": []
  }
 ],
 "metadata": {
  "kernelspec": {
   "display_name": "Python tf>=2.0",
   "language": "python",
   "name": "tf2gpu"
  },
  "language_info": {
   "codemirror_mode": {
    "name": "ipython",
    "version": 3
   },
   "file_extension": ".py",
   "mimetype": "text/x-python",
   "name": "python",
   "nbconvert_exporter": "python",
   "pygments_lexer": "ipython3",
   "version": "3.9.7"
  }
 },
 "nbformat": 4,
 "nbformat_minor": 5
}
