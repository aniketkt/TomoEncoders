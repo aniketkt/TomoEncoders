{
 "cells": [
  {
   "cell_type": "markdown",
   "id": "f50c42dc",
   "metadata": {},
   "source": [
    "## Segment a sparse 3D image with a single material component  \n",
    "\n",
    "The goal of this notebook is to develop a 3D segmentation algorithm that improves segmentation where features are detected.\n",
    "\n",
    "**Data:** AM parts from Xuan Zhang. "
   ]
  },
  {
   "cell_type": "code",
   "execution_count": 1,
   "id": "dfc91290",
   "metadata": {},
   "outputs": [],
   "source": [
    "%matplotlib inline\n",
    "import numpy as np\n",
    "import matplotlib.pyplot as plt\n",
    "import seaborn as sns\n",
    "\n",
    "from tomo_encoders.misc import viewer\n",
    "from tomo_encoders import DataFile\n",
    "from scipy.ndimage import label, find_objects\n",
    "from tifffile import imsave"
   ]
  },
  {
   "cell_type": "code",
   "execution_count": 2,
   "id": "10386096",
   "metadata": {},
   "outputs": [
    {
     "name": "stdout",
     "output_type": "stream",
     "text": [
      "\n",
      "##################################################\n",
      "Found existing tiff folder: test_y_pred\n",
      "Dataset shape: (896, 2176, 2176)\n",
      "\n",
      "##################################################\n",
      "Found existing tiff folder: test_x_rec\n",
      "Dataset shape: (896, 2176, 2176)\n"
     ]
    }
   ],
   "source": [
    "Vp = DataFile('/data02/MyArchive/aisteer_3Dencoders/tmp_data/test_y_pred', tiff = True).read_full()\n",
    "Vx = DataFile('/data02/MyArchive/aisteer_3Dencoders/tmp_data/test_x_rec', tiff = True).read_full()"
   ]
  },
  {
   "cell_type": "code",
   "execution_count": 3,
   "id": "1c1d4317",
   "metadata": {},
   "outputs": [],
   "source": [
    "imx = viewer.get_orthoplanes(vol = Vx)\n",
    "imp = viewer.get_orthoplanes(vol = Vp)"
   ]
  },
  {
   "cell_type": "code",
   "execution_count": 4,
   "id": "460113ae",
   "metadata": {},
   "outputs": [],
   "source": [
    "lab_arr, n_objs = label(Vp)\n",
    "p_obj = find_objects(lab_arr)\n",
    "idx_biggest_void= lab_arr[448,1150,1250]"
   ]
  },
  {
   "cell_type": "code",
   "execution_count": 5,
   "id": "04a3b903",
   "metadata": {},
   "outputs": [
    {
     "data": {
      "text/plain": [
       "array([<AxesSubplot:>, <AxesSubplot:>, <AxesSubplot:>], dtype=object)"
      ]
     },
     "execution_count": 5,
     "metadata": {},
     "output_type": "execute_result"
    },
    {
     "data": {
      "image/png": "[encoded data removed]",
      "text/plain": [
       "<Figure size 432x288 with 3 Axes>"
      ]
     },
     "metadata": {
      "needs_background": "light"
     },
     "output_type": "display_data"
    }
   ],
   "source": [
    "viewer.view_midplanes(lab_arr[p_obj[idx_biggest_void-1]] == idx_biggest_void)"
   ]
  },
  {
   "cell_type": "code",
   "execution_count": 6,
   "id": "89112a9c",
   "metadata": {},
   "outputs": [],
   "source": [
    "v = lab_arr[p_obj[7215]] == 7216\n",
    "r = Vx[p_obj[7215]]"
   ]
  },
  {
   "cell_type": "code",
   "execution_count": 7,
   "id": "565660b5",
   "metadata": {},
   "outputs": [],
   "source": [
    "imsave('/home/atekawade/Dropbox/Arg/transfers/tmp/vol_bin.tiff', data = v.astype(np.uint8))"
   ]
  },
  {
   "cell_type": "code",
   "execution_count": 8,
   "id": "95f9bf15",
   "metadata": {},
   "outputs": [],
   "source": [
    "imsave('/home/atekawade/Dropbox/Arg/transfers/tmp/vol_rec.tiff', data = r)"
   ]
  },
  {
   "cell_type": "code",
   "execution_count": null,
   "id": "fc6580ac",
   "metadata": {},
   "outputs": [],
   "source": []
  },
  {
   "cell_type": "code",
   "execution_count": null,
   "id": "7e29600c",
   "metadata": {},
   "outputs": [],
   "source": []
  }
 ],
 "metadata": {
  "kernelspec": {
   "display_name": "Python tf>=2.0",
   "language": "python",
   "name": "tf2gpu"
  },
  "language_info": {
   "codemirror_mode": {
    "name": "ipython",
    "version": 3
   },
   "file_extension": ".py",
   "mimetype": "text/x-python",
   "name": "python",
   "nbconvert_exporter": "python",
   "pygments_lexer": "ipython3",
   "version": "3.9.7"
  }
 },
 "nbformat": 4,
 "nbformat_minor": 5
}
