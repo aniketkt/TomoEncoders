{
 "cells": [
  {
   "cell_type": "code",
   "execution_count": 1,
   "id": "90ddbc85",
   "metadata": {},
   "outputs": [],
   "source": [
    "from tomo_encoders.tasks.digital_zoom import coarse_map, process_subset\n",
    "from tomo_encoders.misc.voxel_processing import TimerGPU\n",
    "from tomo_encoders.structures.voids import Voids\n",
    "from utils import *\n",
    "from tomo_encoders.neural_nets.surface_segmenter import SurfaceSegmenter\n",
    "import numpy as np\n",
    "import matplotlib.pyplot as plt\n",
    "import os\n",
    "import numexpr as ne"
   ]
  },
  {
   "cell_type": "code",
   "execution_count": 2,
   "id": "b6085ab3",
   "metadata": {},
   "outputs": [
    {
     "name": "stdout",
     "output_type": "stream",
     "text": [
      "(1500, 2048, 2048)\n"
     ]
    }
   ],
   "source": [
    "projs, theta, center = read_raw_data_b2()"
   ]
  },
  {
   "cell_type": "code",
   "execution_count": 3,
   "id": "db885b32",
   "metadata": {},
   "outputs": [],
   "source": [
    "def downsample(data, b):\n",
    "    \"\"\"Downsample data\"\"\"\n",
    "    binning = int(np.log2(b))\n",
    "    for j in range(binning):\n",
    "        x = data[:, :, ::2]\n",
    "        y = data[:, :, 1::2]\n",
    "        data = ne.evaluate('0.5*(x + y)')  # should use multithreading\n",
    "        \n",
    "    for k in range(binning):\n",
    "        x = data[:, ::2]\n",
    "        y = data[:, 1::2]\n",
    "        data = ne.evaluate('0.5*(x + y)')\n",
    "    return data.astype(np.uint16)"
   ]
  },
  {
   "cell_type": "code",
   "execution_count": 4,
   "id": "00272de0",
   "metadata": {},
   "outputs": [
    {
     "name": "stdout",
     "output_type": "stream",
     "text": [
      "\tTIME: COARSE RECON 1.23 secs\n",
      "\tSTAT: voids found - 2736\n",
      "\tTIME: LABELING 1.63 secs\n"
     ]
    }
   ],
   "source": [
    "voids_b = coarse_map(projs, theta, center, 4, 4, 2)"
   ]
  },
  {
   "cell_type": "code",
   "execution_count": 5,
   "id": "7b0ff85b",
   "metadata": {},
   "outputs": [
    {
     "name": "stdout",
     "output_type": "stream",
     "text": [
      "\tTIME: COARSE RECON 9.59 secs\n",
      "\tSTAT: voids found - 40153\n",
      "\tTIME: LABELING 12.63 secs\n"
     ]
    }
   ],
   "source": [
    "voids_b = coarse_map(projs, theta, center, 2, 2, 2)"
   ]
  },
  {
   "cell_type": "code",
   "execution_count": 6,
   "id": "bfb1a0dc",
   "metadata": {},
   "outputs": [
    {
     "name": "stdout",
     "output_type": "stream",
     "text": [
      "\tSTAT: 1/r value: 37.57\n"
     ]
    }
   ],
   "source": [
    "p_voids, r_fac = voids_b.export_grid(32)"
   ]
  },
  {
   "cell_type": "code",
   "execution_count": null,
   "id": "e227a170",
   "metadata": {},
   "outputs": [],
   "source": []
  },
  {
   "cell_type": "code",
   "execution_count": null,
   "id": "049bf05f",
   "metadata": {},
   "outputs": [],
   "source": []
  },
  {
   "cell_type": "code",
   "execution_count": null,
   "id": "37e9f64e",
   "metadata": {},
   "outputs": [],
   "source": []
  },
  {
   "cell_type": "code",
   "execution_count": null,
   "id": "980c3f85",
   "metadata": {},
   "outputs": [],
   "source": []
  }
 ],
 "metadata": {
  "kernelspec": {
   "display_name": "tf2 cuda 112",
   "language": "python",
   "name": "tf2gpu"
  },
  "language_info": {
   "codemirror_mode": {
    "name": "ipython",
    "version": 3
   },
   "file_extension": ".py",
   "mimetype": "text/x-python",
   "name": "python",
   "nbconvert_exporter": "python",
   "pygments_lexer": "ipython3",
   "version": "3.9.12"
  }
 },
 "nbformat": 4,
 "nbformat_minor": 5
}
