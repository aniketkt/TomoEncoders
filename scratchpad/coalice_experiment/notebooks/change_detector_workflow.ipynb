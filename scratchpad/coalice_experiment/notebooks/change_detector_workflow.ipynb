{
 "cells": [
  {
   "cell_type": "markdown",
   "id": "f50c42dc",
   "metadata": {},
   "source": [
    "## Change Detector in 4D tomography  \n",
    "\n",
    "The goal of this notebook to build and test a \"change detector\" that returns coordinates of ROI(s) inside a 3D volume where morphology changes w.r.t the previous 3D image. To measure this change, a sub-volume (or patch) at time-step = t and the same patch from time-step = t-1 is passed through a latent feature extractor, then the Euclidean distance between the latent embeddings is computed as the \"change metric\". An array of this metric computed for different patches is then sorted to find the top 'n' patches that changed. Then this is visualized in a point cloud.  \n",
    "Two reconstructions at time-steps 0 and 25, where tstep is defined as one full rotation (360) are compared here.  \n",
    "**Data:** Coal-ice experiment data from Viktor Nikitin (APS 2-BM).  "
   ]
  },
  {
   "cell_type": "code",
   "execution_count": 1,
   "id": "dfc91290",
   "metadata": {},
   "outputs": [
    {
     "ename": "ModuleNotFoundError",
     "evalue": "No module named 'ct_segnet'",
     "output_type": "error",
     "traceback": [
      "\u001b[0;31m---------------------------------------------------------------------------\u001b[0m",
      "\u001b[0;31mModuleNotFoundError\u001b[0m                       Traceback (most recent call last)",
      "\u001b[0;32m/tmp/ipykernel_29946/3435807250.py\u001b[0m in \u001b[0;36m<module>\u001b[0;34m\u001b[0m\n\u001b[1;32m      5\u001b[0m \u001b[0;32mimport\u001b[0m \u001b[0mh5py\u001b[0m\u001b[0;34m\u001b[0m\u001b[0;34m\u001b[0m\u001b[0m\n\u001b[1;32m      6\u001b[0m \u001b[0;32mimport\u001b[0m \u001b[0msys\u001b[0m\u001b[0;34m\u001b[0m\u001b[0;34m\u001b[0m\u001b[0m\n\u001b[0;32m----> 7\u001b[0;31m \u001b[0;32mfrom\u001b[0m \u001b[0mct_segnet\u001b[0m \u001b[0;32mimport\u001b[0m \u001b[0mviewer\u001b[0m\u001b[0;34m\u001b[0m\u001b[0;34m\u001b[0m\u001b[0m\n\u001b[0m\u001b[1;32m      8\u001b[0m \u001b[0;31m# from features3D import FeatureExtractor4D\u001b[0m\u001b[0;34m\u001b[0m\u001b[0;34m\u001b[0m\u001b[0m\n\u001b[1;32m      9\u001b[0m \u001b[0;32mfrom\u001b[0m \u001b[0mtomo_encoders\u001b[0m\u001b[0;34m.\u001b[0m\u001b[0mpatches\u001b[0m \u001b[0;32mimport\u001b[0m \u001b[0mPatches\u001b[0m\u001b[0;34m\u001b[0m\u001b[0;34m\u001b[0m\u001b[0m\n",
      "\u001b[0;31mModuleNotFoundError\u001b[0m: No module named 'ct_segnet'"
     ]
    }
   ],
   "source": [
    "%matplotlib inline\n",
    "import numpy as np\n",
    "import matplotlib.pyplot as plt\n",
    "import os\n",
    "import h5py\n",
    "import sys\n",
    "from ct_segnet import viewer\n",
    "# from features3D import FeatureExtractor4D\n",
    "from tomo_encoders.patches import Patches\n",
    "import tensorflow as tf\n",
    "from tomo_encoders.neural_nets.porosity_encoders import build_CAE_3D\n",
    "sys.path.append('../.')\n",
    "from recon4D import DataGetter\n",
    "import time\n",
    "from feature_detection import SelfSupervisedCAE\n",
    "from vis_utils import *"
   ]
  },
  {
   "cell_type": "code",
   "execution_count": null,
   "id": "2a72fef5",
   "metadata": {},
   "outputs": [],
   "source": [
    "# Reconstruction stuff\n",
    "fnames = ['/data02/MyArchive/coalice/melting_086.h5', \\\n",
    "          '/data02/MyArchive/coalice/flat_fields_melting_086.h5', \\\n",
    "          '/data02/MyArchive/coalice/dark_fields_melting_086.h5']\n",
    "ntheta = 361 # these many projections per 180 degree spin\n",
    "recon_params = {\"mask_ratio\" : None, \\\n",
    "                \"contrast_s\" : 0.01}"
   ]
  },
  {
   "cell_type": "code",
   "execution_count": null,
   "id": "6b425887",
   "metadata": {},
   "outputs": [],
   "source": [
    "idxs = [0, 720*25]\n",
    "dget = DataGetter(*fnames, ntheta)\n",
    "vols = [dget.reconstruct_window(idx,dget.find_center(idx), **recon_params) for idx in idxs]\n",
    "# fig, ax = plt.subplots(1,3, figsize = (14,6))\n",
    "# viewer.view_midplanes(vol = vol, ax = ax)   "
   ]
  },
  {
   "cell_type": "markdown",
   "id": "887019d3",
   "metadata": {},
   "source": [
    "## Train auto-encoder for embedding  "
   ]
  },
  {
   "cell_type": "code",
   "execution_count": null,
   "id": "7e93bd2b",
   "metadata": {},
   "outputs": [],
   "source": [
    "# Feature Extraction stuff\n",
    "model_path = '/data02/MyArchive/aisteer_3Dencoders/models/coalice'\n",
    "\n",
    "model_size = (64,64,64)\n",
    "model_params = {\"n_filters\" : [16, 32, 64],\\\n",
    "                \"n_blocks\" : 3,\\\n",
    "                \"activation\" : 'lrelu',\\\n",
    "                \"batch_norm\" : True,\\\n",
    "                \"hidden_units\" : [128, 128],\\\n",
    "                \"isconcat\" : [True, True, True],\\\n",
    "                \"pool_size\" : [2,2,2],\\\n",
    "                \"stdinput\" : False}\n",
    "\n",
    "# model_size = (64,64,64)\n",
    "# model_params = {\"n_filters\" : [32, 64, 128],\\\n",
    "#                 \"n_blocks\" : 3,\\\n",
    "#                 \"activation\" : 'lrelu',\\\n",
    "#                 \"batch_norm\" : True,\\\n",
    "#                 \"hidden_units\" : [128, 32],\\\n",
    "#                 \"isconcat\" : [True, True, True],\\\n",
    "#                 \"pool_size\" : [2,2,2],\\\n",
    "#                 \"stdinput\" : False}\n",
    "\n",
    "training_params = {\"sampling_method\" : \"random-fixed-width\", \\\n",
    "                   \"batch_size\" : 24, \\\n",
    "                   \"n_epochs\" : 30,\\\n",
    "                   \"random_rotate\" : True, \\\n",
    "                   \"add_noise\" : 0.15, \\\n",
    "                   \"max_stride\" : 1}\n",
    "descriptor_tag = 'coal-ice-tzero-bin1'"
   ]
  },
  {
   "cell_type": "code",
   "execution_count": null,
   "id": "2fc8ccef",
   "metadata": {},
   "outputs": [],
   "source": [
    "fe = SelfSupervisedCAE(vols[0].shape, model_initialization = 'define-new', \\\n",
    "                         model_size = model_size, \\\n",
    "                         descriptor_tag = descriptor_tag, \\\n",
    "                         **model_params)"
   ]
  },
  {
   "cell_type": "code",
   "execution_count": null,
   "id": "fbfa6397",
   "metadata": {},
   "outputs": [],
   "source": [
    "fe.train(vols[0], training_params[\"batch_size\"], \\\n",
    "                            training_params[\"sampling_method\"], \\\n",
    "                            training_params[\"n_epochs\"],\\\n",
    "                            max_stride = training_params[\"max_stride\"], \\\n",
    "                            random_rotate = training_params[\"random_rotate\"], \\\n",
    "                            add_noise = training_params[\"add_noise\"])"
   ]
  },
  {
   "cell_type": "code",
   "execution_count": null,
   "id": "52560188",
   "metadata": {},
   "outputs": [],
   "source": [
    "fe.save_models(model_path)"
   ]
  },
  {
   "cell_type": "markdown",
   "id": "c5b59b01",
   "metadata": {},
   "source": [
    "## Test it  "
   ]
  },
  {
   "cell_type": "code",
   "execution_count": null,
   "id": "8834b328",
   "metadata": {},
   "outputs": [],
   "source": [
    "bin_tag = 'bin1'\n",
    "bin_size = (64,64,64)\n",
    "model_names = {\"CAE\" : \"CAE_111d128_coal-ice-tzero-%s\"%bin_tag, \\\n",
    "               \"latent_embedder\" : \"latent_embedder_111d128_coal-ice-tzero-%s\"%bin_tag}\n",
    "model_path = '/data02/MyArchive/aisteer_3Dencoders/models/coalice'\n",
    "\n",
    "fe = SelfSupervisedCAE(vols[0].shape, \\\n",
    "                         model_initialization = 'load-model', \\\n",
    "                         model_names = model_names, model_path = model_path)"
   ]
  },
  {
   "cell_type": "code",
   "execution_count": null,
   "id": "258a2357",
   "metadata": {},
   "outputs": [],
   "source": [
    "vols = [fe._normalize_volume(vol) for vol in vols]"
   ]
  },
  {
   "cell_type": "code",
   "execution_count": null,
   "id": "3f51d8e0",
   "metadata": {},
   "outputs": [],
   "source": [
    "p = Patches(vols[0].shape, initialize_by = \"grid\", patch_size = bin_size)\n",
    "p = fe.detect_changes(vols[0], vols[1], p)\n",
    "h = plt.hist(p.features[:,0], bins = 100)"
   ]
  },
  {
   "cell_type": "markdown",
   "id": "33a5e36a",
   "metadata": {},
   "source": [
    "### Visualize the top 10 most changing regions  "
   ]
  },
  {
   "cell_type": "markdown",
   "id": "c181a4b0",
   "metadata": {},
   "source": [
    "**with embedding**"
   ]
  },
  {
   "cell_type": "code",
   "execution_count": null,
   "id": "d7eef5cb",
   "metadata": {
    "scrolled": true
   },
   "outputs": [],
   "source": [
    "ife = 0\n",
    "sel_type = \"highest\"\n",
    "p_sel = p.select_by_feature(10, ife = ife, selection_by = sel_type)\n",
    "for ii in range(10):\n",
    "    show_before_after(vols, p_sel, ii)"
   ]
  },
  {
   "cell_type": "markdown",
   "id": "62de2522",
   "metadata": {},
   "source": [
    "**with pixel-mse**"
   ]
  },
  {
   "cell_type": "code",
   "execution_count": null,
   "id": "c33a5412",
   "metadata": {
    "scrolled": true
   },
   "outputs": [],
   "source": [
    "ife = 1\n",
    "sel_type = \"highest\"\n",
    "p_sel = p.select_by_feature(10, ife = ife, selection_by = sel_type)\n",
    "for ii in range(10):\n",
    "    show_before_after(vols, p_sel, ii)"
   ]
  },
  {
   "cell_type": "markdown",
   "id": "54abd419",
   "metadata": {},
   "source": [
    "### Visualize the 10 least changing regions  "
   ]
  },
  {
   "cell_type": "markdown",
   "id": "dbf9962b",
   "metadata": {},
   "source": [
    "**with embedding**"
   ]
  },
  {
   "cell_type": "code",
   "execution_count": null,
   "id": "aef793ad",
   "metadata": {},
   "outputs": [],
   "source": [
    "ife = 0\n",
    "sel_type = \"lowest\"\n",
    "p_sel = p.select_by_feature(10, ife = ife, selection_by = sel_type)\n",
    "for ii in range(10):\n",
    "    show_before_after(vols, p_sel, ii)"
   ]
  },
  {
   "cell_type": "markdown",
   "id": "7d7c29f9",
   "metadata": {},
   "source": [
    "**with pixel-mse**"
   ]
  },
  {
   "cell_type": "code",
   "execution_count": null,
   "id": "748d2b74",
   "metadata": {},
   "outputs": [],
   "source": [
    "ife = 1\n",
    "sel_type = \"lowest\"\n",
    "p_sel = p.select_by_feature(10, ife = ife, selection_by = sel_type)\n",
    "for ii in range(10):\n",
    "    show_before_after(vols, p_sel, ii)"
   ]
  },
  {
   "cell_type": "markdown",
   "id": "345dad36",
   "metadata": {},
   "source": [
    "### Visualize the change as a point cloud  \n",
    "Yellow indicates higher values, dark purple are low values.  "
   ]
  },
  {
   "cell_type": "code",
   "execution_count": null,
   "id": "fc53c57e",
   "metadata": {},
   "outputs": [],
   "source": [
    "max_pts = 10\n",
    "ife = 0\n",
    "p_sel = p.select_by_feature(max_pts, ife = ife, selection_by = \"highest\")\n",
    "fig = plt.figure(figsize = (12,12))\n",
    "ax = fig.add_subplot(projection='3d')\n",
    "p_sel.plot_3D_feature(ife,ax)"
   ]
  },
  {
   "cell_type": "code",
   "execution_count": null,
   "id": "be91c366",
   "metadata": {},
   "outputs": [],
   "source": [
    "max_pts = 10\n",
    "ife = 1\n",
    "p_sel = p.select_by_feature(max_pts, ife = ife, selection_by = \"highest\")\n",
    "fig = plt.figure(figsize = (12,12))\n",
    "ax = fig.add_subplot(projection='3d')\n",
    "p_sel.plot_3D_feature(ife,ax)"
   ]
  },
  {
   "cell_type": "markdown",
   "id": "dad14b72",
   "metadata": {},
   "source": [
    "### Visualize the change inside big volume  "
   ]
  },
  {
   "cell_type": "code",
   "execution_count": null,
   "id": "300bc89d",
   "metadata": {},
   "outputs": [],
   "source": [
    "p_sel.slices()[0][0]"
   ]
  },
  {
   "cell_type": "code",
   "execution_count": null,
   "id": "7194af49",
   "metadata": {},
   "outputs": [],
   "source": [
    "p_sel = p.select_by_feature(200, ife = 0, selection_by = \"highest\")\n",
    "show_in_volume(vols, p_sel, 0)"
   ]
  },
  {
   "cell_type": "code",
   "execution_count": null,
   "id": "451a866e",
   "metadata": {},
   "outputs": [],
   "source": [
    "p_sel.points[0]"
   ]
  },
  {
   "cell_type": "code",
   "execution_count": null,
   "id": "3abf48b0",
   "metadata": {},
   "outputs": [],
   "source": []
  },
  {
   "cell_type": "code",
   "execution_count": null,
   "id": "7e29600c",
   "metadata": {},
   "outputs": [],
   "source": []
  }
 ],
 "metadata": {
  "kernelspec": {
   "display_name": "Python tf>=2.0",
   "language": "python",
   "name": "tf2gpu"
  },
  "language_info": {
   "codemirror_mode": {
    "name": "ipython",
    "version": 3
   },
   "file_extension": ".py",
   "mimetype": "text/x-python",
   "name": "python",
   "nbconvert_exporter": "python",
   "pygments_lexer": "ipython3",
   "version": "3.9.7"
  }
 },
 "nbformat": 4,
 "nbformat_minor": 5
}
