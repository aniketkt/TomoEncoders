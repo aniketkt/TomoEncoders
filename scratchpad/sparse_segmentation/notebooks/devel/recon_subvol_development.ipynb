{
 "cells": [
  {
   "cell_type": "code",
   "execution_count": 1,
   "id": "0bd6ec6b",
   "metadata": {},
   "outputs": [],
   "source": [
    "import sys\n",
    "import matplotlib.pyplot as plt\n",
    "import numpy as np\n",
    "from porespy import generators\n",
    "from tomo_encoders.misc_utils.feature_maps_vis import view_midplanes\n",
    "import cupy as cp\n",
    "import time\n",
    "\n",
    "from tomopy import project\n",
    "sys.path.append('..')\n",
    "from recon_subvol import fbp_filter, recon_patch\n",
    "\n",
    "import os\n",
    "import signal\n",
    "import tomocg as pt"
   ]
  },
  {
   "cell_type": "markdown",
   "id": "3bfd64c5",
   "metadata": {},
   "source": [
    "### Generate data"
   ]
  },
  {
   "cell_type": "code",
   "execution_count": 47,
   "id": "7412b63a",
   "metadata": {},
   "outputs": [],
   "source": [
    "# gen some data\n",
    "sz = 320\n",
    "[ntheta, nz, n] = [4200,sz,4200]\n",
    "projs = np.zeros([ntheta,nz,n],dtype='float32')\n",
    "projs[:,nz//2-sz//2:nz//2+sz//2,n//2-sz//2:n//2+sz//2]=1\n",
    "theta = np.linspace(0,cp.pi,ntheta,dtype='float32')\n",
    "center = n/2\n",
    "pnz = 4  # number of slices for simultaneous processing in tomography\n",
    "\n",
    "point = [0, 1800, 1800]\n",
    "width = [sz, sz, sz]"
   ]
  },
  {
   "cell_type": "code",
   "execution_count": 48,
   "id": "6bca5720",
   "metadata": {},
   "outputs": [
    {
     "data": {
      "text/plain": [
       "<matplotlib.image.AxesImage at 0x7fbba933ab10>"
      ]
     },
     "execution_count": 48,
     "metadata": {},
     "output_type": "execute_result"
    },
    {
     "data": {
      "image/png": "[encoded data removed]",
      "text/plain": [
       "<Figure size 432x288 with 1 Axes>"
      ]
     },
     "metadata": {
      "needs_background": "light"
     },
     "output_type": "display_data"
    }
   ],
   "source": [
    "plt.imshow(projs[0])"
   ]
  },
  {
   "cell_type": "markdown",
   "id": "a8334ccf",
   "metadata": {},
   "source": [
    "### Reconstruct part"
   ]
  },
  {
   "cell_type": "code",
   "execution_count": 50,
   "id": "edc736cc",
   "metadata": {},
   "outputs": [
    {
     "name": "stdout",
     "output_type": "stream",
     "text": [
      "6.0423903465271\n"
     ]
    }
   ],
   "source": [
    "sub_vol = recon_patch(projs, theta, center, point, width, mem_limit_gpu = 50.0, apply_fbp = False)"
   ]
  },
  {
   "cell_type": "code",
   "execution_count": null,
   "id": "7fe181c6",
   "metadata": {},
   "outputs": [],
   "source": [
    "fig, ax = plt.subplots(1, 3, figsize = (12,6))\n",
    "view_midplanes(sub_vol, ax = ax)"
   ]
  },
  {
   "cell_type": "code",
   "execution_count": null,
   "id": "3a11780d",
   "metadata": {},
   "outputs": [],
   "source": [
    "fig, ax = plt.subplots(1,1, figsize = (16,16))\n",
    "ax.imshow(sub_vol[0], cmap = 'gray')"
   ]
  },
  {
   "cell_type": "code",
   "execution_count": null,
   "id": "e3bb4685",
   "metadata": {},
   "outputs": [],
   "source": []
  }
 ],
 "metadata": {
  "kernelspec": {
   "display_name": "Python tf>=2.0",
   "language": "python",
   "name": "tf2gpu"
  },
  "language_info": {
   "codemirror_mode": {
    "name": "ipython",
    "version": 3
   },
   "file_extension": ".py",
   "mimetype": "text/x-python",
   "name": "python",
   "nbconvert_exporter": "python",
   "pygments_lexer": "ipython3",
   "version": "3.7.10"
  }
 },
 "nbformat": 4,
 "nbformat_minor": 5
}
