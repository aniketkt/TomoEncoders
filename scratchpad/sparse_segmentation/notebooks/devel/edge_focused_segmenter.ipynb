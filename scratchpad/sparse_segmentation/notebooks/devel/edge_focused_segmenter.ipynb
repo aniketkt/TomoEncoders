{
 "cells": [
  {
   "cell_type": "markdown",
   "id": "f50c42dc",
   "metadata": {},
   "source": [
    "## Segment a sparse 3D image with a single material component  \n",
    "\n",
    "The goal of this notebook is to develop a 3D segmentation algorithm that improves segmentation where features are detected.\n",
    "\n",
    "**Data:** AM parts from Xuan Zhang. "
   ]
  },
  {
   "cell_type": "code",
   "execution_count": 1,
   "id": "dfc91290",
   "metadata": {},
   "outputs": [],
   "source": [
    "%matplotlib inline\n",
    "import numpy as np\n",
    "import matplotlib.pyplot as plt\n",
    "import os\n",
    "import h5py\n",
    "import sys\n",
    "from tomo_encoders import Patches, DataFile\n",
    "import tensorflow as tf\n",
    "sys.path.append('/data02/MyArchive/aisteer_3Dencoders/TomoEncoders/tomo_encoders/tasks/sparse_segmenter/')\n",
    "import time\n",
    "from sparse_segmenter import SparseSegmenter\n",
    "from tomo_encoders.misc_utils.feature_maps_vis import view_midplanes"
   ]
  },
  {
   "cell_type": "code",
   "execution_count": null,
   "id": "6b425887",
   "metadata": {},
   "outputs": [],
   "source": [
    "# load vols here and quick look\n",
    "# fpath = '/data02/MyArchive/AM_part_Xuan/data/AM316_L205_fs_tomo_L5_rec_1x1_uint16.hdf5'\n",
    "# fpath_y = '/data02/MyArchive/AM_part_Xuan/CTSegNet_masks/AM316_L205_fs_tomo_L5.hdf5'\n",
    "\n",
    "fpath = '/data02/MyArchive/AM_part_Xuan/data/mli_L206_HT_650_L3_rec_1x1_uint16.hdf5'\n",
    "fpath_y = '/data02/MyArchive/AM_part_Xuan/CTSegNet_masks/mli_L206_HT_650_L3.hdf5'\n",
    "\n",
    "\n",
    "X = DataFile(fpath, tiff = False, data_tag = \"data\", VERBOSITY = 0).read_full().astype(np.float32)\n",
    "Y = DataFile(fpath_y, tiff = False, data_tag = \"SEG\", VERBOSITY = 0).read_full()"
   ]
  },
  {
   "cell_type": "code",
   "execution_count": null,
   "id": "281896c3",
   "metadata": {},
   "outputs": [],
   "source": [
    "syx = slice(650,-650,None)\n",
    "# sz = slice(100,-100,None)\n",
    "sz = slice(None,None,None)\n",
    "# view_midplanes(X[:,syx,syx])"
   ]
  },
  {
   "cell_type": "code",
   "execution_count": null,
   "id": "3da6f51c",
   "metadata": {},
   "outputs": [],
   "source": [
    "X = X[sz,syx,syx]\n",
    "Y = Y[sz,syx,syx]"
   ]
  },
  {
   "cell_type": "code",
   "execution_count": null,
   "id": "d56cba6a",
   "metadata": {},
   "outputs": [],
   "source": [
    "fig, ax = plt.subplots(1,3, figsize = (16,6))\n",
    "view_midplanes(vol = X, ax = ax)"
   ]
  },
  {
   "cell_type": "code",
   "execution_count": null,
   "id": "2cc697d0",
   "metadata": {},
   "outputs": [],
   "source": [
    "fig, ax = plt.subplots(1,3, figsize = (16,6))\n",
    "view_midplanes(vol = Y, ax = ax)"
   ]
  },
  {
   "cell_type": "markdown",
   "id": "c5b59b01",
   "metadata": {},
   "source": [
    "## Test it  "
   ]
  },
  {
   "cell_type": "code",
   "execution_count": null,
   "id": "8834b328",
   "metadata": {},
   "outputs": [],
   "source": [
    "bin_size = (64,64,64)\n",
    "descriptor_tag = 'test_noblanks_pt2cutoff'\n",
    "model_names = {\"segmenter\" : \"segmenter_Unet_%s\"%descriptor_tag}\n",
    "model_path = '/data02/MyArchive/aisteer_3Dencoders/models/AM_part_segmenter'"
   ]
  },
  {
   "cell_type": "code",
   "execution_count": null,
   "id": "b89a94e1",
   "metadata": {},
   "outputs": [],
   "source": [
    "## Need to write the stitch function\n",
    "max_stride = 4 # do reconstruction at this binning"
   ]
  },
  {
   "cell_type": "code",
   "execution_count": null,
   "id": "216963f0",
   "metadata": {},
   "outputs": [],
   "source": [
    "fe = SparseSegmenter(model_initialization = 'load-model', model_names = model_names, model_path = model_path)"
   ]
  },
  {
   "cell_type": "code",
   "execution_count": null,
   "id": "8cc2220c",
   "metadata": {},
   "outputs": [],
   "source": [
    "patches = Patches(X.shape, initialize_by = \"grid\", \\\n",
    "                  patch_size = fe.model_size, stride = max_stride)\n",
    "Yp = np.zeros(X.shape, dtype = np.uint8)\n",
    "Yp = fe._segment_patches(X, Yp, patches, upsample = max_stride)"
   ]
  },
  {
   "cell_type": "code",
   "execution_count": null,
   "id": "a934633b",
   "metadata": {},
   "outputs": [],
   "source": [
    "## binning back down\n",
    "sbin = slice(None,None,max_stride)\n",
    "padding = [X.shape[i]%max_stride for i in range(3)]\n",
    "## edge detection\n",
    "Y_edge = fe._edge_map(Yp[sbin,sbin,sbin].copy())"
   ]
  },
  {
   "cell_type": "code",
   "execution_count": null,
   "id": "9bb58c3f",
   "metadata": {},
   "outputs": [],
   "source": [
    "fig, ax = plt.subplots(1,3, figsize = (16,6))\n",
    "view_midplanes(vol = Y_edge, ax = ax)"
   ]
  },
  {
   "cell_type": "code",
   "execution_count": null,
   "id": "51cca5a1",
   "metadata": {},
   "outputs": [],
   "source": [
    "## select patches containing edges\n",
    "new_patch_size = tuple(np.asarray(fe.model_size)//max_stride)\n",
    "p_sel = Patches(Y_edge.shape, initialize_by = \"regular-grid\", patch_size = new_patch_size, stride = 1)"
   ]
  },
  {
   "cell_type": "code",
   "execution_count": null,
   "id": "30af8d23",
   "metadata": {},
   "outputs": [],
   "source": [
    "def plot_grid(p):\n",
    "    fig, ax = plt.subplots(1,3, figsize = (20,8))\n",
    "\n",
    "    ivals = [(0, 1, 2), (1, 0, 2), (2, 0, 1)]\n",
    "\n",
    "    for ival in ivals:\n",
    "        ip, i1, i2 = ival\n",
    "        ax[ip].scatter(p.centers()[:,i1], p.centers()[:,i2])\n",
    "        ax[ip].set_xlim([0, p.vol_shape[i1]])\n",
    "        ax[ip].set_ylim([0, p.vol_shape[i2]])\n",
    "    return"
   ]
  },
  {
   "cell_type": "code",
   "execution_count": null,
   "id": "035ae596",
   "metadata": {},
   "outputs": [],
   "source": [
    "sub_vols = p_sel.extract(Y_edge, new_patch_size)        \n",
    "tmp = (np.sum(sub_vols, axis = (1,2,3))>3).astype(np.uint8)\n",
    "p_sel.add_features(tmp.reshape(-1,1), names = ['has_edges'])\n",
    "p_edges = p_sel.filter_by_condition(p_sel.features_to_numpy(['has_edges']))"
   ]
  },
  {
   "cell_type": "code",
   "execution_count": null,
   "id": "11e29f17",
   "metadata": {},
   "outputs": [],
   "source": [
    "## rescale patches\n",
    "p_edges = p_edges.rescale(max_stride, X.shape)"
   ]
  },
  {
   "cell_type": "code",
   "execution_count": null,
   "id": "486493da",
   "metadata": {},
   "outputs": [],
   "source": [
    "p_edges.points[:5]"
   ]
  },
  {
   "cell_type": "code",
   "execution_count": null,
   "id": "eab71719",
   "metadata": {},
   "outputs": [],
   "source": [
    "p_edges.widths[:5]"
   ]
  },
  {
   "cell_type": "code",
   "execution_count": null,
   "id": "23241e75",
   "metadata": {},
   "outputs": [],
   "source": [
    "len1 = len(p_sel.points)\n",
    "len0 = len(p_edges.points)\n",
    "t_save = (len1-len0)/len1*100.0\n",
    "print(\"compute time saving %.2f pc\"%t_save)"
   ]
  },
  {
   "cell_type": "code",
   "execution_count": null,
   "id": "1ac997a6",
   "metadata": {},
   "outputs": [],
   "source": [
    "## segment these patches only\n",
    "Yp = fe._segment_patches(X, Yp, p_edges, arr_split_infer=10)"
   ]
  },
  {
   "cell_type": "code",
   "execution_count": null,
   "id": "f90825fc",
   "metadata": {},
   "outputs": [],
   "source": [
    "fig, ax = plt.subplots(1,3,figsize = (16,8))\n",
    "view_midplanes(Yp[100:-100,1000:-1000,1000:-1000], ax)"
   ]
  },
  {
   "cell_type": "code",
   "execution_count": null,
   "id": "ec88d1e3",
   "metadata": {},
   "outputs": [],
   "source": [
    "# fig, ax = plt.subplots(1,3,figsize = (16,8))\n",
    "# view_midplanes(Yp[100:-100,1000:-1000,1000:-1000], ax)"
   ]
  },
  {
   "cell_type": "code",
   "execution_count": null,
   "id": "749f9a86",
   "metadata": {},
   "outputs": [],
   "source": [
    "fig, ax = plt.subplots(1,3,figsize = (16,8))\n",
    "view_midplanes(Y[100:-100,1000:-1000,1000:-1000], ax)"
   ]
  },
  {
   "cell_type": "code",
   "execution_count": null,
   "id": "697b4c5d",
   "metadata": {},
   "outputs": [],
   "source": [
    "# fig, ax = plt.subplots(1,3,figsize = (16,8))\n",
    "# view_midplanes(Y_pred[100:-100,1000:-1000,1000:-1000], ax)"
   ]
  },
  {
   "cell_type": "code",
   "execution_count": null,
   "id": "f0fc6787",
   "metadata": {},
   "outputs": [],
   "source": [
    "fig, ax = plt.subplots(1,3)\n",
    "idx = 0\n",
    "s = [slice(100,-100), slice(1000,-1000), slice(1000,-1000)]\n",
    "\n",
    "# seg_plot()\n",
    "# ax[idx]"
   ]
  },
  {
   "cell_type": "code",
   "execution_count": null,
   "id": "575c32b0",
   "metadata": {},
   "outputs": [],
   "source": []
  },
  {
   "cell_type": "code",
   "execution_count": null,
   "id": "d2368009",
   "metadata": {},
   "outputs": [],
   "source": []
  },
  {
   "cell_type": "code",
   "execution_count": null,
   "id": "bea182cc",
   "metadata": {},
   "outputs": [],
   "source": []
  },
  {
   "cell_type": "code",
   "execution_count": null,
   "id": "eaaca4f1",
   "metadata": {},
   "outputs": [],
   "source": []
  },
  {
   "cell_type": "code",
   "execution_count": null,
   "id": "7e29600c",
   "metadata": {},
   "outputs": [],
   "source": []
  }
 ],
 "metadata": {
  "kernelspec": {
   "display_name": "Python tf>=2.0",
   "language": "python",
   "name": "tf2gpu"
  },
  "language_info": {
   "codemirror_mode": {
    "name": "ipython",
    "version": 3
   },
   "file_extension": ".py",
   "mimetype": "text/x-python",
   "name": "python",
   "nbconvert_exporter": "python",
   "pygments_lexer": "ipython3",
   "version": "3.7.10"
  }
 },
 "nbformat": 4,
 "nbformat_minor": 5
}
