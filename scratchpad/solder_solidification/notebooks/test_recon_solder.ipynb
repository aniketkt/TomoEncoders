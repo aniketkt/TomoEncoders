{
 "cells": [
  {
   "cell_type": "code",
   "execution_count": 1,
   "id": "a3b8aee4",
   "metadata": {},
   "outputs": [
    {
     "name": "stderr",
     "output_type": "stream",
     "text": [
      "Warning: dxfile module not found\n",
      "Warning: netCDF4 module not found\n",
      "spefile module not found\n",
      "netCDF4 module not found\n",
      "EdfFile module not found\n",
      "astropy module not found\n",
      "olefile module not found\n"
     ]
    }
   ],
   "source": [
    "import matplotlib.pyplot as plt\n",
    "import numpy as np\n",
    "from tomo_encoders.reconstruction.recon import recon_all, fbp_filter, rec_all\n",
    "from tomo_encoders import DataFile\n",
    "import dxchange\n",
    "from tomo_encoders import viewer\n",
    "import cupy as cp\n",
    "from tomo_encoders.misc.voxel_processing import modified_autocontrast\n",
    "from tomo_encoders.misc.viewer import add_scalebar\n",
    "import h5py\n",
    "import os"
   ]
  },
  {
   "cell_type": "code",
   "execution_count": 2,
   "id": "13276a6f",
   "metadata": {},
   "outputs": [],
   "source": [
    "parent_path = '/data02/MyArchive/tomo_datasets/solder_imaging/projs'\n",
    "flat_file = 'dark_fields_Sample07_801_0_04_1mmCu_Annealing_054.h5'\n",
    "dark_file = 'flat_fields_Sample07_801_0_04_1mmCu_AfterScan_054.h5'\n",
    "projs_file = 'Sample07_801_0_04_1mmCu_AfterScan_054.h5'\n",
    "\n",
    "\n",
    "with h5py.File(os.path.join(parent_path, flat_file), 'r') as hf:\n",
    "    flat = np.median(hf['exchange/data'][:], axis = 0).astype(np.float32)\n",
    "\n",
    "with h5py.File(os.path.join(parent_path, dark_file), 'r') as hf:\n",
    "    dark = np.median(hf['exchange/data'][:], axis = 0).astype(np.float32)\n",
    "\n",
    "with h5py.File(os.path.join(parent_path, projs_file), 'r') as hf:\n",
    "    projs = np.asarray(hf['exchange/data'][:]).astype(np.float32)\n",
    "    theta = np.radians(np.asarray(hf['exchange/theta'][:])).astype(np.float32)"
   ]
  },
  {
   "cell_type": "code",
   "execution_count": 3,
   "id": "0befc5ed",
   "metadata": {},
   "outputs": [],
   "source": [
    "center = 910.5\n",
    "pixel_size = 1.17\n",
    "sino_pos = 896"
   ]
  },
  {
   "cell_type": "code",
   "execution_count": 4,
   "id": "2ef946bc",
   "metadata": {
    "scrolled": false
   },
   "outputs": [],
   "source": [
    "def recon_and_show(projs, flat, dark, theta, center, res, bar_len, sino_pos):\n",
    "    vol = recon_all(projs[:,sino_pos:sino_pos+1,:], theta, center, 1, dark_flat = (dark, flat))\n",
    "    h = modified_autocontrast(vol, s = 0.01)\n",
    "    vol = np.clip(vol, *h)\n",
    "    fig, ax = plt.subplots(1,1, figsize = (16,16))\n",
    "    ax.imshow(vol[0,...], cmap = 'gray')    \n",
    "    add_scalebar(ax, bar_len, res, loc = 'upper center', fontsize = 32)\n",
    "    ax.set_title(f\"center = {center}\")\n",
    "    return"
   ]
  },
  {
   "cell_type": "code",
   "execution_count": 1,
   "id": "58f75c33",
   "metadata": {
    "scrolled": false
   },
   "outputs": [],
   "source": [
    "# for center in np.linspace(905,915,10):\n",
    "#     recon_and_show(projs, flat, dark, theta, center, pixel_size, 500, sino_pos)"
   ]
  },
  {
   "cell_type": "code",
   "execution_count": null,
   "id": "d7123f08",
   "metadata": {},
   "outputs": [],
   "source": []
  },
  {
   "cell_type": "code",
   "execution_count": null,
   "id": "7eae9b65",
   "metadata": {},
   "outputs": [],
   "source": []
  },
  {
   "cell_type": "markdown",
   "id": "b541f3a3",
   "metadata": {},
   "source": [
    "##### "
   ]
  }
 ],
 "metadata": {
  "kernelspec": {
   "display_name": "tf2 cuda 112",
   "language": "python",
   "name": "tf2gpu"
  },
  "language_info": {
   "codemirror_mode": {
    "name": "ipython",
    "version": 3
   },
   "file_extension": ".py",
   "mimetype": "text/x-python",
   "name": "python",
   "nbconvert_exporter": "python",
   "pygments_lexer": "ipython3",
   "version": "3.9.12"
  }
 },
 "nbformat": 4,
 "nbformat_minor": 5
}
