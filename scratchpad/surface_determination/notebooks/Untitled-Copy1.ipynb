{
 "cells": [
  {
   "cell_type": "markdown",
   "id": "ae3b1fe1",
   "metadata": {},
   "source": [
    "## Surface Determination Workflow  "
   ]
  },
  {
   "cell_type": "code",
   "execution_count": 1,
   "id": "e98d12df",
   "metadata": {},
   "outputs": [
    {
     "name": "stdout",
     "output_type": "stream",
     "text": [
      "Jupyter environment detected. Enabling Open3D WebVisualizer.\n",
      "[Open3D INFO] WebRTC GUI backend enabled.\n",
      "[Open3D INFO] WebRTCWindowSystem: HTTP handshake server disabled.\n"
     ]
    }
   ],
   "source": [
    "import numpy as np\n",
    "import matplotlib.pyplot as plt\n",
    "import os\n",
    "import h5py\n",
    "import sys\n",
    "from tomo_encoders import Patches, DataFile\n",
    "import tensorflow as tf\n",
    "import time, glob\n",
    "import open3d as o3d\n",
    "\n",
    "sys.path.append('/data02/MyArchive/aisteer_3Dencoders/TomoEncoders/scratchpad/surface_determination/trainer')\n",
    "from tomo_encoders.neural_nets.surface_segmenter import SurfaceSegmenter\n",
    "from tomo_encoders.misc.feature_maps_vis import view_midplanes\n",
    "from tomo_encoders.misc.voxel_processing import normalize_volume_gpu\n",
    "from tomo_encoders.misc.viewer import view_midplanes"
   ]
  },
  {
   "cell_type": "code",
   "execution_count": 2,
   "id": "e97443d1",
   "metadata": {},
   "outputs": [],
   "source": [
    "def get_slices(o, c):\n",
    "    \n",
    "    points = []\n",
    "    for ii in range(2):\n",
    "        for jj in range(2):\n",
    "            for kk in range(2):\n",
    "                points.append([ii*c, jj*c, kk*c])\n",
    "                \n",
    "    points = np.asarray(points) + o\n",
    "    \n",
    "    \n",
    "    \n",
    "    return [tuple([slice(int(point[ii]), int(point[ii] + c)) for ii in range(3)]) for point in points], points\n",
    "\n",
    "def split_cube(vol, point, target_width):\n",
    "    slice_set, points = get_slices(point, target_width)\n",
    "    \n",
    "    vols = []\n",
    "    \n",
    "    for i, s in enumerate(slice_set):\n",
    "        \n",
    "        vols.append(vol[s])\n",
    "    vols = np.asarray(vols)\n",
    "    \n",
    "    mask = np.std(vols, axis = (1,2,3)) > 0.1\n",
    "    idx_sel = np.where(mask)[0]\n",
    "    vols = vols[idx_sel,...]\n",
    "    points = points[idx_sel,...]\n",
    "    \n",
    "    return vols, points"
   ]
  },
  {
   "cell_type": "code",
   "execution_count": 3,
   "id": "54df9535",
   "metadata": {},
   "outputs": [],
   "source": [
    "vol = np.zeros((512,512,512))\n",
    "vol[100:-100, 100:-100, 100:-100] = 1"
   ]
  },
  {
   "cell_type": "code",
   "execution_count": 4,
   "id": "ae54a3f3",
   "metadata": {
    "scrolled": false
   },
   "outputs": [
    {
     "name": "stdout",
     "output_type": "stream",
     "text": [
      "##512\n",
      "256\n",
      "##256\n"
     ]
    },
    {
     "name": "stderr",
     "output_type": "stream",
     "text": [
      "/home/atekawade/anaconda3/envs/tf2GPU/lib/python3.9/site-packages/numpy/core/_methods.py:261: RuntimeWarning: Degrees of freedom <= 0 for slice\n",
      "  ret = _var(a, axis=axis, dtype=dtype, out=out, ddof=ddof,\n",
      "/home/atekawade/anaconda3/envs/tf2GPU/lib/python3.9/site-packages/numpy/core/_methods.py:221: RuntimeWarning: invalid value encountered in true_divide\n",
      "  arrmean = um.true_divide(arrmean, div, out=arrmean, casting='unsafe',\n",
      "/home/atekawade/anaconda3/envs/tf2GPU/lib/python3.9/site-packages/numpy/core/_methods.py:250: RuntimeWarning: invalid value encountered in true_divide\n",
      "  ret = um.true_divide(\n",
      "/home/atekawade/anaconda3/envs/tf2GPU/lib/python3.9/site-packages/numpy/core/_asarray.py:102: VisibleDeprecationWarning: Creating an ndarray from ragged nested sequences (which is a list-or-tuple of lists-or-tuples-or ndarrays with different lengths or shapes) is deprecated. If you meant to do this, you must specify 'dtype=object' when creating the ndarray.\n",
      "  return array(a, dtype, copy=False, order=order)\n"
     ]
    },
    {
     "ename": "ValueError",
     "evalue": "cannot reshape array of size 8 into shape (128,128,128)",
     "output_type": "error",
     "traceback": [
      "\u001b[0;31m---------------------------------------------------------------------------\u001b[0m",
      "\u001b[0;31mValueError\u001b[0m                                Traceback (most recent call last)",
      "\u001b[0;32m/tmp/ipykernel_26409/439944968.py\u001b[0m in \u001b[0;36m<module>\u001b[0;34m\u001b[0m\n\u001b[1;32m     19\u001b[0m \u001b[0;34m\u001b[0m\u001b[0m\n\u001b[1;32m     20\u001b[0m \u001b[0;34m\u001b[0m\u001b[0m\n\u001b[0;32m---> 21\u001b[0;31m     \u001b[0mvols\u001b[0m \u001b[0;34m=\u001b[0m \u001b[0mnp\u001b[0m\u001b[0;34m.\u001b[0m\u001b[0masarray\u001b[0m\u001b[0;34m(\u001b[0m\u001b[0mvols_new\u001b[0m\u001b[0;34m)\u001b[0m\u001b[0;34m.\u001b[0m\u001b[0mreshape\u001b[0m\u001b[0;34m(\u001b[0m\u001b[0;34m(\u001b[0m\u001b[0;34m-\u001b[0m\u001b[0;36m1\u001b[0m\u001b[0;34m,\u001b[0m \u001b[0mcurr_width\u001b[0m\u001b[0;34m,\u001b[0m \u001b[0mcurr_width\u001b[0m\u001b[0;34m,\u001b[0m \u001b[0mcurr_width\u001b[0m\u001b[0;34m)\u001b[0m\u001b[0;34m)\u001b[0m\u001b[0;34m\u001b[0m\u001b[0;34m\u001b[0m\u001b[0m\n\u001b[0m\u001b[1;32m     22\u001b[0m     \u001b[0mpoints\u001b[0m \u001b[0;34m=\u001b[0m \u001b[0mnp\u001b[0m\u001b[0;34m.\u001b[0m\u001b[0masarray\u001b[0m\u001b[0;34m(\u001b[0m\u001b[0mpoints_new\u001b[0m\u001b[0;34m)\u001b[0m\u001b[0;34m.\u001b[0m\u001b[0mreshape\u001b[0m\u001b[0;34m(\u001b[0m\u001b[0;34m(\u001b[0m\u001b[0;34m-\u001b[0m\u001b[0;36m1\u001b[0m\u001b[0;34m,\u001b[0m\u001b[0;36m3\u001b[0m\u001b[0;34m)\u001b[0m\u001b[0;34m)\u001b[0m\u001b[0;34m\u001b[0m\u001b[0;34m\u001b[0m\u001b[0m\n\u001b[1;32m     23\u001b[0m \u001b[0;34m\u001b[0m\u001b[0m\n",
      "\u001b[0;31mValueError\u001b[0m: cannot reshape array of size 8 into shape (128,128,128)"
     ]
    }
   ],
   "source": [
    "# input volume is vol (must be a box)\n",
    "\n",
    "curr_width = vol.shape[0] # assumes cube\n",
    "base_width = 64\n",
    "points = [[0,0,0]]\n",
    "vols = [vol]\n",
    "\n",
    "while True:\n",
    "    print(f\"##{curr_width}\")\n",
    "    curr_width = int(np.ceil(curr_width/2))\n",
    "    \n",
    "    vols_new = []\n",
    "    points_new = []\n",
    "    for iv, point in enumerate(points):\n",
    "        v, p = split_cube(vols[iv], point, curr_width)\n",
    "        vols_new.append(v)\n",
    "        points_new.append(p)\n",
    "#     import pdb; pdb.set_trace()\n",
    "    \n",
    "    \n",
    "    vols = np.asarray(vols_new).reshape((-1, curr_width, curr_width, curr_width))\n",
    "    points = np.asarray(points_new).reshape((-1,3))\n",
    "    \n",
    "    print(curr_width)\n",
    "    \n",
    "    if curr_width == base_width:\n",
    "        break"
   ]
  },
  {
   "cell_type": "code",
   "execution_count": null,
   "id": "79f21740",
   "metadata": {},
   "outputs": [],
   "source": [
    "curr_width"
   ]
  },
  {
   "cell_type": "code",
   "execution_count": null,
   "id": "c08ced70",
   "metadata": {},
   "outputs": [],
   "source": [
    "np.shape(vols_new)"
   ]
  },
  {
   "cell_type": "code",
   "execution_count": null,
   "id": "ff5d50af",
   "metadata": {},
   "outputs": [],
   "source": [
    "vols.shape"
   ]
  },
  {
   "cell_type": "code",
   "execution_count": null,
   "id": "5dd96589",
   "metadata": {},
   "outputs": [],
   "source": [
    "view_midplanes(vol)"
   ]
  },
  {
   "cell_type": "code",
   "execution_count": null,
   "id": "9392401d",
   "metadata": {},
   "outputs": [],
   "source": []
  },
  {
   "cell_type": "code",
   "execution_count": null,
   "id": "9a521796",
   "metadata": {},
   "outputs": [],
   "source": []
  },
  {
   "cell_type": "code",
   "execution_count": null,
   "id": "b7900593",
   "metadata": {},
   "outputs": [],
   "source": []
  },
  {
   "cell_type": "code",
   "execution_count": null,
   "id": "2f16378b",
   "metadata": {},
   "outputs": [],
   "source": []
  },
  {
   "cell_type": "code",
   "execution_count": null,
   "id": "94d743c8",
   "metadata": {},
   "outputs": [],
   "source": []
  },
  {
   "cell_type": "code",
   "execution_count": null,
   "id": "a5a107ee",
   "metadata": {},
   "outputs": [],
   "source": []
  },
  {
   "cell_type": "code",
   "execution_count": null,
   "id": "4d472e72",
   "metadata": {},
   "outputs": [],
   "source": []
  },
  {
   "cell_type": "code",
   "execution_count": null,
   "id": "2a6a10ef",
   "metadata": {},
   "outputs": [],
   "source": []
  },
  {
   "cell_type": "code",
   "execution_count": null,
   "id": "b20140c0",
   "metadata": {},
   "outputs": [],
   "source": []
  },
  {
   "cell_type": "code",
   "execution_count": null,
   "id": "929e5aaa",
   "metadata": {},
   "outputs": [],
   "source": []
  },
  {
   "cell_type": "code",
   "execution_count": null,
   "id": "dd654919",
   "metadata": {},
   "outputs": [],
   "source": []
  },
  {
   "cell_type": "code",
   "execution_count": null,
   "id": "f0a0e9bf",
   "metadata": {},
   "outputs": [],
   "source": []
  },
  {
   "cell_type": "code",
   "execution_count": null,
   "id": "e82199e6",
   "metadata": {},
   "outputs": [],
   "source": []
  },
  {
   "cell_type": "code",
   "execution_count": null,
   "id": "c3783373",
   "metadata": {},
   "outputs": [],
   "source": []
  },
  {
   "cell_type": "code",
   "execution_count": null,
   "id": "17fbfb55",
   "metadata": {},
   "outputs": [],
   "source": []
  },
  {
   "cell_type": "code",
   "execution_count": null,
   "id": "6ff2d4d4",
   "metadata": {},
   "outputs": [],
   "source": []
  },
  {
   "cell_type": "code",
   "execution_count": null,
   "id": "1a503d3e",
   "metadata": {},
   "outputs": [],
   "source": []
  },
  {
   "cell_type": "code",
   "execution_count": null,
   "id": "34216215",
   "metadata": {},
   "outputs": [],
   "source": []
  },
  {
   "cell_type": "code",
   "execution_count": null,
   "id": "7c288055",
   "metadata": {},
   "outputs": [],
   "source": []
  },
  {
   "cell_type": "code",
   "execution_count": null,
   "id": "14cb8554",
   "metadata": {},
   "outputs": [],
   "source": []
  },
  {
   "cell_type": "markdown",
   "id": "7ef67a4c",
   "metadata": {},
   "source": []
  }
 ],
 "metadata": {
  "kernelspec": {
   "display_name": "Python tf>=2.0",
   "language": "python",
   "name": "tf2gpu"
  },
  "language_info": {
   "codemirror_mode": {
    "name": "ipython",
    "version": 3
   },
   "file_extension": ".py",
   "mimetype": "text/x-python",
   "name": "python",
   "nbconvert_exporter": "python",
   "pygments_lexer": "ipython3",
   "version": "3.9.7"
  }
 },
 "nbformat": 4,
 "nbformat_minor": 5
}
