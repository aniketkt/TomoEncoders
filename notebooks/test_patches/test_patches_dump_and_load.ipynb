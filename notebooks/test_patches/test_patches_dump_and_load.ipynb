{
 "cells": [
  {
   "cell_type": "markdown",
   "id": "7db48662",
   "metadata": {},
   "source": [
    "## Dump patches to disk and initialize from disk  "
   ]
  },
  {
   "cell_type": "code",
   "execution_count": 1,
   "id": "19903d64",
   "metadata": {},
   "outputs": [],
   "source": [
    "%matplotlib inline\n",
    "import sys\n",
    "import numpy as np\n",
    "import matplotlib.pyplot as plt\n",
    "from scipy.misc import face\n",
    "# from features3D import PatchExtractor3D\n",
    "from tomo_encoders.patches import Patches\n",
    "import pandas as pd\n",
    "import numpy as np\n",
    "import time"
   ]
  },
  {
   "cell_type": "code",
   "execution_count": 2,
   "id": "d1d9fef2",
   "metadata": {},
   "outputs": [],
   "source": [
    "# vol_shape = (351, 2500,65)\n",
    "vol_shape = (351, 350, 340)\n",
    "model_size = (64,64,64)"
   ]
  },
  {
   "cell_type": "markdown",
   "id": "64e07231",
   "metadata": {},
   "source": [
    "**test on multiple grids**"
   ]
  },
  {
   "cell_type": "code",
   "execution_count": 3,
   "id": "09a19a1c",
   "metadata": {},
   "outputs": [],
   "source": [
    "kwargs = {\"initialize_by\" : 'multiple-grids',\n",
    "          \"min_patch_size\" : model_size, \\\n",
    "          \"max_stride\" : 4, \"n_points\" : None}\n",
    "p = Patches(vol_shape, **kwargs)\n",
    "nf = 5\n",
    "p.add_features(np.random.normal(0, 1, (p.points.shape[0], nf)),\\\n",
    "                  names = ['h%02d'%i for i in range(nf)])"
   ]
  },
  {
   "cell_type": "code",
   "execution_count": 4,
   "id": "e9678166",
   "metadata": {},
   "outputs": [],
   "source": [
    "fpath = \"../../../dump-patches.hdf5\"\n",
    "p.dump(fpath)"
   ]
  },
  {
   "cell_type": "code",
   "execution_count": 5,
   "id": "a949bca3",
   "metadata": {},
   "outputs": [],
   "source": [
    "p1 = Patches(vol_shape, initialize_by = \"file\", fpath = fpath)"
   ]
  },
  {
   "cell_type": "code",
   "execution_count": 6,
   "id": "ff19f58d",
   "metadata": {},
   "outputs": [
    {
     "data": {
      "text/plain": [
       "(259, 3)"
      ]
     },
     "execution_count": 6,
     "metadata": {},
     "output_type": "execute_result"
    }
   ],
   "source": [
    "p1.points.shape"
   ]
  },
  {
   "cell_type": "code",
   "execution_count": 7,
   "id": "a1015433",
   "metadata": {},
   "outputs": [
    {
     "data": {
      "text/plain": [
       "(259, 3)"
      ]
     },
     "execution_count": 7,
     "metadata": {},
     "output_type": "execute_result"
    }
   ],
   "source": [
    "p1.widths.shape"
   ]
  },
  {
   "cell_type": "code",
   "execution_count": 8,
   "id": "36d79693",
   "metadata": {},
   "outputs": [
    {
     "data": {
      "text/plain": [
       "['h00', 'h01', 'h02', 'h03', 'h04']"
      ]
     },
     "execution_count": 8,
     "metadata": {},
     "output_type": "execute_result"
    }
   ],
   "source": [
    "p1.feature_names"
   ]
  },
  {
   "cell_type": "code",
   "execution_count": 9,
   "id": "57eabfc0",
   "metadata": {},
   "outputs": [
    {
     "data": {
      "text/plain": [
       "array([[  0,   0,   0],\n",
       "       [  0,   0,  55],\n",
       "       [  0,   0, 110],\n",
       "       [  0,   0, 165],\n",
       "       [  0,   0, 220],\n",
       "       [  0,   0, 275],\n",
       "       [  0,  57,   0],\n",
       "       [  0,  57,  55],\n",
       "       [  0,  57, 110],\n",
       "       [  0,  57, 165]])"
      ]
     },
     "execution_count": 9,
     "metadata": {},
     "output_type": "execute_result"
    }
   ],
   "source": [
    "p1.points[:10]"
   ]
  },
  {
   "cell_type": "code",
   "execution_count": 10,
   "id": "e377cc3d",
   "metadata": {},
   "outputs": [
    {
     "data": {
      "text/plain": [
       "array([[ 6.85618732e-01, -5.69968520e-01, -1.37194795e+00,\n",
       "         2.10518919e-02, -8.36069029e-02],\n",
       "       [ 1.08983705e+00, -1.13083554e+00,  4.39108544e-01,\n",
       "         2.14923367e+00, -3.87749679e-01],\n",
       "       [-1.57766489e+00,  9.20211739e-01,  5.56886452e-01,\n",
       "         1.92173751e+00,  1.52088016e-03],\n",
       "       [ 1.49055597e-01, -1.03047615e-01,  5.41419364e-01,\n",
       "         2.05119960e+00, -5.20206247e-01],\n",
       "       [-1.36067817e+00, -6.91699492e-01, -5.96009904e-01,\n",
       "        -2.83891372e+00, -8.45870339e-01],\n",
       "       [-2.17541100e+00,  1.74318170e+00,  1.53216689e+00,\n",
       "        -3.35488369e-01, -1.44173078e-01],\n",
       "       [ 1.22772942e+00,  2.10329683e+00,  4.01516969e-01,\n",
       "        -6.95090557e-01, -1.19897392e+00],\n",
       "       [ 1.32999389e+00, -6.37446051e-01, -1.94156819e+00,\n",
       "        -3.92106657e-01, -8.85245510e-01],\n",
       "       [ 1.71913491e+00,  1.60322221e-01,  9.35994654e-01,\n",
       "        -1.75472906e-01,  1.50716402e+00],\n",
       "       [ 1.34128604e-02,  1.00231318e+00, -6.16732279e-02,\n",
       "         7.58291963e-01,  1.10166887e-01]])"
      ]
     },
     "execution_count": 10,
     "metadata": {},
     "output_type": "execute_result"
    }
   ],
   "source": [
    "p1.features[:10]"
   ]
  },
  {
   "cell_type": "code",
   "execution_count": null,
   "id": "53cc2b0d",
   "metadata": {},
   "outputs": [],
   "source": []
  },
  {
   "cell_type": "code",
   "execution_count": null,
   "id": "b8f6eae4",
   "metadata": {},
   "outputs": [],
   "source": []
  }
 ],
 "metadata": {
  "kernelspec": {
   "display_name": "Python tf>=2.0",
   "language": "python",
   "name": "tf2gpu"
  },
  "language_info": {
   "codemirror_mode": {
    "name": "ipython",
    "version": 3
   },
   "file_extension": ".py",
   "mimetype": "text/x-python",
   "name": "python",
   "nbconvert_exporter": "python",
   "pygments_lexer": "ipython3",
   "version": "3.7.10"
  }
 },
 "nbformat": 4,
 "nbformat_minor": 5
}
