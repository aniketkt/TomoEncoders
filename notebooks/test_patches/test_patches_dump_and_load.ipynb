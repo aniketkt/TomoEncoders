{
 "cells": [
  {
   "cell_type": "markdown",
   "id": "7db48662",
   "metadata": {},
   "source": [
    "## Dump patches to disk and initialize from disk  "
   ]
  },
  {
   "cell_type": "code",
   "execution_count": 1,
   "id": "19903d64",
   "metadata": {},
   "outputs": [],
   "source": [
    "%matplotlib inline\n",
    "import sys\n",
    "import numpy as np\n",
    "import matplotlib.pyplot as plt\n",
    "from scipy.misc import face\n",
    "# from features3D import PatchExtractor3D\n",
    "from tomo_encoders.patches import Patches\n",
    "import pandas as pd\n",
    "import numpy as np\n",
    "import time"
   ]
  },
  {
   "cell_type": "code",
   "execution_count": 2,
   "id": "d1d9fef2",
   "metadata": {},
   "outputs": [],
   "source": [
    "# vol_shape = (351, 2500,65)\n",
    "vol_shape = (351, 350, 340)\n",
    "model_size = (64,64,64)"
   ]
  },
  {
   "cell_type": "markdown",
   "id": "64e07231",
   "metadata": {},
   "source": [
    "**test on multiple grids**"
   ]
  },
  {
   "cell_type": "code",
   "execution_count": 3,
   "id": "09a19a1c",
   "metadata": {},
   "outputs": [],
   "source": [
    "kwargs = {\"initialize_by\" : 'multiple-grids',\n",
    "          \"min_patch_size\" : model_size, \\\n",
    "          \"max_stride\" : 4, \"n_points\" : None}\n",
    "p = Patches(vol_shape, **kwargs)\n",
    "nf = 5\n",
    "p.add_features(np.random.normal(0, 1, (p.points.shape[0], nf)),\\\n",
    "                  names = ['h%02d'%i for i in range(nf)])"
   ]
  },
  {
   "cell_type": "code",
   "execution_count": 4,
   "id": "e9678166",
   "metadata": {},
   "outputs": [],
   "source": [
    "fpath = \"../../../dump-patches.hdf5\"\n",
    "p.dump(fpath)"
   ]
  },
  {
   "cell_type": "code",
   "execution_count": 5,
   "id": "a949bca3",
   "metadata": {},
   "outputs": [],
   "source": [
    "p1 = Patches(vol_shape, initialize_by = \"file\", fpath = fpath)"
   ]
  },
  {
   "cell_type": "code",
   "execution_count": 6,
   "id": "ff19f58d",
   "metadata": {},
   "outputs": [
    {
     "data": {
      "text/plain": [
       "(259, 3)"
      ]
     },
     "execution_count": 6,
     "metadata": {},
     "output_type": "execute_result"
    }
   ],
   "source": [
    "p1.points.shape"
   ]
  },
  {
   "cell_type": "code",
   "execution_count": 7,
   "id": "a1015433",
   "metadata": {},
   "outputs": [
    {
     "data": {
      "text/plain": [
       "(259, 3)"
      ]
     },
     "execution_count": 7,
     "metadata": {},
     "output_type": "execute_result"
    }
   ],
   "source": [
    "p1.widths.shape"
   ]
  },
  {
   "cell_type": "code",
   "execution_count": 8,
   "id": "36d79693",
   "metadata": {},
   "outputs": [
    {
     "data": {
      "text/plain": [
       "['h00', 'h01', 'h02', 'h03', 'h04']"
      ]
     },
     "execution_count": 8,
     "metadata": {},
     "output_type": "execute_result"
    }
   ],
   "source": [
    "p1.feature_names"
   ]
  },
  {
   "cell_type": "code",
   "execution_count": 9,
   "id": "57eabfc0",
   "metadata": {},
   "outputs": [
    {
     "data": {
      "text/plain": [
       "array([[  0,   0,   0],\n",
       "       [  0,   0,  55],\n",
       "       [  0,   0, 110],\n",
       "       [  0,   0, 165],\n",
       "       [  0,   0, 220],\n",
       "       [  0,   0, 275],\n",
       "       [  0,  57,   0],\n",
       "       [  0,  57,  55],\n",
       "       [  0,  57, 110],\n",
       "       [  0,  57, 165]])"
      ]
     },
     "execution_count": 9,
     "metadata": {},
     "output_type": "execute_result"
    }
   ],
   "source": [
    "p1.points[:10]"
   ]
  },
  {
   "cell_type": "code",
   "execution_count": 10,
   "id": "e377cc3d",
   "metadata": {},
   "outputs": [
    {
     "data": {
      "text/plain": [
       "array([[-2.20229236, -0.30753304, -0.47021223,  0.898367  , -0.14398417],\n",
       "       [-0.75791837,  0.80928239,  0.33256266, -0.1511543 ,  1.18485211],\n",
       "       [-1.03310065,  0.74364896, -0.16568959, -0.45313011,  0.29831126],\n",
       "       [-2.26613883,  0.88939731,  0.10848989, -1.56338463,  0.98241467],\n",
       "       [ 0.20739751, -1.49962741, -0.75936925, -0.1154999 , -0.43060362],\n",
       "       [-0.35179582,  0.2715286 , -0.47475735, -0.47102125,  1.66851619],\n",
       "       [ 1.02741682,  0.33185863,  0.26317878,  0.82077459,  0.40318225],\n",
       "       [ 3.33558114,  0.30520224, -0.17343192, -0.41333676, -0.47083055],\n",
       "       [-0.0384186 ,  0.11340648, -0.66909937, -0.99778314,  0.94426538],\n",
       "       [ 0.14830305,  0.21028201,  0.17957108,  0.0733536 ,  0.59499934]])"
      ]
     },
     "execution_count": 10,
     "metadata": {},
     "output_type": "execute_result"
    }
   ],
   "source": [
    "p1.features[:10]"
   ]
  },
  {
   "cell_type": "code",
   "execution_count": null,
   "id": "53cc2b0d",
   "metadata": {},
   "outputs": [],
   "source": []
  },
  {
   "cell_type": "code",
   "execution_count": null,
   "id": "b8f6eae4",
   "metadata": {},
   "outputs": [],
   "source": []
  }
 ],
 "metadata": {
  "kernelspec": {
   "display_name": "Python tf>=2.0",
   "language": "python",
   "name": "tf2gpu"
  },
  "language_info": {
   "codemirror_mode": {
    "name": "ipython",
    "version": 3
   },
   "file_extension": ".py",
   "mimetype": "text/x-python",
   "name": "python",
   "nbconvert_exporter": "python",
   "pygments_lexer": "ipython3",
   "version": "3.7.10"
  }
 },
 "nbformat": 4,
 "nbformat_minor": 5
}
