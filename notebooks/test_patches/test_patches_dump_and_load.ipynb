{
 "cells": [
  {
   "cell_type": "markdown",
   "id": "7db48662",
   "metadata": {},
   "source": [
    "## Dump patches to disk and initialize from disk  "
   ]
  },
  {
   "cell_type": "code",
   "execution_count": 1,
   "id": "19903d64",
   "metadata": {},
   "outputs": [],
   "source": [
    "%matplotlib inline\n",
    "import sys\n",
    "import numpy as np\n",
    "import matplotlib.pyplot as plt\n",
    "from scipy.misc import face\n",
    "# from features3D import PatchExtractor3D\n",
    "from tomo_encoders import Patches\n",
    "import pandas as pd\n",
    "import numpy as np\n",
    "import time"
   ]
  },
  {
   "cell_type": "code",
   "execution_count": 2,
   "id": "d1d9fef2",
   "metadata": {},
   "outputs": [],
   "source": [
    "# vol_shape = (351, 2500,65)\n",
    "vol_shape = (351, 350, 340)\n",
    "model_size = (64,64,64)"
   ]
  },
  {
   "cell_type": "markdown",
   "id": "64e07231",
   "metadata": {},
   "source": [
    "**test on multiple grids**"
   ]
  },
  {
   "cell_type": "code",
   "execution_count": 3,
   "id": "09a19a1c",
   "metadata": {},
   "outputs": [],
   "source": [
    "kwargs = {\"initialize_by\" : 'multiple-grids',\n",
    "          \"min_patch_size\" : model_size, \\\n",
    "          \"max_stride\" : 4, \"n_points\" : None}\n",
    "p = Patches(vol_shape, **kwargs)\n",
    "nf = 5\n",
    "p.add_features(np.random.normal(0, 1, (p.points.shape[0], nf)),\\\n",
    "                  names = ['h%02d'%i for i in range(nf)])"
   ]
  },
  {
   "cell_type": "code",
   "execution_count": 4,
   "id": "e9678166",
   "metadata": {},
   "outputs": [],
   "source": [
    "fpath = \"../../../dump-patches.hdf5\"\n",
    "p.dump(fpath)"
   ]
  },
  {
   "cell_type": "code",
   "execution_count": 5,
   "id": "a949bca3",
   "metadata": {},
   "outputs": [],
   "source": [
    "p1 = Patches(vol_shape, initialize_by = \"file\", fpath = fpath)"
   ]
  },
  {
   "cell_type": "code",
   "execution_count": 6,
   "id": "ff19f58d",
   "metadata": {},
   "outputs": [
    {
     "data": {
      "text/plain": [
       "(259, 3)"
      ]
     },
     "execution_count": 6,
     "metadata": {},
     "output_type": "execute_result"
    }
   ],
   "source": [
    "p1.points.shape"
   ]
  },
  {
   "cell_type": "code",
   "execution_count": 7,
   "id": "a1015433",
   "metadata": {},
   "outputs": [
    {
     "data": {
      "text/plain": [
       "(259, 3)"
      ]
     },
     "execution_count": 7,
     "metadata": {},
     "output_type": "execute_result"
    }
   ],
   "source": [
    "p1.widths.shape"
   ]
  },
  {
   "cell_type": "code",
   "execution_count": 8,
   "id": "36d79693",
   "metadata": {},
   "outputs": [
    {
     "data": {
      "text/plain": [
       "['h00', 'h01', 'h02', 'h03', 'h04']"
      ]
     },
     "execution_count": 8,
     "metadata": {},
     "output_type": "execute_result"
    }
   ],
   "source": [
    "p1.feature_names"
   ]
  },
  {
   "cell_type": "code",
   "execution_count": 9,
   "id": "57eabfc0",
   "metadata": {},
   "outputs": [
    {
     "data": {
      "text/plain": [
       "array([[  0,   0,   0],\n",
       "       [  0,   0,  55],\n",
       "       [  0,   0, 110],\n",
       "       [  0,   0, 165],\n",
       "       [  0,   0, 220],\n",
       "       [  0,   0, 275],\n",
       "       [  0,  57,   0],\n",
       "       [  0,  57,  55],\n",
       "       [  0,  57, 110],\n",
       "       [  0,  57, 165]])"
      ]
     },
     "execution_count": 9,
     "metadata": {},
     "output_type": "execute_result"
    }
   ],
   "source": [
    "p1.points[:10]"
   ]
  },
  {
   "cell_type": "code",
   "execution_count": 10,
   "id": "e377cc3d",
   "metadata": {},
   "outputs": [
    {
     "data": {
      "text/plain": [
       "array([[-0.62209314,  0.69463309, -0.18188473,  0.03732158, -1.18180598],\n",
       "       [-0.47944435,  0.32872363, -0.08791431, -0.27323425, -0.73079847],\n",
       "       [-1.5262865 ,  0.12121028, -1.00200121,  1.75906639,  0.54994096],\n",
       "       [ 1.25107824,  1.21115491,  1.5751101 ,  0.9230815 , -1.68027934],\n",
       "       [ 1.39387395,  0.80912579,  0.00959871,  0.14752001, -0.84973523],\n",
       "       [ 0.66903187,  0.40956884, -1.16554416, -0.75390904,  0.95813837],\n",
       "       [-2.61328993, -1.60696535, -0.79089303, -0.19108192,  0.89379701],\n",
       "       [-1.2761307 ,  1.22536037,  1.91153729,  0.0103529 , -0.59627479],\n",
       "       [ 0.87029184, -0.07281259,  0.68694492, -1.20201255, -0.2059775 ],\n",
       "       [ 1.29004357,  0.59394595, -1.37887892, -1.07601401,  0.83467631]])"
      ]
     },
     "execution_count": 10,
     "metadata": {},
     "output_type": "execute_result"
    }
   ],
   "source": [
    "p1.features[:10]"
   ]
  },
  {
   "cell_type": "code",
   "execution_count": 11,
   "id": "53cc2b0d",
   "metadata": {},
   "outputs": [],
   "source": [
    "import os\n",
    "os.remove(fpath)"
   ]
  },
  {
   "cell_type": "code",
   "execution_count": null,
   "id": "b8f6eae4",
   "metadata": {},
   "outputs": [],
   "source": []
  }
 ],
 "metadata": {
  "kernelspec": {
   "display_name": "Python tf>=2.0",
   "language": "python",
   "name": "tf2gpu"
  },
  "language_info": {
   "codemirror_mode": {
    "name": "ipython",
    "version": 3
   },
   "file_extension": ".py",
   "mimetype": "text/x-python",
   "name": "python",
   "nbconvert_exporter": "python",
   "pygments_lexer": "ipython3",
   "version": "3.7.10"
  }
 },
 "nbformat": 4,
 "nbformat_minor": 5
}
