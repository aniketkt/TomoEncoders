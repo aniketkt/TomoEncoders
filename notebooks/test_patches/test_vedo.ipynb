{
 "cells": [
  {
   "cell_type": "markdown",
   "id": "f5396c94",
   "metadata": {},
   "source": [
    "## Vedo test"
   ]
  },
  {
   "cell_type": "markdown",
   "id": "ba97dcf5",
   "metadata": {},
   "source": [
    "https://vedo.embl.es/autodocs/content/vedo/volume.html#"
   ]
  },
  {
   "cell_type": "code",
   "execution_count": 1,
   "id": "d8674a57",
   "metadata": {},
   "outputs": [],
   "source": [
    "%matplotlib inline\n",
    "import numpy as np\n",
    "import vedo\n",
    "import matplotlib.pyplot as plt\n",
    "import porespy\n",
    "from ct_segnet import viewer"
   ]
  },
  {
   "cell_type": "code",
   "execution_count": 2,
   "id": "80d9543b",
   "metadata": {},
   "outputs": [],
   "source": [
    "a = porespy.generators.blobs((64,64,64), porosity = 0.5, blobiness = 0.2)"
   ]
  },
  {
   "cell_type": "code",
   "execution_count": 3,
   "id": "ddd29c44",
   "metadata": {},
   "outputs": [
    {
     "data": {
      "text/plain": [
       "array([<AxesSubplot:title={'center':'XY mid-plane'}>,\n",
       "       <AxesSubplot:title={'center':'XZ mid-plane'}>,\n",
       "       <AxesSubplot:title={'center':'YZ mid-plane'}>], dtype=object)"
      ]
     },
     "execution_count": 3,
     "metadata": {},
     "output_type": "execute_result"
    },
    {
     "data": {
      "image/png": "[encoded data removed]",
      "text/plain": [
       "<Figure size 432x288 with 3 Axes>"
      ]
     },
     "metadata": {
      "needs_background": "light"
     },
     "output_type": "display_data"
    }
   ],
   "source": [
    "viewer.view_midplanes(a)"
   ]
  },
  {
   "cell_type": "code",
   "execution_count": 4,
   "id": "dba759c6",
   "metadata": {},
   "outputs": [],
   "source": [
    "z, y, x = np.where(a == 1)\n",
    "pts = vedo.Points([z,y,x])"
   ]
  },
  {
   "cell_type": "code",
   "execution_count": 5,
   "id": "c832c3e4",
   "metadata": {},
   "outputs": [],
   "source": [
    "vol = vedo.Volume(a, mode = 0)"
   ]
  },
  {
   "cell_type": "code",
   "execution_count": 6,
   "id": "cd3b769e",
   "metadata": {},
   "outputs": [],
   "source": [
    "# vol.show()"
   ]
  },
  {
   "cell_type": "code",
   "execution_count": 7,
   "id": "672c3c73",
   "metadata": {},
   "outputs": [],
   "source": [
    "surf = vol.isosurface(0.5).smoothLaplacian().subdivide()"
   ]
  },
  {
   "cell_type": "code",
   "execution_count": 8,
   "id": "79a349d5",
   "metadata": {},
   "outputs": [
    {
     "data": {
      "application/vnd.jupyter.widget-view+json": {
       "model_id": "2cdf463ddfc34b51bcabff7b968efb90",
       "version_major": 2,
       "version_minor": 0
      },
      "text/plain": [
       "ViewInteractiveWidget(height=720, layout=Layout(height='auto', width='100%'), width=720)"
      ]
     },
     "metadata": {},
     "output_type": "display_data"
    }
   ],
   "source": [
    "vedo.show(surf, bg = 'wheat', bg2 = 'lightblue')"
   ]
  },
  {
   "cell_type": "markdown",
   "id": "233f7c13",
   "metadata": {},
   "source": [
    "Q: why is their a texture on this surface when I didn't prescribe it myself?"
   ]
  },
  {
   "cell_type": "code",
   "execution_count": 9,
   "id": "90d1760b",
   "metadata": {},
   "outputs": [],
   "source": [
    "# surf.texture()"
   ]
  },
  {
   "cell_type": "code",
   "execution_count": null,
   "id": "426bba39",
   "metadata": {},
   "outputs": [],
   "source": []
  },
  {
   "cell_type": "code",
   "execution_count": null,
   "id": "297b6f51",
   "metadata": {},
   "outputs": [],
   "source": []
  }
 ],
 "metadata": {
  "kernelspec": {
   "display_name": "Python tf>=2.0",
   "language": "python",
   "name": "tf2gpu"
  },
  "language_info": {
   "codemirror_mode": {
    "name": "ipython",
    "version": 3
   },
   "file_extension": ".py",
   "mimetype": "text/x-python",
   "name": "python",
   "nbconvert_exporter": "python",
   "pygments_lexer": "ipython3",
   "version": "3.7.10"
  }
 },
 "nbformat": 4,
 "nbformat_minor": 5
}
