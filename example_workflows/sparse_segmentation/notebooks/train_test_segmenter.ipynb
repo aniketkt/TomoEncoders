{
 "cells": [
  {
   "cell_type": "markdown",
   "id": "f50c42dc",
   "metadata": {},
   "source": [
    "## Segment a sparse 3D image with a single material component  \n",
    "\n",
    "The goal of this notebook is to develop a 3D segmentation algorithm that improves segmentation where features are detected.\n",
    "\n",
    "**Data:** AM parts from Xuan Zhang. "
   ]
  },
  {
   "cell_type": "code",
   "execution_count": 1,
   "id": "dfc91290",
   "metadata": {},
   "outputs": [],
   "source": [
    "%matplotlib inline\n",
    "import numpy as np\n",
    "import matplotlib.pyplot as plt\n",
    "import os\n",
    "import h5py\n",
    "import sys\n",
    "from tomo_encoders import Patches\n",
    "from tomo_encoders import DataFile\n",
    "import tensorflow as tf\n",
    "sys.path.append('/data02/MyArchive/aisteer_3Dencoders/TomoEncoders/tomo_encoders/tasks/sparse_segmenter')\n",
    "import time\n",
    "from sparse_segmenter import SparseSegmenter\n",
    "from tomo_encoders.misc_utils.feature_maps_vis import view_midplanes"
   ]
  },
  {
   "cell_type": "code",
   "execution_count": 2,
   "id": "a392d1c2",
   "metadata": {},
   "outputs": [],
   "source": [
    "GPU_mem_limit = 42.0\n",
    "gpus = tf.config.experimental.list_physical_devices('GPU')\n",
    "if gpus:\n",
    "  try:\n",
    "    tf.config.experimental.set_virtual_device_configuration(gpus[0], [tf.config.experimental.VirtualDeviceConfiguration(memory_limit=GPU_mem_limit*1000.0)])\n",
    "  except RuntimeError as e:\n",
    "    print(e)        "
   ]
  },
  {
   "cell_type": "code",
   "execution_count": 3,
   "id": "7ae7ae8f",
   "metadata": {},
   "outputs": [],
   "source": [
    "data_path = '/data02/MyArchive/AM_part_Xuan' #ensure this path matches where your data is located.\n",
    "\n",
    "test_binning = None\n",
    "# load vols here and quick look\n",
    "dict_scrops = {'mli_L206_HT_650_L3' : (slice(100,-100, test_binning), \\\n",
    "                                    slice(None,None, test_binning), \\\n",
    "                                    slice(None,None, test_binning)), \\\n",
    "            'AM316_L205_fs_tomo_L5' : (slice(50,-50, test_binning), \\\n",
    "                                       slice(None,None, test_binning), \\\n",
    "                                       slice(None,None, test_binning))}"
   ]
  },
  {
   "cell_type": "code",
   "execution_count": 4,
   "id": "6b425887",
   "metadata": {},
   "outputs": [],
   "source": [
    "# create datasets input for train method\n",
    "datasets = {}\n",
    "for filename, s_crops in dict_scrops.items():\n",
    "    ct_fpath = os.path.join(data_path, 'data', \\\n",
    "                            filename + '_rec_1x1_uint16.hdf5')\n",
    "    seg_fpath = os.path.join(data_path, 'seg_data', \\\n",
    "                             filename, filename + '_GT.hdf5')\n",
    "    \n",
    "    datasets.update({filename : {'fpath_X' : ct_fpath, \\\n",
    "                                 'fpath_Y' : seg_fpath, \\\n",
    "                                 'data_tag_X' : 'data', \\\n",
    "                                 'data_tag_Y' : 'SEG', \\\n",
    "                                 's_crops' : s_crops}})"
   ]
  },
  {
   "cell_type": "code",
   "execution_count": 5,
   "id": "3da6f51c",
   "metadata": {},
   "outputs": [],
   "source": [
    "# syx = slice(600,-600,None)\n",
    "# # view_midplanes(X[:,syx,syx])\n",
    "# X = X[:,syx,syx]\n",
    "# Y = Y[:,syx,syx]"
   ]
  },
  {
   "cell_type": "markdown",
   "id": "887019d3",
   "metadata": {},
   "source": [
    "## Train U-net for segmentation  "
   ]
  },
  {
   "cell_type": "code",
   "execution_count": 6,
   "id": "7e93bd2b",
   "metadata": {},
   "outputs": [
    {
     "name": "stdout",
     "output_type": "stream",
     "text": [
      "############# ii = 1\n",
      "############# ii = 0\n"
     ]
    }
   ],
   "source": [
    "# Feature Extraction stuff\n",
    "model_path = '/data02/MyArchive/aisteer_3Dencoders/models/AM_part_segmenter'\n",
    "descriptor_tag = 'test_noblanks_pt2cutoff'\n",
    "\n",
    "model_size = (64,64,64)\n",
    "model_params = {\"n_filters\" : [32, 64],\\\n",
    "                \"n_blocks\" : 2,\\\n",
    "                \"activation\" : 'lrelu',\\\n",
    "                \"batch_norm\" : True,\\\n",
    "                \"isconcat\" : [True, True],\\\n",
    "                \"pool_size\" : [2,4],\\\n",
    "                \"stdinput\" : True}\n",
    "\n",
    "training_params = {\"sampling_method\" : \"random\", \\\n",
    "                   \"batch_size\" : 24, \\\n",
    "                   \"n_epochs\" : 30,\\\n",
    "                   \"random_rotate\" : True, \\\n",
    "                   \"add_noise\" : 0.05, \\\n",
    "                   \"max_stride\" : 8, \\\n",
    "                   \"cutoff\" : 0.2}\n",
    "fe = SparseSegmenter(model_initialization = 'define-new', \\\n",
    "                         model_size = model_size, \\\n",
    "                         descriptor_tag = descriptor_tag, \\\n",
    "                         **model_params)"
   ]
  },
  {
   "cell_type": "code",
   "execution_count": 7,
   "id": "0f010f4d",
   "metadata": {},
   "outputs": [],
   "source": [
    "# fe.models[\"segmenter\"].summary()"
   ]
  },
  {
   "cell_type": "code",
   "execution_count": 8,
   "id": "13b0d7c4",
   "metadata": {},
   "outputs": [],
   "source": [
    "# for ii in range(len(fe.models['segmenter'].layers)):\n",
    "#     lshape = str(fe.models['segmenter'].layers[ii].output_shape)\n",
    "#     lname = str(fe.models['segmenter'].layers[ii].name)\n",
    "#     print(lshape + \"    ::    \"  + lname) "
   ]
  },
  {
   "cell_type": "code",
   "execution_count": 9,
   "id": "46440f42",
   "metadata": {},
   "outputs": [
    {
     "name": "stdout",
     "output_type": "stream",
     "text": [
      "loading data...\n",
      "done\n",
      "Shape X (902, 4200, 4200), shape Y (902, 4200, 4200)\n",
      "loading data...\n",
      "done\n",
      "Shape X (800, 5200, 5200), shape Y (800, 5200, 5200)\n"
     ]
    }
   ],
   "source": [
    "Xs, Ys = fe.load_datasets(datasets)"
   ]
  },
  {
   "cell_type": "code",
   "execution_count": 10,
   "id": "0b3adc1e",
   "metadata": {
    "scrolled": false
   },
   "outputs": [
    {
     "name": "stdout",
     "output_type": "stream",
     "text": [
      "Epoch 1/30\n",
      "33/33 [==============================] - 263s 7s/step - loss: 0.0662\n",
      "Epoch 2/30\n",
      "33/33 [==============================] - 140s 4s/step - loss: 0.0317\n",
      "Epoch 3/30\n",
      "33/33 [==============================] - 118s 4s/step - loss: 0.0145\n",
      "Epoch 4/30\n",
      "33/33 [==============================] - 118s 4s/step - loss: 0.0129\n",
      "Epoch 5/30\n",
      "33/33 [==============================] - 118s 4s/step - loss: 0.0074\n",
      "Epoch 6/30\n",
      "33/33 [==============================] - 118s 4s/step - loss: 0.0050\n",
      "Epoch 7/30\n",
      "33/33 [==============================] - 118s 4s/step - loss: 0.0055\n",
      "Epoch 8/30\n",
      "33/33 [==============================] - 118s 4s/step - loss: 0.0023\n",
      "Epoch 9/30\n",
      "33/33 [==============================] - 118s 4s/step - loss: 0.0025\n",
      "Epoch 10/30\n",
      "33/33 [==============================] - 118s 4s/step - loss: 0.0022\n",
      "Epoch 11/30\n",
      "33/33 [==============================] - 118s 4s/step - loss: 0.0021\n",
      "Epoch 12/30\n",
      "33/33 [==============================] - 118s 4s/step - loss: 0.0016\n",
      "Epoch 13/30\n",
      "33/33 [==============================] - 118s 4s/step - loss: 0.0014\n",
      "Epoch 14/30\n",
      "33/33 [==============================] - 118s 4s/step - loss: 0.0015\n",
      "Epoch 15/30\n",
      "33/33 [==============================] - 118s 4s/step - loss: 0.0017\n",
      "Epoch 16/30\n",
      "33/33 [==============================] - 118s 4s/step - loss: 6.8755e-04\n",
      "Epoch 17/30\n",
      "33/33 [==============================] - 118s 4s/step - loss: 0.0010\n",
      "Epoch 18/30\n",
      "33/33 [==============================] - 118s 4s/step - loss: 4.9959e-04\n",
      "Epoch 19/30\n",
      "33/33 [==============================] - 118s 4s/step - loss: 6.5551e-04\n",
      "Epoch 20/30\n",
      "33/33 [==============================] - 118s 4s/step - loss: 6.2826e-04\n",
      "Epoch 21/30\n",
      "33/33 [==============================] - 118s 4s/step - loss: 4.0118e-04\n",
      "Epoch 22/30\n",
      "33/33 [==============================] - 118s 4s/step - loss: 3.0325e-04\n",
      "Epoch 23/30\n",
      "33/33 [==============================] - 118s 4s/step - loss: 3.8534e-04\n",
      "Epoch 24/30\n",
      "33/33 [==============================] - 118s 4s/step - loss: 4.1376e-04\n",
      "Epoch 25/30\n",
      "33/33 [==============================] - 118s 4s/step - loss: 4.3227e-04\n",
      "Epoch 26/30\n",
      "33/33 [==============================] - 118s 4s/step - loss: 4.1560e-04\n",
      "Epoch 27/30\n",
      "33/33 [==============================] - 118s 4s/step - loss: 2.8581e-04\n",
      "Epoch 28/30\n",
      "33/33 [==============================] - 118s 4s/step - loss: 2.4456e-04\n",
      "Epoch 29/30\n",
      "33/33 [==============================] - 118s 4s/step - loss: 2.6024e-04\n",
      "Epoch 30/30\n",
      "33/33 [==============================] - 118s 4s/step - loss: 4.9718e-04\n",
      "training time = 3715.74 seconds\n"
     ]
    }
   ],
   "source": [
    "fe.train(Xs, Ys, training_params[\"batch_size\"], \\\n",
    "         training_params[\"sampling_method\"], \\\n",
    "         training_params[\"n_epochs\"], \\\n",
    "         max_stride = training_params[\"max_stride\"], \\\n",
    "         random_rotate = training_params[\"random_rotate\"], \\\n",
    "         add_noise = training_params[\"add_noise\"], \\\n",
    "         cutoff = training_params[\"cutoff\"])\n",
    "fe.save_models(model_path)"
   ]
  },
  {
   "cell_type": "code",
   "execution_count": null,
   "id": "260a7814",
   "metadata": {},
   "outputs": [],
   "source": []
  },
  {
   "cell_type": "markdown",
   "id": "c5b59b01",
   "metadata": {},
   "source": [
    "## Test it  "
   ]
  },
  {
   "cell_type": "code",
   "execution_count": 32,
   "id": "8834b328",
   "metadata": {},
   "outputs": [],
   "source": [
    "bin_size = (64,64,64)\n",
    "descriptor_tag = 'test_noblanks_pt2cutoff'\n",
    "model_names = {\"segmenter\" : \"segmenter_Unet_%s\"%descriptor_tag}\n",
    "model_path = '/data02/MyArchive/aisteer_3Dencoders/models/AM_part_segmenter'"
   ]
  },
  {
   "cell_type": "code",
   "execution_count": 33,
   "id": "b89a94e1",
   "metadata": {},
   "outputs": [],
   "source": [
    "## Need to write the stitch function\n",
    "max_stride = 8"
   ]
  },
  {
   "cell_type": "code",
   "execution_count": 34,
   "id": "216963f0",
   "metadata": {},
   "outputs": [],
   "source": [
    "fe = SparseSegmenter(model_initialization = 'load-model', \\\n",
    "                     model_names = model_names, model_path = model_path)"
   ]
  },
  {
   "cell_type": "code",
   "execution_count": 35,
   "id": "d95d008c",
   "metadata": {},
   "outputs": [],
   "source": [
    "# X = fe._normalize_volume(X)"
   ]
  },
  {
   "cell_type": "code",
   "execution_count": 36,
   "id": "8cc2220c",
   "metadata": {},
   "outputs": [],
   "source": [
    "patches = Patches(Xs[0].shape, initialize_by = \"grid\", \\\n",
    "                  patch_size = fe.model_size, stride = max_stride)"
   ]
  },
  {
   "cell_type": "code",
   "execution_count": 37,
   "id": "6f81e5ea",
   "metadata": {},
   "outputs": [],
   "source": [
    "x = patches.extract(Xs[0], fe.model_size).astype(np.float32)\n",
    "y_pred = fe.models[\"segmenter\"].predict(x[...,np.newaxis])\n",
    "y_pred = y_pred[...,0]\n",
    "# y_pred = np.round(y_pred).astype(np.uint8)"
   ]
  },
  {
   "cell_type": "code",
   "execution_count": 38,
   "id": "14403479",
   "metadata": {},
   "outputs": [
    {
     "data": {
      "text/plain": [
       "array([<AxesSubplot:title={'center':'XY mid-plane'}>,\n",
       "       <AxesSubplot:title={'center':'XZ mid-plane'}>,\n",
       "       <AxesSubplot:title={'center':'YZ mid-plane'}>], dtype=object)"
      ]
     },
     "execution_count": 38,
     "metadata": {},
     "output_type": "execute_result"
    },
    {
     "data": {
      "image/png": "[encoded data removed]",
      "text/plain": [
       "<Figure size 432x288 with 3 Axes>"
      ]
     },
     "metadata": {
      "needs_background": "light"
     },
     "output_type": "display_data"
    },
    {
     "data": {
      "image/png": "[encoded data removed]",
      "text/plain": [
       "<Figure size 432x288 with 3 Axes>"
      ]
     },
     "metadata": {
      "needs_background": "light"
     },
     "output_type": "display_data"
    }
   ],
   "source": [
    "ii = 25\n",
    "view_midplanes(vol = y_pred[ii])\n",
    "view_midplanes(vol = x[ii])"
   ]
  },
  {
   "cell_type": "code",
   "execution_count": 39,
   "id": "2cdbdcf0",
   "metadata": {},
   "outputs": [
    {
     "data": {
      "text/plain": [
       "0.34146827"
      ]
     },
     "execution_count": 39,
     "metadata": {},
     "output_type": "execute_result"
    }
   ],
   "source": [
    "y_pred[ii].mean()"
   ]
  },
  {
   "cell_type": "code",
   "execution_count": 40,
   "id": "931ce676",
   "metadata": {
    "scrolled": false
   },
   "outputs": [
    {
     "name": "stdout",
     "output_type": "stream",
     "text": [
      "Model: \"segmenter\"\n",
      "__________________________________________________________________________________________________\n",
      "Layer (type)                    Output Shape         Param #     Connected to                     \n",
      "==================================================================================================\n",
      "input_1 (InputLayer)            [(None, 64, 64, 64,  0                                            \n",
      "__________________________________________________________________________________________________\n",
      "lambda (Lambda)                 (None, 64, 64, 64, 1 0           input_1[0][0]                    \n",
      "__________________________________________________________________________________________________\n",
      "conv3d (Conv3D)                 (None, 64, 64, 64, 3 896         lambda[0][0]                     \n",
      "__________________________________________________________________________________________________\n",
      "batch_normalization (BatchNorma (None, 64, 64, 64, 3 128         conv3d[0][0]                     \n",
      "__________________________________________________________________________________________________\n",
      "leaky_re_lu (LeakyReLU)         (None, 64, 64, 64, 3 0           batch_normalization[0][0]        \n",
      "__________________________________________________________________________________________________\n",
      "conv3d_1 (Conv3D)               (None, 64, 64, 64, 6 55360       leaky_re_lu[0][0]                \n",
      "__________________________________________________________________________________________________\n",
      "batch_normalization_1 (BatchNor (None, 64, 64, 64, 6 256         conv3d_1[0][0]                   \n",
      "__________________________________________________________________________________________________\n",
      "leaky_re_lu_1 (LeakyReLU)       (None, 64, 64, 64, 6 0           batch_normalization_1[0][0]      \n",
      "__________________________________________________________________________________________________\n",
      "max_pooling3d (MaxPooling3D)    (None, 32, 32, 32, 6 0           leaky_re_lu_1[0][0]              \n",
      "__________________________________________________________________________________________________\n",
      "conv3d_2 (Conv3D)               (None, 32, 32, 32, 6 110656      max_pooling3d[0][0]              \n",
      "__________________________________________________________________________________________________\n",
      "batch_normalization_2 (BatchNor (None, 32, 32, 32, 6 256         conv3d_2[0][0]                   \n",
      "__________________________________________________________________________________________________\n",
      "leaky_re_lu_2 (LeakyReLU)       (None, 32, 32, 32, 6 0           batch_normalization_2[0][0]      \n",
      "__________________________________________________________________________________________________\n",
      "conv3d_3 (Conv3D)               (None, 32, 32, 32, 1 221312      leaky_re_lu_2[0][0]              \n",
      "__________________________________________________________________________________________________\n",
      "batch_normalization_3 (BatchNor (None, 32, 32, 32, 1 512         conv3d_3[0][0]                   \n",
      "__________________________________________________________________________________________________\n",
      "leaky_re_lu_3 (LeakyReLU)       (None, 32, 32, 32, 1 0           batch_normalization_3[0][0]      \n",
      "__________________________________________________________________________________________________\n",
      "max_pooling3d_1 (MaxPooling3D)  (None, 8, 8, 8, 128) 0           leaky_re_lu_3[0][0]              \n",
      "__________________________________________________________________________________________________\n",
      "conv3d_4 (Conv3D)               (None, 8, 8, 8, 128) 442496      max_pooling3d_1[0][0]            \n",
      "__________________________________________________________________________________________________\n",
      "batch_normalization_4 (BatchNor (None, 8, 8, 8, 128) 512         conv3d_4[0][0]                   \n",
      "__________________________________________________________________________________________________\n",
      "leaky_re_lu_4 (LeakyReLU)       (None, 8, 8, 8, 128) 0           batch_normalization_4[0][0]      \n",
      "__________________________________________________________________________________________________\n",
      "conv3d_5 (Conv3D)               (None, 8, 8, 8, 256) 884992      leaky_re_lu_4[0][0]              \n",
      "__________________________________________________________________________________________________\n",
      "batch_normalization_5 (BatchNor (None, 8, 8, 8, 256) 1024        conv3d_5[0][0]                   \n",
      "__________________________________________________________________________________________________\n",
      "leaky_re_lu_5 (LeakyReLU)       (None, 8, 8, 8, 256) 0           batch_normalization_5[0][0]      \n",
      "__________________________________________________________________________________________________\n",
      "conv3d_transpose (Conv3DTranspo (None, 32, 32, 32, 2 524544      leaky_re_lu_5[0][0]              \n",
      "__________________________________________________________________________________________________\n",
      "leaky_re_lu_6 (LeakyReLU)       (None, 32, 32, 32, 2 0           conv3d_transpose[0][0]           \n",
      "__________________________________________________________________________________________________\n",
      "concatenate (Concatenate)       (None, 32, 32, 32, 3 0           leaky_re_lu_6[0][0]              \n",
      "                                                                 leaky_re_lu_3[0][0]              \n",
      "__________________________________________________________________________________________________\n",
      "conv3d_6 (Conv3D)               (None, 32, 32, 32, 1 1327232     concatenate[0][0]                \n",
      "__________________________________________________________________________________________________\n",
      "batch_normalization_6 (BatchNor (None, 32, 32, 32, 1 512         conv3d_6[0][0]                   \n",
      "__________________________________________________________________________________________________\n",
      "leaky_re_lu_7 (LeakyReLU)       (None, 32, 32, 32, 1 0           batch_normalization_6[0][0]      \n",
      "__________________________________________________________________________________________________\n",
      "conv3d_7 (Conv3D)               (None, 32, 32, 32, 1 442496      leaky_re_lu_7[0][0]              \n",
      "__________________________________________________________________________________________________\n",
      "batch_normalization_7 (BatchNor (None, 32, 32, 32, 1 512         conv3d_7[0][0]                   \n",
      "__________________________________________________________________________________________________\n",
      "leaky_re_lu_8 (LeakyReLU)       (None, 32, 32, 32, 1 0           batch_normalization_7[0][0]      \n",
      "__________________________________________________________________________________________________\n",
      "conv3d_transpose_1 (Conv3DTrans (None, 64, 64, 64, 1 131200      leaky_re_lu_8[0][0]              \n",
      "__________________________________________________________________________________________________\n",
      "leaky_re_lu_9 (LeakyReLU)       (None, 64, 64, 64, 1 0           conv3d_transpose_1[0][0]         \n",
      "__________________________________________________________________________________________________\n",
      "concatenate_1 (Concatenate)     (None, 64, 64, 64, 1 0           leaky_re_lu_9[0][0]              \n",
      "                                                                 leaky_re_lu_1[0][0]              \n",
      "__________________________________________________________________________________________________\n",
      "conv3d_8 (Conv3D)               (None, 64, 64, 64, 6 331840      concatenate_1[0][0]              \n",
      "__________________________________________________________________________________________________\n",
      "batch_normalization_8 (BatchNor (None, 64, 64, 64, 6 256         conv3d_8[0][0]                   \n",
      "__________________________________________________________________________________________________\n",
      "leaky_re_lu_10 (LeakyReLU)      (None, 64, 64, 64, 6 0           batch_normalization_8[0][0]      \n",
      "__________________________________________________________________________________________________\n",
      "conv3d_9 (Conv3D)               (None, 64, 64, 64, 6 110656      leaky_re_lu_10[0][0]             \n",
      "__________________________________________________________________________________________________\n",
      "batch_normalization_9 (BatchNor (None, 64, 64, 64, 6 256         conv3d_9[0][0]                   \n",
      "__________________________________________________________________________________________________\n",
      "leaky_re_lu_11 (LeakyReLU)      (None, 64, 64, 64, 6 0           batch_normalization_9[0][0]      \n",
      "__________________________________________________________________________________________________\n",
      "conv3d_10 (Conv3D)              (None, 64, 64, 64, 1 65          leaky_re_lu_11[0][0]             \n",
      "==================================================================================================\n",
      "Total params: 4,587,969\n",
      "Trainable params: 4,585,857\n",
      "Non-trainable params: 2,112\n",
      "__________________________________________________________________________________________________\n"
     ]
    }
   ],
   "source": [
    "fe.models[\"segmenter\"].summary()"
   ]
  },
  {
   "cell_type": "code",
   "execution_count": 41,
   "id": "f2126806",
   "metadata": {},
   "outputs": [
    {
     "name": "stdout",
     "output_type": "stream",
     "text": [
      "[(None, 64, 64, 64, 1)]    ::    input_1\n",
      "(None, 64, 64, 64, 1)    ::    lambda\n",
      "(None, 64, 64, 64, 32)    ::    conv3d\n",
      "(None, 64, 64, 64, 32)    ::    batch_normalization\n",
      "(None, 64, 64, 64, 32)    ::    leaky_re_lu\n",
      "(None, 64, 64, 64, 64)    ::    conv3d_1\n",
      "(None, 64, 64, 64, 64)    ::    batch_normalization_1\n",
      "(None, 64, 64, 64, 64)    ::    leaky_re_lu_1\n",
      "(None, 32, 32, 32, 64)    ::    max_pooling3d\n",
      "(None, 32, 32, 32, 64)    ::    conv3d_2\n",
      "(None, 32, 32, 32, 64)    ::    batch_normalization_2\n",
      "(None, 32, 32, 32, 64)    ::    leaky_re_lu_2\n",
      "(None, 32, 32, 32, 128)    ::    conv3d_3\n",
      "(None, 32, 32, 32, 128)    ::    batch_normalization_3\n",
      "(None, 32, 32, 32, 128)    ::    leaky_re_lu_3\n",
      "(None, 8, 8, 8, 128)    ::    max_pooling3d_1\n",
      "(None, 8, 8, 8, 128)    ::    conv3d_4\n",
      "(None, 8, 8, 8, 128)    ::    batch_normalization_4\n",
      "(None, 8, 8, 8, 128)    ::    leaky_re_lu_4\n",
      "(None, 8, 8, 8, 256)    ::    conv3d_5\n",
      "(None, 8, 8, 8, 256)    ::    batch_normalization_5\n",
      "(None, 8, 8, 8, 256)    ::    leaky_re_lu_5\n",
      "(None, 32, 32, 32, 256)    ::    conv3d_transpose\n",
      "(None, 32, 32, 32, 256)    ::    leaky_re_lu_6\n",
      "(None, 32, 32, 32, 384)    ::    concatenate\n",
      "(None, 32, 32, 32, 128)    ::    conv3d_6\n",
      "(None, 32, 32, 32, 128)    ::    batch_normalization_6\n",
      "(None, 32, 32, 32, 128)    ::    leaky_re_lu_7\n",
      "(None, 32, 32, 32, 128)    ::    conv3d_7\n",
      "(None, 32, 32, 32, 128)    ::    batch_normalization_7\n",
      "(None, 32, 32, 32, 128)    ::    leaky_re_lu_8\n",
      "(None, 64, 64, 64, 128)    ::    conv3d_transpose_1\n",
      "(None, 64, 64, 64, 128)    ::    leaky_re_lu_9\n",
      "(None, 64, 64, 64, 192)    ::    concatenate_1\n",
      "(None, 64, 64, 64, 64)    ::    conv3d_8\n",
      "(None, 64, 64, 64, 64)    ::    batch_normalization_8\n",
      "(None, 64, 64, 64, 64)    ::    leaky_re_lu_10\n",
      "(None, 64, 64, 64, 64)    ::    conv3d_9\n",
      "(None, 64, 64, 64, 64)    ::    batch_normalization_9\n",
      "(None, 64, 64, 64, 64)    ::    leaky_re_lu_11\n",
      "(None, 64, 64, 64, 1)    ::    conv3d_10\n"
     ]
    }
   ],
   "source": [
    "for ii in range(len(fe.models['segmenter'].layers)):\n",
    "    lshape = str(fe.models['segmenter'].layers[ii].output_shape)\n",
    "    lname = str(fe.models['segmenter'].layers[ii].name)\n",
    "    print(lshape + \"    ::    \"  + lname) "
   ]
  },
  {
   "cell_type": "code",
   "execution_count": null,
   "id": "37f58dfa",
   "metadata": {},
   "outputs": [],
   "source": []
  },
  {
   "cell_type": "code",
   "execution_count": null,
   "id": "b20e33b4",
   "metadata": {},
   "outputs": [],
   "source": []
  },
  {
   "cell_type": "code",
   "execution_count": null,
   "id": "82561fbd",
   "metadata": {},
   "outputs": [],
   "source": []
  },
  {
   "cell_type": "code",
   "execution_count": null,
   "id": "1a3de2ef",
   "metadata": {},
   "outputs": [],
   "source": []
  },
  {
   "cell_type": "code",
   "execution_count": null,
   "id": "ec88d1e3",
   "metadata": {},
   "outputs": [],
   "source": []
  },
  {
   "cell_type": "code",
   "execution_count": null,
   "id": "7e29600c",
   "metadata": {},
   "outputs": [],
   "source": []
  }
 ],
 "metadata": {
  "kernelspec": {
   "display_name": "Python tf>=2.0",
   "language": "python",
   "name": "tf2gpu"
  },
  "language_info": {
   "codemirror_mode": {
    "name": "ipython",
    "version": 3
   },
   "file_extension": ".py",
   "mimetype": "text/x-python",
   "name": "python",
   "nbconvert_exporter": "python",
   "pygments_lexer": "ipython3",
   "version": "3.7.10"
  }
 },
 "nbformat": 4,
 "nbformat_minor": 5
}
