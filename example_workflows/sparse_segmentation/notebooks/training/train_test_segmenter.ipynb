{
 "cells": [
  {
   "cell_type": "markdown",
   "id": "f50c42dc",
   "metadata": {},
   "source": [
    "## Segment a sparse 3D image with a single material component  \n",
    "\n",
    "The goal of this notebook is to develop a 3D segmentation algorithm that improves segmentation where features are detected.\n",
    "\n",
    "**Data:** AM parts from Xuan Zhang. "
   ]
  },
  {
   "cell_type": "code",
   "execution_count": 1,
   "id": "dfc91290",
   "metadata": {},
   "outputs": [],
   "source": [
    "%matplotlib inline\n",
    "import numpy as np\n",
    "import matplotlib.pyplot as plt\n",
    "import os\n",
    "import h5py\n",
    "import sys\n",
    "from tomo_encoders import Patches\n",
    "from tomo_encoders import DataFile\n",
    "import tensorflow as tf\n",
    "import time\n",
    "from tomo_encoders.tasks import SparseSegmenter\n",
    "from tomo_encoders.misc_utils.feature_maps_vis import view_midplanes"
   ]
  },
  {
   "cell_type": "code",
   "execution_count": 2,
   "id": "a392d1c2",
   "metadata": {},
   "outputs": [],
   "source": [
    "GPU_mem_limit = 42.0\n",
    "gpus = tf.config.experimental.list_physical_devices('GPU')\n",
    "if gpus:\n",
    "    try:\n",
    "        tf.config.experimental.set_virtual_device_configuration(gpus[0], [tf.config.experimental.VirtualDeviceConfiguration(memory_limit=GPU_mem_limit*1000.0)])\n",
    "    except RuntimeError as e:\n",
    "        print(e)        "
   ]
  },
  {
   "cell_type": "code",
   "execution_count": 3,
   "id": "7ae7ae8f",
   "metadata": {},
   "outputs": [],
   "source": [
    "data_path = '/data02/MyArchive/AM_part_Xuan' #ensure this path matches where your data is located.\n",
    "\n",
    "test_binning = 2\n",
    "# load vols here and quick look\n",
    "dict_scrops = {'mli_L206_HT_650_L3' : (slice(100,-100, test_binning), \\\n",
    "                                    slice(None,None, test_binning), \\\n",
    "                                    slice(None,None, test_binning)), \\\n",
    "            'AM316_L205_fs_tomo_L5' : (slice(50,-50, test_binning), \\\n",
    "                                       slice(None,None, test_binning), \\\n",
    "                                       slice(None,None, test_binning))}"
   ]
  },
  {
   "cell_type": "code",
   "execution_count": 4,
   "id": "6b425887",
   "metadata": {},
   "outputs": [],
   "source": [
    "# create datasets input for train method\n",
    "datasets = {}\n",
    "for filename, s_crops in dict_scrops.items():\n",
    "    ct_fpath = os.path.join(data_path, 'data', \\\n",
    "                            filename + '_rec_1x1_uint16.hdf5')\n",
    "    seg_fpath = os.path.join(data_path, 'seg_data', \\\n",
    "                             filename, filename + '_GT.hdf5')\n",
    "    \n",
    "    datasets.update({filename : {'fpath_X' : ct_fpath, \\\n",
    "                                 'fpath_Y' : seg_fpath, \\\n",
    "                                 'data_tag_X' : 'data', \\\n",
    "                                 'data_tag_Y' : 'SEG', \\\n",
    "                                 's_crops' : s_crops}})"
   ]
  },
  {
   "cell_type": "code",
   "execution_count": 5,
   "id": "3da6f51c",
   "metadata": {},
   "outputs": [],
   "source": [
    "# syx = slice(600,-600,None)\n",
    "# # view_midplanes(X[:,syx,syx])\n",
    "# X = X[:,syx,syx]\n",
    "# Y = Y[:,syx,syx]"
   ]
  },
  {
   "cell_type": "markdown",
   "id": "887019d3",
   "metadata": {},
   "source": [
    "## Train U-net for segmentation  "
   ]
  },
  {
   "cell_type": "code",
   "execution_count": 6,
   "id": "7e93bd2b",
   "metadata": {},
   "outputs": [
    {
     "name": "stdout",
     "output_type": "stream",
     "text": [
      "############# ii = 1\n",
      "############# ii = 0\n"
     ]
    }
   ],
   "source": [
    "# Feature Extraction stuff\n",
    "model_path = '/data02/MyArchive/aisteer_3Dencoders/models/AM_part_segmenter'\n",
    "descriptor_tag = 'tmp'#'test_noblanks_pt2cutoff_nostd'\n",
    "\n",
    "model_size = (64,64,64)\n",
    "model_params = {\"n_filters\" : [32, 64],\\\n",
    "                \"n_blocks\" : 2,\\\n",
    "                \"activation\" : 'lrelu',\\\n",
    "                \"batch_norm\" : True,\\\n",
    "                \"isconcat\" : [True, True],\\\n",
    "                \"pool_size\" : [2,4],\\\n",
    "                \"stdinput\" : False}\n",
    "\n",
    "training_params = {\"sampling_method\" : \"random\", \\\n",
    "                   \"batch_size\" : 24, \\\n",
    "                   \"n_epochs\" : 30,\\\n",
    "                   \"random_rotate\" : True, \\\n",
    "                   \"add_noise\" : 0.05, \\\n",
    "                   \"max_stride\" : 4, \\\n",
    "                   \"cutoff\" : 0.2}\n",
    "fe = SparseSegmenter(model_initialization = 'define-new', \\\n",
    "                         model_size = model_size, \\\n",
    "                         descriptor_tag = descriptor_tag, \\\n",
    "                         **model_params)"
   ]
  },
  {
   "cell_type": "code",
   "execution_count": 7,
   "id": "0f010f4d",
   "metadata": {},
   "outputs": [],
   "source": [
    "# fe.models[\"segmenter\"].summary()"
   ]
  },
  {
   "cell_type": "code",
   "execution_count": 8,
   "id": "13b0d7c4",
   "metadata": {},
   "outputs": [],
   "source": [
    "# for ii in range(len(fe.models['segmenter'].layers)):\n",
    "#     lshape = str(fe.models['segmenter'].layers[ii].output_shape)\n",
    "#     lname = str(fe.models['segmenter'].layers[ii].name)\n",
    "#     print(lshape + \"    ::    \"  + lname) "
   ]
  },
  {
   "cell_type": "code",
   "execution_count": 9,
   "id": "46440f42",
   "metadata": {},
   "outputs": [
    {
     "name": "stdout",
     "output_type": "stream",
     "text": [
      "loading data...\n",
      "copy to gpu time per 1 size chunk: 1.91 ms\n",
      "processing time per 1 size chunk: 0.41 ms\n",
      "copy from gpu time per 1 size chunk: 3.54 ms\n",
      "total time:  2.6554770469665527\n",
      "done\n",
      "Shape X (451, 2100, 2100), shape Y (451, 2100, 2100)\n",
      "loading data...\n",
      "copy to gpu time per 1 size chunk: 2.86 ms\n",
      "processing time per 1 size chunk: 0.27 ms\n",
      "copy from gpu time per 1 size chunk: 5.33 ms\n",
      "total time:  3.40153169631958\n",
      "done\n",
      "Shape X (400, 2600, 2600), shape Y (400, 2600, 2600)\n"
     ]
    }
   ],
   "source": [
    "Xs, Ys = fe.load_datasets(datasets)"
   ]
  },
  {
   "cell_type": "code",
   "execution_count": null,
   "id": "0b3adc1e",
   "metadata": {
    "scrolled": false
   },
   "outputs": [
    {
     "name": "stdout",
     "output_type": "stream",
     "text": [
      "Epoch 1/30\n",
      "33/33 [==============================] - 144s 4s/step - loss: 0.0933\n",
      "Epoch 2/30\n",
      "33/33 [==============================] - 118s 4s/step - loss: 0.0458\n",
      "Epoch 3/30\n",
      "33/33 [==============================] - 119s 4s/step - loss: 0.0315\n",
      "Epoch 4/30\n",
      "33/33 [==============================] - 118s 4s/step - loss: 0.0279\n",
      "Epoch 5/30\n",
      "33/33 [==============================] - 118s 4s/step - loss: 0.0271\n",
      "Epoch 6/30\n",
      " 8/33 [======>.......................] - ETA: 1:29 - loss: 0.0264"
     ]
    }
   ],
   "source": [
    "fe.train(Xs, Ys, training_params[\"batch_size\"], \\\n",
    "         training_params[\"sampling_method\"], \\\n",
    "         training_params[\"n_epochs\"], \\\n",
    "         max_stride = training_params[\"max_stride\"], \\\n",
    "         random_rotate = training_params[\"random_rotate\"], \\\n",
    "         add_noise = training_params[\"add_noise\"], \\\n",
    "         cutoff = training_params[\"cutoff\"])\n",
    "fe.save_models(model_path)"
   ]
  },
  {
   "cell_type": "markdown",
   "id": "c5b59b01",
   "metadata": {},
   "source": [
    "## Test it  "
   ]
  },
  {
   "cell_type": "code",
   "execution_count": null,
   "id": "8834b328",
   "metadata": {},
   "outputs": [],
   "source": [
    "bin_size = (64,64,64)\n",
    "descriptor_tag = 'test_noblanks_pt2cutoff_nostd'\n",
    "model_names = {\"segmenter\" : \"segmenter_Unet_%s\"%descriptor_tag}\n",
    "model_path = '/data02/MyArchive/aisteer_3Dencoders/models/AM_part_segmenter'"
   ]
  },
  {
   "cell_type": "code",
   "execution_count": null,
   "id": "b89a94e1",
   "metadata": {},
   "outputs": [],
   "source": [
    "## Need to write the stitch function\n",
    "max_stride = 8"
   ]
  },
  {
   "cell_type": "code",
   "execution_count": null,
   "id": "216963f0",
   "metadata": {},
   "outputs": [],
   "source": [
    "fe = SparseSegmenter(model_initialization = 'load-model', \\\n",
    "                     model_names = model_names, model_path = model_path)"
   ]
  },
  {
   "cell_type": "code",
   "execution_count": null,
   "id": "d95d008c",
   "metadata": {},
   "outputs": [],
   "source": [
    "# X = fe._normalize_volume(X)"
   ]
  },
  {
   "cell_type": "code",
   "execution_count": null,
   "id": "8cc2220c",
   "metadata": {},
   "outputs": [],
   "source": [
    "patches = Patches(Xs[0].shape, initialize_by = \"grid\", \\\n",
    "                  patch_size = fe.model_size, stride = max_stride)"
   ]
  },
  {
   "cell_type": "code",
   "execution_count": null,
   "id": "6f81e5ea",
   "metadata": {},
   "outputs": [],
   "source": [
    "x = patches.extract(Xs[0], fe.model_size).astype(np.float32)\n",
    "y_pred = fe.models[\"segmenter\"].predict(x[...,np.newaxis])\n",
    "y_pred = y_pred[...,0]\n",
    "# y_pred = np.round(y_pred).astype(np.uint8)"
   ]
  },
  {
   "cell_type": "code",
   "execution_count": null,
   "id": "14403479",
   "metadata": {},
   "outputs": [],
   "source": [
    "ii = 25\n",
    "view_midplanes(vol = y_pred[ii])\n",
    "view_midplanes(vol = x[ii])"
   ]
  },
  {
   "cell_type": "code",
   "execution_count": null,
   "id": "2cdbdcf0",
   "metadata": {},
   "outputs": [],
   "source": [
    "y_pred[ii].mean()"
   ]
  },
  {
   "cell_type": "code",
   "execution_count": null,
   "id": "931ce676",
   "metadata": {
    "scrolled": false
   },
   "outputs": [],
   "source": [
    "fe.models[\"segmenter\"].summary()"
   ]
  },
  {
   "cell_type": "code",
   "execution_count": null,
   "id": "f2126806",
   "metadata": {},
   "outputs": [],
   "source": [
    "for ii in range(len(fe.models['segmenter'].layers)):\n",
    "    lshape = str(fe.models['segmenter'].layers[ii].output_shape)\n",
    "    lname = str(fe.models['segmenter'].layers[ii].name)\n",
    "    print(lshape + \"    ::    \"  + lname) "
   ]
  },
  {
   "cell_type": "code",
   "execution_count": null,
   "id": "37f58dfa",
   "metadata": {},
   "outputs": [],
   "source": []
  },
  {
   "cell_type": "code",
   "execution_count": null,
   "id": "b20e33b4",
   "metadata": {},
   "outputs": [],
   "source": []
  },
  {
   "cell_type": "code",
   "execution_count": null,
   "id": "82561fbd",
   "metadata": {},
   "outputs": [],
   "source": []
  },
  {
   "cell_type": "code",
   "execution_count": null,
   "id": "1a3de2ef",
   "metadata": {},
   "outputs": [],
   "source": []
  },
  {
   "cell_type": "code",
   "execution_count": null,
   "id": "ec88d1e3",
   "metadata": {},
   "outputs": [],
   "source": []
  },
  {
   "cell_type": "code",
   "execution_count": null,
   "id": "7e29600c",
   "metadata": {},
   "outputs": [],
   "source": []
  }
 ],
 "metadata": {
  "kernelspec": {
   "display_name": "Python tf>=2.0",
   "language": "python",
   "name": "tf2gpu"
  },
  "language_info": {
   "codemirror_mode": {
    "name": "ipython",
    "version": 3
   },
   "file_extension": ".py",
   "mimetype": "text/x-python",
   "name": "python",
   "nbconvert_exporter": "python",
   "pygments_lexer": "ipython3",
   "version": "3.7.10"
  }
 },
 "nbformat": 4,
 "nbformat_minor": 5
}
