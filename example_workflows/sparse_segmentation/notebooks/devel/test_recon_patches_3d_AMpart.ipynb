{
 "cells": [
  {
   "cell_type": "code",
   "execution_count": 1,
   "id": "0bd6ec6b",
   "metadata": {},
   "outputs": [],
   "source": [
    "import sys\n",
    "import matplotlib.pyplot as plt\n",
    "import numpy as np\n",
    "from porespy import generators\n",
    "from tomo_encoders.misc_utils.feature_maps_vis import view_midplanes\n",
    "import cupy as cp\n",
    "import time\n",
    "import h5py\n",
    "from tomopy import project\n",
    "sys.path.append('/data02/MyArchive/aisteer_3Dencoders/TomoEncoders/tomo_encoders/tasks/sparse_segmenter/')\n",
    "from recon_subvol import fbp_filter, test_recon_patch, recon_patches_3d\n",
    "from tomo_encoders import DataFile, Patches\n",
    "import os\n",
    "import signal\n",
    "import tomocg as pt"
   ]
  },
  {
   "cell_type": "code",
   "execution_count": 2,
   "id": "01c6eb03",
   "metadata": {},
   "outputs": [],
   "source": [
    "# # Use managed memory\n",
    "# cp.cuda.set_allocator(cp.cuda.MemoryPool(cp.cuda.malloc_managed).malloc)"
   ]
  },
  {
   "cell_type": "markdown",
   "id": "3bfd64c5",
   "metadata": {},
   "source": [
    "### Read projections data  "
   ]
  },
  {
   "cell_type": "code",
   "execution_count": 3,
   "id": "6fe1856d",
   "metadata": {},
   "outputs": [],
   "source": [
    "filename = 'mli_L206_HT_650_L3'\n",
    "projs_path = '/data02/MyArchive/AM_part_Xuan/projs' \n",
    "binning = 1 \n",
    "ntheta = 3000"
   ]
  },
  {
   "cell_type": "code",
   "execution_count": 4,
   "id": "5738533a",
   "metadata": {},
   "outputs": [],
   "source": [
    "read_fpath = os.path.join(projs_path, filename + '_projs_bin%i_ntheta%i.hdf5'%(binning,ntheta))\n",
    "with h5py.File(read_fpath, 'r') as hf:\n",
    "    projs = np.asarray(hf['data'][:])\n",
    "    theta = np.asarray(hf['theta'][:])\n",
    "    center = float(np.asarray(hf['center'][()]))"
   ]
  },
  {
   "cell_type": "markdown",
   "id": "43abd52a",
   "metadata": {},
   "source": [
    "## Reconstruct one full slice  "
   ]
  },
  {
   "cell_type": "code",
   "execution_count": 6,
   "id": "ec84f0ca",
   "metadata": {},
   "outputs": [
    {
     "data": {
      "text/plain": [
       "(1102, 4200, 4200)"
      ]
     },
     "execution_count": 6,
     "metadata": {},
     "output_type": "execute_result"
    }
   ],
   "source": [
    "vol_shape = projs.shape[1:] + (projs.shape[-1],)\n",
    "vol_shape"
   ]
  },
  {
   "cell_type": "code",
   "execution_count": 7,
   "id": "2ed908f7",
   "metadata": {},
   "outputs": [
    {
     "name": "stdout",
     "output_type": "stream",
     "text": [
      "(71825, 3)\n"
     ]
    }
   ],
   "source": [
    "model_size = (64,64,64)\n",
    "kwargs = {\"initialize_by\" : 'regular-grid',\n",
    "          \"patch_size\" : model_size, \\\n",
    "          \"stride\" : 1}\n",
    "p_grid = Patches(vol_shape, **kwargs)\n",
    "print(p_grid.points.shape)\n",
    "p_grid._check_valid_points()"
   ]
  },
  {
   "cell_type": "code",
   "execution_count": 8,
   "id": "8e649b55",
   "metadata": {},
   "outputs": [],
   "source": [
    "p3d = p_grid.select_random_sample(100)"
   ]
  },
  {
   "cell_type": "code",
   "execution_count": 10,
   "id": "3c9c33da",
   "metadata": {},
   "outputs": [
    {
     "name": "stdout",
     "output_type": "stream",
     "text": [
      "[[64 64 64]] [[ 896 3264 1408]]\n"
     ]
    }
   ],
   "source": [
    "print(p3d.widths[:1], p3d.points[:1])"
   ]
  },
  {
   "cell_type": "code",
   "execution_count": 11,
   "id": "08782a57",
   "metadata": {},
   "outputs": [
    {
     "ename": "ValueError",
     "evalue": "mem limit breached",
     "output_type": "error",
     "traceback": [
      "\u001b[0;31m---------------------------------------------------------------------------\u001b[0m",
      "\u001b[0;31mValueError\u001b[0m                                Traceback (most recent call last)",
      "\u001b[0;32m<ipython-input-11-d57eecd95bdf>\u001b[0m in \u001b[0;36m<module>\u001b[0;34m\u001b[0m\n\u001b[1;32m      1\u001b[0m \u001b[0;32mwith\u001b[0m \u001b[0mcp\u001b[0m\u001b[0;34m.\u001b[0m\u001b[0mcuda\u001b[0m\u001b[0;34m.\u001b[0m\u001b[0mDevice\u001b[0m\u001b[0;34m(\u001b[0m\u001b[0;36m0\u001b[0m\u001b[0;34m)\u001b[0m\u001b[0;34m:\u001b[0m\u001b[0;34m\u001b[0m\u001b[0;34m\u001b[0m\u001b[0m\n\u001b[1;32m      2\u001b[0m     \u001b[0mcenter\u001b[0m \u001b[0;34m=\u001b[0m \u001b[0mprojs\u001b[0m\u001b[0;34m.\u001b[0m\u001b[0mshape\u001b[0m\u001b[0;34m[\u001b[0m\u001b[0;34m-\u001b[0m\u001b[0;36m1\u001b[0m\u001b[0;34m]\u001b[0m\u001b[0;34m//\u001b[0m\u001b[0;36m2.0\u001b[0m\u001b[0;34m\u001b[0m\u001b[0;34m\u001b[0m\u001b[0m\n\u001b[0;32m----> 3\u001b[0;31m     \u001b[0msub_vols\u001b[0m \u001b[0;34m=\u001b[0m \u001b[0mrecon_patches_3d\u001b[0m\u001b[0;34m(\u001b[0m\u001b[0mprojs\u001b[0m\u001b[0;34m,\u001b[0m \u001b[0mtheta\u001b[0m\u001b[0;34m,\u001b[0m \u001b[0mcenter\u001b[0m\u001b[0;34m,\u001b[0m \u001b[0mp3d\u001b[0m\u001b[0;34m,\u001b[0m \u001b[0mmem_limit_gpu\u001b[0m \u001b[0;34m=\u001b[0m \u001b[0;36m40.0\u001b[0m\u001b[0;34m,\u001b[0m \u001b[0mapply_fbp\u001b[0m \u001b[0;34m=\u001b[0m \u001b[0;32mTrue\u001b[0m\u001b[0;34m)\u001b[0m\u001b[0;34m\u001b[0m\u001b[0;34m\u001b[0m\u001b[0m\n\u001b[0m\u001b[1;32m      4\u001b[0m     \u001b[0msub_vol\u001b[0m \u001b[0;34m=\u001b[0m \u001b[0;36m1.0\u001b[0m\u001b[0;34m*\u001b[0m\u001b[0;34m(\u001b[0m\u001b[0msub_vol\u001b[0m \u001b[0;34m-\u001b[0m \u001b[0msub_vol\u001b[0m\u001b[0;34m.\u001b[0m\u001b[0mmin\u001b[0m\u001b[0;34m(\u001b[0m\u001b[0;34m)\u001b[0m\u001b[0;34m)\u001b[0m \u001b[0;34m/\u001b[0m \u001b[0;34m(\u001b[0m\u001b[0msub_vol\u001b[0m\u001b[0;34m.\u001b[0m\u001b[0mmax\u001b[0m\u001b[0;34m(\u001b[0m\u001b[0;34m)\u001b[0m \u001b[0;34m-\u001b[0m \u001b[0msub_vol\u001b[0m\u001b[0;34m.\u001b[0m\u001b[0mmin\u001b[0m\u001b[0;34m(\u001b[0m\u001b[0;34m)\u001b[0m\u001b[0;34m)\u001b[0m\u001b[0;34m\u001b[0m\u001b[0;34m\u001b[0m\u001b[0m\n",
      "\u001b[0;32m/data02/MyArchive/aisteer_3Dencoders/TomoEncoders/tomo_encoders/tasks/sparse_segmenter/recon_subvol.py\u001b[0m in \u001b[0;36mrecon_patches_3d\u001b[0;34m(projs, theta, center, p3d, mem_limit_gpu, apply_fbp)\u001b[0m\n\u001b[1;32m    161\u001b[0m     \u001b[0;31m# Q: what should be memory limit?\u001b[0m\u001b[0;34m\u001b[0m\u001b[0;34m\u001b[0m\u001b[0;34m\u001b[0m\u001b[0m\n\u001b[1;32m    162\u001b[0m     \u001b[0;32mif\u001b[0m \u001b[0mprojs\u001b[0m\u001b[0;34m.\u001b[0m\u001b[0mnbytes\u001b[0m\u001b[0;34m/\u001b[0m\u001b[0;36m1.0e9\u001b[0m \u001b[0;34m>\u001b[0m \u001b[0mmem_limit_gpu\u001b[0m\u001b[0;34m:\u001b[0m\u001b[0;34m\u001b[0m\u001b[0;34m\u001b[0m\u001b[0m\n\u001b[0;32m--> 163\u001b[0;31m         \u001b[0;32mraise\u001b[0m \u001b[0mValueError\u001b[0m\u001b[0;34m(\u001b[0m\u001b[0;34m\"mem limit breached\"\u001b[0m\u001b[0;34m)\u001b[0m\u001b[0;34m\u001b[0m\u001b[0;34m\u001b[0m\u001b[0m\n\u001b[0m\u001b[1;32m    164\u001b[0m \u001b[0;34m\u001b[0m\u001b[0m\n\u001b[1;32m    165\u001b[0m     \u001b[0mvol_shape\u001b[0m \u001b[0;34m=\u001b[0m \u001b[0mp3d\u001b[0m\u001b[0;34m.\u001b[0m\u001b[0mvol_shape\u001b[0m\u001b[0;34m\u001b[0m\u001b[0;34m\u001b[0m\u001b[0m\n",
      "\u001b[0;31mValueError\u001b[0m: mem limit breached"
     ]
    }
   ],
   "source": [
    "with cp.cuda.Device(0):\n",
    "    center = projs.shape[-1]//2.0\n",
    "    sub_vols = recon_patches_3d(projs, theta, center, p3d, mem_limit_gpu = 40.0, apply_fbp = True)\n",
    "    sub_vol = 1.0*(sub_vol - sub_vol.min()) / (sub_vol.max() - sub_vol.min())"
   ]
  },
  {
   "cell_type": "code",
   "execution_count": null,
   "id": "a35183d0",
   "metadata": {},
   "outputs": [],
   "source": []
  },
  {
   "cell_type": "code",
   "execution_count": null,
   "id": "21f87df4",
   "metadata": {},
   "outputs": [],
   "source": [
    "center = projs.shape[-1]//2.0\n",
    "\n",
    "\n",
    "# point = [500//binning, 0, 0]\n",
    "# point = [0, 0, 0]\n",
    "# width = [1, 4200//binning, 4200//binning]\n",
    "\n",
    "\n",
    "# z, y, x\n",
    "point = [500, 2000//binning, 2000//binning]\n",
    "width = [128, 256, 256]\n",
    "\n",
    "# point = [500, 0, 0]\n",
    "# width = [1, 2100, 2100]\n",
    "\n",
    "\n",
    "with cp.cuda.Device(0):\n",
    "    center = projs.shape[-1]//2.0\n",
    "    sub_vol = recon_patch(projs, theta, center, point, width, \\\n",
    "                          mem_limit_gpu = 40.0,\n",
    "                          apply_fbp=True, nzc = 8)\n",
    "    sub_vol = 1.0*(sub_vol - sub_vol.min()) / (sub_vol.max() - sub_vol.min())"
   ]
  },
  {
   "cell_type": "code",
   "execution_count": null,
   "id": "7d2de075",
   "metadata": {},
   "outputs": [],
   "source": [
    "5%2"
   ]
  },
  {
   "cell_type": "code",
   "execution_count": null,
   "id": "3f20b7d2",
   "metadata": {},
   "outputs": [],
   "source": [
    "sub_vol.shape"
   ]
  },
  {
   "cell_type": "code",
   "execution_count": null,
   "id": "c6b51b01",
   "metadata": {},
   "outputs": [],
   "source": [
    "fig, ax = plt.subplots(1,1, figsize = (16,16))\n",
    "ax.imshow(sub_vol[0], cmap = 'gray')"
   ]
  },
  {
   "cell_type": "code",
   "execution_count": null,
   "id": "2d3967f1",
   "metadata": {},
   "outputs": [],
   "source": []
  }
 ],
 "metadata": {
  "kernelspec": {
   "display_name": "Python tf>=2.0",
   "language": "python",
   "name": "tf2gpu"
  },
  "language_info": {
   "codemirror_mode": {
    "name": "ipython",
    "version": 3
   },
   "file_extension": ".py",
   "mimetype": "text/x-python",
   "name": "python",
   "nbconvert_exporter": "python",
   "pygments_lexer": "ipython3",
   "version": "3.7.10"
  }
 },
 "nbformat": 4,
 "nbformat_minor": 5
}
