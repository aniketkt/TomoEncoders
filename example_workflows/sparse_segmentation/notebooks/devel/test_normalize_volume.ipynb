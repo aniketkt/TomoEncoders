{
 "cells": [
  {
   "cell_type": "code",
   "execution_count": 1,
   "id": "0bd6ec6b",
   "metadata": {},
   "outputs": [],
   "source": [
    "import sys\n",
    "import matplotlib.pyplot as plt\n",
    "import numpy as np\n",
    "from porespy import generators\n",
    "from tomo_encoders.misc_utils.feature_maps_vis import view_midplanes\n",
    "import cupy as cp\n",
    "import time\n",
    "import h5py\n",
    "from tomopy import project\n",
    "sys.path.append('/data02/MyArchive/aisteer_3Dencoders/TomoEncoders/tomo_encoders/tasks/sparse_segmenter/')\n",
    "from recon_subvol import fbp_filter, test_recon_patch\n",
    "from tomo_encoders import DataFile, Patches\n",
    "import os\n",
    "import signal\n",
    "import tomocg as pt"
   ]
  },
  {
   "cell_type": "markdown",
   "id": "3bfd64c5",
   "metadata": {},
   "source": [
    "### Read volume data  "
   ]
  },
  {
   "cell_type": "code",
   "execution_count": 2,
   "id": "6fe1856d",
   "metadata": {},
   "outputs": [],
   "source": [
    "# fpath = '/data02/MyArchive/AM_part_Xuan/data/mli_L206_HT_650_L3_rec_1x1_uint16.hdf5' \n",
    "# ds = DataFile(fpath, tiff = False, data_tag = 'data', VERBOSITY = 0)"
   ]
  },
  {
   "cell_type": "code",
   "execution_count": 3,
   "id": "8c08dcab",
   "metadata": {},
   "outputs": [],
   "source": [
    "# # vol, s = ds.read_chunk(axis = 0, slice_start = 0, max_GB = 20.0)\n",
    "# vol = ds.read_full()"
   ]
  },
  {
   "cell_type": "code",
   "execution_count": 5,
   "id": "63456940",
   "metadata": {},
   "outputs": [],
   "source": [
    "from sparse_segmenter import _normalize_volume_gpu"
   ]
  },
  {
   "cell_type": "code",
   "execution_count": 6,
   "id": "e582ceca",
   "metadata": {
    "scrolled": true
   },
   "outputs": [
    {
     "name": "stdout",
     "output_type": "stream",
     "text": [
      "time to find min and max:  22.373850345611572\n",
      "time per 64 size chunk:  3.4836819171905518\n",
      "total time:  62.70650267601013\n"
     ]
    }
   ],
   "source": [
    "vol_out = _normalize_volume_gpu(vol, chunk_size = 64)"
   ]
  },
  {
   "cell_type": "code",
   "execution_count": 19,
   "id": "ee3469cb",
   "metadata": {},
   "outputs": [
    {
     "name": "stdout",
     "output_type": "stream",
     "text": [
      "0.8358852863311768\n"
     ]
    }
   ],
   "source": [
    "t00 = time.time()\n",
    "s1 = cp.cuda.Stream()\n",
    "with s1:\n",
    "    vol_cp = cp.array(vol[:128,...])\n",
    "s1.synchronize()\n",
    "print(time.time() - t00)"
   ]
  },
  {
   "cell_type": "code",
   "execution_count": 16,
   "id": "a2fc0bf9",
   "metadata": {},
   "outputs": [
    {
     "data": {
      "text/plain": [
       "4.0"
      ]
     },
     "execution_count": 16,
     "metadata": {},
     "output_type": "execute_result"
    }
   ],
   "source": [
    "vol_cp.nbytes//1e9"
   ]
  },
  {
   "cell_type": "code",
   "execution_count": 20,
   "id": "4faa0fc9",
   "metadata": {},
   "outputs": [],
   "source": [
    "step = slice(None,None,8)"
   ]
  },
  {
   "cell_type": "code",
   "execution_count": 21,
   "id": "0407ce38",
   "metadata": {},
   "outputs": [
    {
     "data": {
      "text/plain": [
       "1"
      ]
     },
     "execution_count": 21,
     "metadata": {},
     "output_type": "execute_result"
    }
   ],
   "source": [
    "vol[step,step,step].max()"
   ]
  },
  {
   "cell_type": "code",
   "execution_count": null,
   "id": "92928f05",
   "metadata": {},
   "outputs": [],
   "source": []
  },
  {
   "cell_type": "code",
   "execution_count": null,
   "id": "47e9a10a",
   "metadata": {},
   "outputs": [],
   "source": []
  },
  {
   "cell_type": "code",
   "execution_count": null,
   "id": "cc9b0b8d",
   "metadata": {},
   "outputs": [],
   "source": []
  },
  {
   "cell_type": "code",
   "execution_count": null,
   "id": "d5fbc230",
   "metadata": {},
   "outputs": [],
   "source": []
  },
  {
   "cell_type": "code",
   "execution_count": null,
   "id": "fd10fd1c",
   "metadata": {},
   "outputs": [],
   "source": []
  },
  {
   "cell_type": "code",
   "execution_count": 7,
   "id": "b1ca33d3",
   "metadata": {},
   "outputs": [],
   "source": [
    "# how to clear GPU memory after this operation? Need to use for keras"
   ]
  },
  {
   "cell_type": "code",
   "execution_count": null,
   "id": "2d3967f1",
   "metadata": {},
   "outputs": [],
   "source": []
  }
 ],
 "metadata": {
  "kernelspec": {
   "display_name": "Python tf>=2.0",
   "language": "python",
   "name": "tf2gpu"
  },
  "language_info": {
   "codemirror_mode": {
    "name": "ipython",
    "version": 3
   },
   "file_extension": ".py",
   "mimetype": "text/x-python",
   "name": "python",
   "nbconvert_exporter": "python",
   "pygments_lexer": "ipython3",
   "version": "3.7.10"
  }
 },
 "nbformat": 4,
 "nbformat_minor": 5
}
