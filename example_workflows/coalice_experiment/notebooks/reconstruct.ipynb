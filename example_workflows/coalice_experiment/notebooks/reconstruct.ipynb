{
 "cells": [
  {
   "cell_type": "markdown",
   "id": "3128db75",
   "metadata": {},
   "source": [
    "## Reconstruction of coal-ice melting  \n",
    "\n",
    "Author: atekawade@anl.gov, Aniket Tekawade  \n",
    "Data contributor: nikitinvv@anl.gov, Viktor Nikitin  "
   ]
  },
  {
   "cell_type": "code",
   "execution_count": 1,
   "id": "553db4c7",
   "metadata": {},
   "outputs": [],
   "source": [
    "%matplotlib inline\n",
    "import numpy as np\n",
    "import matplotlib.pyplot as plt\n",
    "import os\n",
    "import h5py\n",
    "import sys\n",
    "sys.path.append('../')\n",
    "from recon4D import DataGetter\n",
    "from ct_segnet import viewer\n",
    "from ct_segnet.data_utils.data_io import DataFile"
   ]
  },
  {
   "cell_type": "code",
   "execution_count": 2,
   "id": "13aad514",
   "metadata": {},
   "outputs": [],
   "source": [
    "fnames = ['/data02/MyArchive/coalice/melting_086.h5', \\\n",
    "          '/data02/MyArchive/coalice/flat_fields_melting_086.h5', \\\n",
    "          '/data02/MyArchive/coalice/dark_fields_melting_086.h5']\n",
    "ntheta = 361 # these many projections per 180 degree spin\n",
    "recon_params = {\"mask_ratio\" : None, \\\n",
    "                \"contrast_s\" : 0.01}\n",
    "recon_path = '/data02/MyArchive/coalice/recons'"
   ]
  },
  {
   "cell_type": "code",
   "execution_count": 3,
   "id": "4b6248bb",
   "metadata": {},
   "outputs": [
    {
     "name": "stdout",
     "output_type": "stream",
     "text": [
      "Shape of projection image: (1, 600, 960)\n",
      "center = 471.00\n",
      "center = 471.00\n",
      "center = 471.00\n",
      "center = 471.00\n",
      "center = 471.00\n",
      "center = 471.00\n"
     ]
    }
   ],
   "source": [
    "dget = DataGetter(*fnames, ntheta)\n",
    "idx_list = [0, 720*5, 720*10, 720*15, 720*20, 720*25]\n",
    "\n",
    "for idx in idx_list:\n",
    "    vol_t = dget.reconstruct_window(idx,dget.find_center(idx), **recon_params)\n",
    "    # save it\n",
    "#     fname_tstep = os.path.join(recon_path, \"idx%i.hdf5\"%idx)\n",
    "    fname_tstep = os.path.join(recon_path, \"idx%i\"%idx)\n",
    "    ds = DataFile(fname_tstep, tiff = True, \\\n",
    "                  VERBOSITY = 0, \\\n",
    "                  d_shape = vol_t.shape, \\\n",
    "                  d_type = vol_t.dtype, \\\n",
    "                  chunk_size = 0.001)\n",
    "    ds.create_new(overwrite = True)\n",
    "    ds.write_full(vol_t)"
   ]
  },
  {
   "cell_type": "code",
   "execution_count": 4,
   "id": "1b776ce6",
   "metadata": {
    "scrolled": false
   },
   "outputs": [],
   "source": [
    "# fig, ax = plt.subplots(len(idxs),3, figsize = (14,6*len(idxs)))\n",
    "\n",
    "# for ii, idx in enumerate(idxs):\n",
    "#     ax[ii,0].imshow(rec[int(rec.shape[0]*0.2)], cmap = 'gray')\n",
    "#     ax[ii,1].imshow(rec[int(rec.shape[0]*0.5)], cmap = 'gray')\n",
    "#     ax[ii,2].imshow(rec[int(rec.shape[0]*0.8)], cmap = 'gray')    \n",
    "    "
   ]
  },
  {
   "cell_type": "markdown",
   "id": "bfda863c",
   "metadata": {},
   "source": [
    "### This works like a data generator object  "
   ]
  },
  {
   "cell_type": "code",
   "execution_count": 5,
   "id": "698d4897",
   "metadata": {},
   "outputs": [],
   "source": [
    "# we can assume center remains at 471 throughout.\n",
    "# center = 471\n",
    "# istart_random = 20 # this is like idx_tstep (time dimension), this will be randomly selected in the range(0,20000-361)\n",
    "# vol = dg.reconstruct_window(istart_random,center, **recon_params)"
   ]
  },
  {
   "cell_type": "code",
   "execution_count": 6,
   "id": "388fd169",
   "metadata": {},
   "outputs": [],
   "source": [
    "# here idx is like the \n",
    "# so basically, you can form an Xs as follows"
   ]
  },
  {
   "cell_type": "code",
   "execution_count": 7,
   "id": "fed1b2ef",
   "metadata": {},
   "outputs": [],
   "source": [
    "#Xs = np.asarray([dg.reconstruct_window(istart_random,center, **recon_params) for istart in some_random_range])"
   ]
  },
  {
   "cell_type": "code",
   "execution_count": null,
   "id": "4940bd0e",
   "metadata": {},
   "outputs": [],
   "source": []
  },
  {
   "cell_type": "code",
   "execution_count": null,
   "id": "3c900fe8",
   "metadata": {},
   "outputs": [],
   "source": []
  }
 ],
 "metadata": {
  "kernelspec": {
   "display_name": "Python tf>=2.0",
   "language": "python",
   "name": "tf2gpu"
  },
  "language_info": {
   "codemirror_mode": {
    "name": "ipython",
    "version": 3
   },
   "file_extension": ".py",
   "mimetype": "text/x-python",
   "name": "python",
   "nbconvert_exporter": "python",
   "pygments_lexer": "ipython3",
   "version": "3.7.10"
  }
 },
 "nbformat": 4,
 "nbformat_minor": 5
}
