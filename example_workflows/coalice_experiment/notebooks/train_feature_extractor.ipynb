{
 "cells": [
  {
   "cell_type": "markdown",
   "id": "3128db75",
   "metadata": {},
   "source": [
    "## Reconstruction of coal-ice melting  \n",
    "\n",
    "Author: atekawade@anl.gov, Aniket Tekawade  \n",
    "Data contributor: nikitinvv@anl.gov, Viktor Nikitin  "
   ]
  },
  {
   "cell_type": "code",
   "execution_count": 1,
   "id": "553db4c7",
   "metadata": {},
   "outputs": [],
   "source": [
    "%matplotlib inline\n",
    "import numpy as np\n",
    "import matplotlib.pyplot as plt\n",
    "import os\n",
    "import h5py\n",
    "import sys\n",
    "from ct_segnet import viewer\n",
    "# from features3D import FeatureExtractor4D\n",
    "from tomo_encoders.patches import Patches\n",
    "import tensorflow as tf\n",
    "from tomo_encoders.neural_nets.porosity_encoders import build_CAE_3D\n",
    "sys.path.append('../.')\n",
    "from recon4D import DataGetter\n",
    "import time\n",
    "from features4D import FeatureExtraction4D"
   ]
  },
  {
   "cell_type": "code",
   "execution_count": 2,
   "id": "13aad514",
   "metadata": {},
   "outputs": [],
   "source": [
    "# Reconstruction stuff\n",
    "fnames = ['/data02/MyArchive/coalice/melting_086.h5', \\\n",
    "          '/data02/MyArchive/coalice/flat_fields_melting_086.h5', \\\n",
    "          '/data02/MyArchive/coalice/dark_fields_melting_086.h5']\n",
    "ntheta = 361 # these many projections per 180 degree spin\n",
    "recon_params = {\"mask_ratio\" : None, \\\n",
    "                \"contrast_s\" : 0.01}"
   ]
  },
  {
   "cell_type": "code",
   "execution_count": 3,
   "id": "4b6248bb",
   "metadata": {},
   "outputs": [
    {
     "name": "stdout",
     "output_type": "stream",
     "text": [
      "Shape of projection image: (1, 600, 960)\n",
      "center = 471.00\n"
     ]
    }
   ],
   "source": [
    "dget = DataGetter(*fnames, ntheta)\n",
    "idx = 0\n",
    "vol = dget.reconstruct_window(idx,dget.find_center(idx), **recon_params)\n",
    "# fig, ax = plt.subplots(1,3, figsize = (14,6))\n",
    "# viewer.view_midplanes(vol = vol, ax = ax)   "
   ]
  },
  {
   "cell_type": "markdown",
   "id": "9ab2aaa5",
   "metadata": {},
   "source": [
    "## Train auto-encoder for embedding  "
   ]
  },
  {
   "cell_type": "code",
   "execution_count": 4,
   "id": "35ee3305",
   "metadata": {},
   "outputs": [],
   "source": [
    "# Feature Extraction stuff\n",
    "model_path = '/data02/MyArchive/aisteer_3Dencoders/models/coalice'\n",
    "\n",
    "model_size = (64,64,64)\n",
    "model_params = {\"n_filters\" : [16, 32, 64],\\\n",
    "                \"n_blocks\" : 3,\\\n",
    "                \"activation\" : 'lrelu',\\\n",
    "                \"batch_norm\" : True,\\\n",
    "                \"hidden_units\" : [128, 128],\\\n",
    "                \"isconcat\" : [True, True, True],\\\n",
    "                \"pool_size\" : [2,2,2],\\\n",
    "                \"stdinput\" : False}\n",
    "\n",
    "# model_size = (64,64,64)\n",
    "# model_params = {\"n_filters\" : [32, 64, 128],\\\n",
    "#                 \"n_blocks\" : 3,\\\n",
    "#                 \"activation\" : 'lrelu',\\\n",
    "#                 \"batch_norm\" : True,\\\n",
    "#                 \"hidden_units\" : [128, 32],\\\n",
    "#                 \"isconcat\" : [True, True, True],\\\n",
    "#                 \"pool_size\" : [2,2,2],\\\n",
    "#                 \"stdinput\" : False}\n",
    "\n",
    "training_params = {\"sampling_method\" : \"random-fixed-width\", \\\n",
    "                   \"batch_size\" : 24, \\\n",
    "                   \"n_epochs\" : 5,\\\n",
    "                   \"random_rotate\" : True, \\\n",
    "                   \"add_noise\" : 0.15, \\\n",
    "                   \"max_stride\" : 1}\n",
    "descriptor_tag = 'coal-ice-tzero-bin1'"
   ]
  },
  {
   "cell_type": "code",
   "execution_count": 5,
   "id": "5c6ddce5",
   "metadata": {},
   "outputs": [],
   "source": [
    "fe = FeatureExtraction4D(vol.shape, model_initialization = 'define-new', \\\n",
    "                         model_size = model_size, \\\n",
    "                         descriptor_tag = descriptor_tag, \\\n",
    "                         **model_params)"
   ]
  },
  {
   "cell_type": "code",
   "execution_count": 6,
   "id": "7e1d0625",
   "metadata": {},
   "outputs": [],
   "source": [
    "# vol = fe._normalize_volume(vol)\n",
    "# dg = fe.data_generator(vol, training_params[\"batch_size\"], \\\n",
    "#                        training_params[\"sampling_method\"], \\\n",
    "#                        max_stride = training_params[\"max_stride\"], \\\n",
    "#                        random_rotate = training_params[\"random_rotate\"], \\\n",
    "#                        add_noise = training_params[\"add_noise\"])"
   ]
  },
  {
   "cell_type": "code",
   "execution_count": 7,
   "id": "e31344b0",
   "metadata": {},
   "outputs": [
    {
     "name": "stdout",
     "output_type": "stream",
     "text": [
      "Epoch 1/5\n",
      "16/16 [==============================] - 24s 995ms/step - loss: 0.0147\n",
      "Epoch 2/5\n",
      "16/16 [==============================] - 16s 1s/step - loss: 0.0049\n",
      "Epoch 3/5\n",
      "16/16 [==============================] - 16s 1s/step - loss: 0.0037\n",
      "Epoch 4/5\n",
      "16/16 [==============================] - 16s 1s/step - loss: 0.0032\n",
      "Epoch 5/5\n",
      "16/16 [==============================] - 16s 1s/step - loss: 0.0030\n",
      "training time = 89.53 seconds\n"
     ]
    }
   ],
   "source": [
    "fe.train_CAE_selfsupervised(vol, training_params[\"batch_size\"], \\\n",
    "                            training_params[\"sampling_method\"], \\\n",
    "                            training_params[\"n_epochs\"],\\\n",
    "                            max_stride = training_params[\"max_stride\"], \\\n",
    "                            random_rotate = training_params[\"random_rotate\"], \\\n",
    "                            add_noise = training_params[\"add_noise\"])"
   ]
  },
  {
   "cell_type": "code",
   "execution_count": 8,
   "id": "efb99dcd",
   "metadata": {},
   "outputs": [],
   "source": [
    "fe.save_models(model_path)"
   ]
  },
  {
   "cell_type": "code",
   "execution_count": null,
   "id": "3c900fe8",
   "metadata": {},
   "outputs": [],
   "source": []
  }
 ],
 "metadata": {
  "kernelspec": {
   "display_name": "Python tf>=2.0",
   "language": "python",
   "name": "tf2gpu"
  },
  "language_info": {
   "codemirror_mode": {
    "name": "ipython",
    "version": 3
   },
   "file_extension": ".py",
   "mimetype": "text/x-python",
   "name": "python",
   "nbconvert_exporter": "python",
   "pygments_lexer": "ipython3",
   "version": "3.7.10"
  }
 },
 "nbformat": 4,
 "nbformat_minor": 5
}
